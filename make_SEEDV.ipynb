{
  "nbformat": 4,
  "nbformat_minor": 0,
  "metadata": {
    "colab": {
      "provenance": [],
      "machine_shape": "hm",
      "authorship_tag": "ABX9TyMf3GtBjKQbdNAaafyB1HPE",
      "include_colab_link": true
    },
    "kernelspec": {
      "name": "python3",
      "display_name": "Python 3"
    },
    "language_info": {
      "name": "python"
    },
    "widgets": {
      "application/vnd.jupyter.widget-state+json": {
        "78cc733f3add4adbba644d5943c28186": {
          "model_module": "@jupyter-widgets/output",
          "model_name": "OutputModel",
          "model_module_version": "1.0.0",
          "state": {
            "_dom_classes": [],
            "_model_module": "@jupyter-widgets/output",
            "_model_module_version": "1.0.0",
            "_model_name": "OutputModel",
            "_view_count": null,
            "_view_module": "@jupyter-widgets/output",
            "_view_module_version": "1.0.0",
            "_view_name": "OutputView",
            "layout": "IPY_MODEL_760830172d81491baa85662f605a4328",
            "msg_id": "",
            "outputs": [
              {
                "output_type": "display_data",
                "data": {
                  "text/plain": "\u001b[32m⠹\u001b[0m Waiting for authorization\n",
                  "text/html": "<pre style=\"white-space:pre;overflow-x:auto;line-height:normal;font-family:Menlo,'DejaVu Sans Mono',consolas,'Courier New',monospace\"><span style=\"color: #008000; text-decoration-color: #008000\">⠹</span> Waiting for authorization\n</pre>\n"
                },
                "metadata": {}
              }
            ]
          }
        },
        "760830172d81491baa85662f605a4328": {
          "model_module": "@jupyter-widgets/base",
          "model_name": "LayoutModel",
          "model_module_version": "1.2.0",
          "state": {
            "_model_module": "@jupyter-widgets/base",
            "_model_module_version": "1.2.0",
            "_model_name": "LayoutModel",
            "_view_count": null,
            "_view_module": "@jupyter-widgets/base",
            "_view_module_version": "1.2.0",
            "_view_name": "LayoutView",
            "align_content": null,
            "align_items": null,
            "align_self": null,
            "border": null,
            "bottom": null,
            "display": null,
            "flex": null,
            "flex_flow": null,
            "grid_area": null,
            "grid_auto_columns": null,
            "grid_auto_flow": null,
            "grid_auto_rows": null,
            "grid_column": null,
            "grid_gap": null,
            "grid_row": null,
            "grid_template_areas": null,
            "grid_template_columns": null,
            "grid_template_rows": null,
            "height": null,
            "justify_content": null,
            "justify_items": null,
            "left": null,
            "margin": null,
            "max_height": null,
            "max_width": null,
            "min_height": null,
            "min_width": null,
            "object_fit": null,
            "object_position": null,
            "order": null,
            "overflow": null,
            "overflow_x": null,
            "overflow_y": null,
            "padding": null,
            "right": null,
            "top": null,
            "visibility": null,
            "width": null
          }
        }
      }
    }
  },
  "cells": [
    {
      "cell_type": "markdown",
      "metadata": {
        "id": "view-in-github",
        "colab_type": "text"
      },
      "source": [
        "<a href=\"https://colab.research.google.com/github/ShogoNoguchi/task_CSL/blob/main/make_SEEDV.ipynb\" target=\"_parent\"><img src=\"https://colab.research.google.com/assets/colab-badge.svg\" alt=\"Open In Colab\"/></a>"
      ]
    },
    {
      "cell_type": "markdown",
      "source": [
        "make_SEEDV.py\n",
        "作：群馬大学　野口翔伍\n",
        "\n",
        "細かいエラーハンドリングを致しましたが、7_1_20180411.cntだけがmneで処理できませんでした。"
      ],
      "metadata": {
        "id": "ShCFUnVigfKb"
      }
    },
    {
      "cell_type": "code",
      "execution_count": 1,
      "metadata": {
        "colab": {
          "base_uri": "https://localhost:8080/"
        },
        "id": "ECxizciVlBK5",
        "outputId": "852e610c-5dd6-4386-dd31-ace12a4bb971"
      },
      "outputs": [
        {
          "output_type": "stream",
          "name": "stdout",
          "text": [
            "\u001b[2K   \u001b[90m━━━━━━━━━━━━━━━━━━━━━━━━━━━━━━━━━━━━━━━━\u001b[0m \u001b[32m252.2/252.2 kB\u001b[0m \u001b[31m6.1 MB/s\u001b[0m eta \u001b[36m0:00:00\u001b[0m\n",
            "\u001b[2K   \u001b[90m━━━━━━━━━━━━━━━━━━━━━━━━━━━━━━━━━━━━━━━━\u001b[0m \u001b[32m139.2/139.2 kB\u001b[0m \u001b[31m8.7 MB/s\u001b[0m eta \u001b[36m0:00:00\u001b[0m\n",
            "\u001b[2K   \u001b[90m━━━━━━━━━━━━━━━━━━━━━━━━━━━━━━━━━━━━━━━━\u001b[0m \u001b[32m13.2/13.2 MB\u001b[0m \u001b[31m112.6 MB/s\u001b[0m eta \u001b[36m0:00:00\u001b[0m\n",
            "\u001b[2K   \u001b[90m━━━━━━━━━━━━━━━━━━━━━━━━━━━━━━━━━━━━━━━━\u001b[0m \u001b[32m203.2/203.2 kB\u001b[0m \u001b[31m14.1 MB/s\u001b[0m eta \u001b[36m0:00:00\u001b[0m\n",
            "\u001b[2K   \u001b[90m━━━━━━━━━━━━━━━━━━━━━━━━━━━━━━━━━━━━━━━━\u001b[0m \u001b[32m49.5/49.5 kB\u001b[0m \u001b[31m2.7 MB/s\u001b[0m eta \u001b[36m0:00:00\u001b[0m\n",
            "\u001b[2K   \u001b[90m━━━━━━━━━━━━━━━━━━━━━━━━━━━━━━━━━━━━━━━━\u001b[0m \u001b[32m83.2/83.2 kB\u001b[0m \u001b[31m5.5 MB/s\u001b[0m eta \u001b[36m0:00:00\u001b[0m\n",
            "\u001b[2K   \u001b[90m━━━━━━━━━━━━━━━━━━━━━━━━━━━━━━━━━━━━━━━━\u001b[0m \u001b[32m74.0/74.0 kB\u001b[0m \u001b[31m4.6 MB/s\u001b[0m eta \u001b[36m0:00:00\u001b[0m\n",
            "\u001b[?25h"
          ]
        }
      ],
      "source": [
        "# DagsHubとboto3のインストール\n",
        "%pip install -q dagshub\n"
      ]
    },
    {
      "cell_type": "code",
      "source": [
        "import dagshub.colab\n",
        "DAGSHUB_REPO = dagshub.colab.login()"
      ],
      "metadata": {
        "colab": {
          "base_uri": "https://localhost:8080/",
          "height": 233,
          "referenced_widgets": [
            "78cc733f3add4adbba644d5943c28186",
            "760830172d81491baa85662f605a4328"
          ]
        },
        "id": "zGfatFF-lEfp",
        "outputId": "c127c3a1-5d7f-4a74-90ff-a490b33258f6"
      },
      "execution_count": 2,
      "outputs": [
        {
          "output_type": "display_data",
          "data": {
            "text/plain": [
              "                                       \u001b[1m❗❗❗ AUTHORIZATION REQUIRED ❗❗❗\u001b[0m                                        \n"
            ],
            "text/html": [
              "<pre style=\"white-space:pre;overflow-x:auto;line-height:normal;font-family:Menlo,'DejaVu Sans Mono',consolas,'Courier New',monospace\">                                       <span style=\"font-weight: bold\">❗❗❗ AUTHORIZATION REQUIRED ❗❗❗</span>                                        \n",
              "</pre>\n"
            ]
          },
          "metadata": {}
        },
        {
          "output_type": "stream",
          "name": "stdout",
          "text": [
            "\n",
            "\n",
            "Open the following link in your browser to authorize the client:\n",
            "https://dagshub.com/login/oauth/authorize?state=401ef3b1-5498-4226-ab8e-e5a6b50d9b04&client_id=32b60ba385aa7cecf24046d8195a71c07dd345d9657977863b52e7748e0f0f28&middleman_request_id=9646385f88f89c6f356f9733704cb56a8b6164a32f4768a8e9f86c171ca81c25&referrer=colab\n",
            "\n",
            "\n"
          ]
        },
        {
          "output_type": "display_data",
          "data": {
            "text/plain": [
              "Output()"
            ],
            "application/vnd.jupyter.widget-view+json": {
              "version_major": 2,
              "version_minor": 0,
              "model_id": "78cc733f3add4adbba644d5943c28186"
            }
          },
          "metadata": {}
        },
        {
          "output_type": "display_data",
          "data": {
            "text/plain": [],
            "text/html": [
              "<pre style=\"white-space:pre;overflow-x:auto;line-height:normal;font-family:Menlo,'DejaVu Sans Mono',consolas,'Courier New',monospace\"></pre>\n"
            ]
          },
          "metadata": {}
        },
        {
          "output_type": "display_data",
          "data": {
            "text/plain": [
              "Accessing as t220g139\n"
            ],
            "text/html": [
              "<pre style=\"white-space:pre;overflow-x:auto;line-height:normal;font-family:Menlo,'DejaVu Sans Mono',consolas,'Courier New',monospace\">Accessing as t220g139\n",
              "</pre>\n"
            ]
          },
          "metadata": {}
        },
        {
          "output_type": "stream",
          "name": "stdout",
          "text": [
            "Repository t220g139/dagshub-drive is ready for use with Colab. Link to the repository:\n",
            "https://dagshub.com/t220g139/dagshub-drive\n"
          ]
        }
      ]
    },
    {
      "cell_type": "code",
      "source": [
        "mount_path = dagshub.storage.mount(DAGSHUB_REPO)"
      ],
      "metadata": {
        "colab": {
          "base_uri": "https://localhost:8080/",
          "height": 166
        },
        "id": "wUd2w-9ulLZk",
        "outputId": "dd9c8327-9407-4e73-fe5d-1259df88feb0"
      },
      "execution_count": 3,
      "outputs": [
        {
          "name": "stdout",
          "output_type": "stream",
          "text": [
            "Do you want to install all missing packages?\n",
            "Are you sure [y/(N)]: y\n"
          ]
        },
        {
          "output_type": "display_data",
          "data": {
            "text/plain": [
              "Installing rclone\u001b[33m...\u001b[0m\n"
            ],
            "text/html": [
              "<pre style=\"white-space:pre;overflow-x:auto;line-height:normal;font-family:Menlo,'DejaVu Sans Mono',consolas,'Courier New',monospace\">Installing rclone<span style=\"color: #808000; text-decoration-color: #808000\">...</span>\n",
              "</pre>\n"
            ]
          },
          "metadata": {}
        },
        {
          "output_type": "display_data",
          "data": {
            "text/plain": [
              "rclone installed successfully.\n"
            ],
            "text/html": [
              "<pre style=\"white-space:pre;overflow-x:auto;line-height:normal;font-family:Menlo,'DejaVu Sans Mono',consolas,'Courier New',monospace\">rclone installed successfully.\n",
              "</pre>\n"
            ]
          },
          "metadata": {}
        },
        {
          "output_type": "display_data",
          "data": {
            "text/plain": [
              "Installing fusermount3\u001b[33m...\u001b[0m\n"
            ],
            "text/html": [
              "<pre style=\"white-space:pre;overflow-x:auto;line-height:normal;font-family:Menlo,'DejaVu Sans Mono',consolas,'Courier New',monospace\">Installing fusermount3<span style=\"color: #808000; text-decoration-color: #808000\">...</span>\n",
              "</pre>\n"
            ]
          },
          "metadata": {}
        },
        {
          "output_type": "display_data",
          "data": {
            "text/plain": [
              "fusermount3 installed successfully.\n"
            ],
            "text/html": [
              "<pre style=\"white-space:pre;overflow-x:auto;line-height:normal;font-family:Menlo,'DejaVu Sans Mono',consolas,'Courier New',monospace\">fusermount3 installed successfully.\n",
              "</pre>\n"
            ]
          },
          "metadata": {}
        },
        {
          "output_type": "display_data",
          "data": {
            "text/plain": [
              "Successfully mounted DagsHub Storage in \u001b[32m'dagshub-drive'\u001b[0m to \u001b[32m'dagshub-drive/dagshub_storage'\u001b[0m.\n"
            ],
            "text/html": [
              "<pre style=\"white-space:pre;overflow-x:auto;line-height:normal;font-family:Menlo,'DejaVu Sans Mono',consolas,'Courier New',monospace\">Successfully mounted DagsHub Storage in <span style=\"color: #008000; text-decoration-color: #008000\">'dagshub-drive'</span> to <span style=\"color: #008000; text-decoration-color: #008000\">'dagshub-drive/dagshub_storage'</span>.\n",
              "</pre>\n"
            ]
          },
          "metadata": {}
        },
        {
          "output_type": "display_data",
          "data": {
            "text/plain": [
              "To unmount, run `\u001b[1;35mdagshub.storage.unmount\u001b[0m\u001b[1m(\u001b[0m\u001b[33mrepo\u001b[0m=\u001b[32m\"t220g139\u001b[0m\u001b[32m/dagshub-drive\"\u001b[0m, \u001b[33mpath\u001b[0m=\u001b[32m\"dagshub\u001b[0m\u001b[32m-drive/dagshub_storage\"\u001b[0m\u001b[1m)\u001b[0m`.\n"
            ],
            "text/html": [
              "<pre style=\"white-space:pre;overflow-x:auto;line-height:normal;font-family:Menlo,'DejaVu Sans Mono',consolas,'Courier New',monospace\">To unmount, run `<span style=\"color: #800080; text-decoration-color: #800080; font-weight: bold\">dagshub.storage.unmount</span><span style=\"font-weight: bold\">(</span><span style=\"color: #808000; text-decoration-color: #808000\">repo</span>=<span style=\"color: #008000; text-decoration-color: #008000\">\"t220g139/dagshub-drive\"</span>, <span style=\"color: #808000; text-decoration-color: #808000\">path</span>=<span style=\"color: #008000; text-decoration-color: #008000\">\"dagshub-drive/dagshub_storage\"</span><span style=\"font-weight: bold\">)</span>`.\n",
              "</pre>\n"
            ]
          },
          "metadata": {}
        }
      ]
    },
    {
      "cell_type": "code",
      "source": [
        "# 必要なライブラリのインストール\n",
        "!pip install mne --upgrade\n",
        "\n",
        "# 必要なライブラリのインポート\n",
        "import mne\n",
        "import numpy as np\n",
        "import os\n",
        "import pickle\n",
        "import glob\n",
        "import logging\n",
        "from datetime import datetime, timezone\n",
        "\n"
      ],
      "metadata": {
        "colab": {
          "base_uri": "https://localhost:8080/"
        },
        "id": "n5YH1sYtlQ2o",
        "outputId": "7c7b102f-d42b-4753-de59-c3770ecb09ca"
      },
      "execution_count": 4,
      "outputs": [
        {
          "output_type": "stream",
          "name": "stdout",
          "text": [
            "Collecting mne\n",
            "  Downloading mne-1.8.0-py3-none-any.whl.metadata (21 kB)\n",
            "Requirement already satisfied: decorator in /usr/local/lib/python3.10/dist-packages (from mne) (4.4.2)\n",
            "Requirement already satisfied: jinja2 in /usr/local/lib/python3.10/dist-packages (from mne) (3.1.4)\n",
            "Requirement already satisfied: lazy-loader>=0.3 in /usr/local/lib/python3.10/dist-packages (from mne) (0.4)\n",
            "Requirement already satisfied: matplotlib>=3.6 in /usr/local/lib/python3.10/dist-packages (from mne) (3.8.0)\n",
            "Requirement already satisfied: numpy<3,>=1.23 in /usr/local/lib/python3.10/dist-packages (from mne) (1.26.4)\n",
            "Requirement already satisfied: packaging in /usr/local/lib/python3.10/dist-packages (from mne) (24.2)\n",
            "Requirement already satisfied: pooch>=1.5 in /usr/local/lib/python3.10/dist-packages (from mne) (1.8.2)\n",
            "Requirement already satisfied: scipy>=1.9 in /usr/local/lib/python3.10/dist-packages (from mne) (1.13.1)\n",
            "Requirement already satisfied: tqdm in /usr/local/lib/python3.10/dist-packages (from mne) (4.66.6)\n",
            "Requirement already satisfied: contourpy>=1.0.1 in /usr/local/lib/python3.10/dist-packages (from matplotlib>=3.6->mne) (1.3.1)\n",
            "Requirement already satisfied: cycler>=0.10 in /usr/local/lib/python3.10/dist-packages (from matplotlib>=3.6->mne) (0.12.1)\n",
            "Requirement already satisfied: fonttools>=4.22.0 in /usr/local/lib/python3.10/dist-packages (from matplotlib>=3.6->mne) (4.55.1)\n",
            "Requirement already satisfied: kiwisolver>=1.0.1 in /usr/local/lib/python3.10/dist-packages (from matplotlib>=3.6->mne) (1.4.7)\n",
            "Requirement already satisfied: pillow>=6.2.0 in /usr/local/lib/python3.10/dist-packages (from matplotlib>=3.6->mne) (11.0.0)\n",
            "Requirement already satisfied: pyparsing>=2.3.1 in /usr/local/lib/python3.10/dist-packages (from matplotlib>=3.6->mne) (3.2.0)\n",
            "Requirement already satisfied: python-dateutil>=2.7 in /usr/local/lib/python3.10/dist-packages (from matplotlib>=3.6->mne) (2.8.2)\n",
            "Requirement already satisfied: platformdirs>=2.5.0 in /usr/local/lib/python3.10/dist-packages (from pooch>=1.5->mne) (4.3.6)\n",
            "Requirement already satisfied: requests>=2.19.0 in /usr/local/lib/python3.10/dist-packages (from pooch>=1.5->mne) (2.32.3)\n",
            "Requirement already satisfied: MarkupSafe>=2.0 in /usr/local/lib/python3.10/dist-packages (from jinja2->mne) (3.0.2)\n",
            "Requirement already satisfied: six>=1.5 in /usr/local/lib/python3.10/dist-packages (from python-dateutil>=2.7->matplotlib>=3.6->mne) (1.16.0)\n",
            "Requirement already satisfied: charset-normalizer<4,>=2 in /usr/local/lib/python3.10/dist-packages (from requests>=2.19.0->pooch>=1.5->mne) (3.4.0)\n",
            "Requirement already satisfied: idna<4,>=2.5 in /usr/local/lib/python3.10/dist-packages (from requests>=2.19.0->pooch>=1.5->mne) (3.10)\n",
            "Requirement already satisfied: urllib3<3,>=1.21.1 in /usr/local/lib/python3.10/dist-packages (from requests>=2.19.0->pooch>=1.5->mne) (2.2.3)\n",
            "Requirement already satisfied: certifi>=2017.4.17 in /usr/local/lib/python3.10/dist-packages (from requests>=2.19.0->pooch>=1.5->mne) (2024.8.30)\n",
            "Downloading mne-1.8.0-py3-none-any.whl (7.4 MB)\n",
            "\u001b[2K   \u001b[90m━━━━━━━━━━━━━━━━━━━━━━━━━━━━━━━━━━━━━━━━\u001b[0m \u001b[32m7.4/7.4 MB\u001b[0m \u001b[31m61.3 MB/s\u001b[0m eta \u001b[36m0:00:00\u001b[0m\n",
            "\u001b[?25hInstalling collected packages: mne\n",
            "Successfully installed mne-1.8.0\n"
          ]
        }
      ]
    },
    {
      "cell_type": "code",
      "source": [
        "# 必要なライブラリのインストール\n",
        "!pip install mne --upgrade\n",
        "!pip install dagshub --upgrade  # DagsHub CLIのインストール（必要に応じて）\n",
        "\n",
        "# 必要なライブラリのインポート\n",
        "import mne\n",
        "import numpy as np\n",
        "import os\n",
        "import pickle\n",
        "import glob\n",
        "import logging\n",
        "from datetime import datetime, timezone\n",
        "import dagshub.colab\n",
        "\n",
        "# DagsHubへのログイン（既に実行済みと仮定）\n",
        "DAGSHUB_REPO = dagshub.colab.login()\n",
        "\n",
        "# ディレクトリの設定\n",
        "raw_dir = \"/content/dagshub-drive/dagshub_storage/EEG_raw\"\n",
        "output_dir = \"/content/processed/\"\n",
        "\n",
        "# 出力ディレクトリの作成\n",
        "if not os.path.exists(output_dir):\n",
        "    os.makedirs(output_dir)\n",
        "    print(f\"Created directory: {output_dir}\")\n",
        "\n",
        "for folder in [\"processed_train\", \"processed_eval\", \"processed_test\"]:\n",
        "    folder_path = os.path.join(output_dir, folder)\n",
        "    if not os.path.exists(folder_path):\n",
        "        os.makedirs(folder_path)\n",
        "        print(f\"Created folder: {folder_path}\")\n",
        "\n",
        "# ログ設定\n",
        "logger = logging.getLogger()\n",
        "logger.setLevel(logging.INFO)\n",
        "\n",
        "# ログフォーマットの設定\n",
        "formatter = logging.Formatter('%(asctime)s - %(levelname)s - %(message)s')\n",
        "\n",
        "# ファイルハンドラの作成\n",
        "log_file_path = os.path.join(output_dir, 'processing.log')\n",
        "file_handler = logging.FileHandler(log_file_path)\n",
        "file_handler.setLevel(logging.INFO)\n",
        "file_handler.setFormatter(formatter)\n",
        "\n",
        "# ストリームハンドラの作成（コンソール出力）\n",
        "stream_handler = logging.StreamHandler()\n",
        "stream_handler.setLevel(logging.INFO)\n",
        "stream_handler.setFormatter(formatter)\n",
        "\n",
        "# ハンドラをロガーに追加（重複追加を防ぐ）\n",
        "if not logger.handlers:\n",
        "    logger.addHandler(file_handler)\n",
        "    logger.addHandler(stream_handler)\n",
        "\n",
        "# 不要なチャンネルのリスト\n",
        "useless_ch = ['M1', 'M2', 'VEO', 'HEO', 'EKG', 'ECG']\n",
        "\n",
        "# 標準チャンネル順序\n",
        "chOrder_standard = [\n",
        "    'FP1', 'FPZ', 'FP2', 'AF3', 'AF4', 'F7', 'F5', 'F3', 'F1', 'FZ', 'F2', 'F4', 'F6', 'F8',\n",
        "    'FT7', 'FC5', 'FC3', 'FC1', 'FCZ', 'FC2', 'FC4', 'FC6', 'FT8', 'T7', 'C5', 'C3', 'C1',\n",
        "    'CZ', 'C2', 'C4', 'C6', 'T8', 'TP7', 'CP5', 'CP3', 'CP1', 'CPZ', 'CP2', 'CP4', 'CP6',\n",
        "    'TP8', 'P7', 'P5', 'P3', 'P1', 'PZ', 'P2', 'P4', 'P6', 'P8', 'PO7', 'PO5', 'PO3', 'POZ',\n",
        "    'PO4', 'PO6', 'PO8', 'CB1', 'O1', 'OZ', 'O2', 'CB2'\n",
        "]\n",
        "\n",
        "# トライアル境界（秒単位）\n",
        "session_starts = {\n",
        "    1: [30, 132, 287, 555, 773, 982, 1271, 1628, 1730, 2025, 2227, 2435, 2667, 2932, 3204],\n",
        "    2: [30, 299, 548, 646, 836, 1000, 1091, 1392, 1657, 1809, 1966, 2186, 2333, 2490, 2741],\n",
        "    3: [30, 353, 478, 674, 825, 908, 1200, 1346, 1451, 1711, 2055, 2307, 2457, 2726, 2888]\n",
        "}\n",
        "session_ends = {\n",
        "    1: [102, 228, 524, 742, 920, 1240, 1568, 1697, 1994, 2166, 2401, 2607, 2901, 3172, 3359],\n",
        "    2: [267, 488, 614, 773, 967, 1059, 1331, 1622, 1777, 1908, 2153, 2302, 2428, 2709, 2817],\n",
        "    3: [321, 418, 643, 764, 877, 1147, 1284, 1418, 1679, 1996, 2275, 2425, 2664, 2857, 3066]\n",
        "}\n",
        "\n",
        "# セッションごとの感情ラベル\n",
        "emotions_session1 = [\"happy\", \"fear\", \"neutral\", \"sad\", \"disgust\", \"happy\", \"fear\", \"neutral\", \"sad\", \"disgust\", \"happy\", \"fear\", \"neutral\", \"sad\", \"disgust\"]\n",
        "emotions_session2 = [\"sad\", \"fear\", \"neutral\", \"disgust\", \"happy\", \"happy\", \"disgust\", \"neutral\", \"sad\", \"fear\", \"neutral\", \"happy\", \"fear\", \"sad\", \"disgust\"]\n",
        "emotions_session3 = [\"sad\", \"fear\", \"neutral\", \"disgust\", \"happy\", \"happy\", \"disgust\", \"neutral\", \"sad\", \"fear\", \"neutral\", \"happy\", \"fear\", \"sad\", \"disgust\"]\n",
        "\n",
        "# 感情ラベルのマッピング\n",
        "emo2id = {\"disgust\": 0, \"fear\": 1, \"sad\": 2, \"neutral\": 3, \"happy\": 4}\n",
        "\n",
        "# .cntファイルの取得\n",
        "cnt_files = glob.glob(os.path.join(raw_dir, \"*.cnt\"))\n",
        "\n",
        "# サンプリング周波数\n",
        "sfreq = 200\n",
        "\n",
        "# スキップされたファイルを記録するリスト\n",
        "skipped_files = []\n",
        "\n",
        "# 処理済みファイル数のカウント\n",
        "processed_files_count = 0\n",
        "\n",
        "# スクリプトの開始をログに記録\n",
        "logger.info(\"EEGデータ処理を開始します。\")\n",
        "\n",
        "for cnt_file in cnt_files:\n",
        "    fname = os.path.basename(cnt_file)\n",
        "    parts = fname.split('_')\n",
        "\n",
        "    # ファイル名から被験者IDとセッションIDを解析\n",
        "    if len(parts) < 3:\n",
        "        logger.warning(f\"Filename {fname} does not conform to expected format. Skipping this file.\")\n",
        "        skipped_files.append(fname)\n",
        "        continue\n",
        "\n",
        "    subject_id = parts[0]\n",
        "    try:\n",
        "        ses_id = int(parts[1])\n",
        "    except ValueError:\n",
        "        logger.warning(f\"Session ID in filename {fname} is not an integer. Skipping this file.\")\n",
        "        skipped_files.append(fname)\n",
        "        continue\n",
        "\n",
        "    # 日付部分を抽出（例：2_3_20180425.cnt -> 20180425）\n",
        "    date_str = parts[-1].split('.')[0]\n",
        "    try:\n",
        "        meas_datetime = datetime.strptime(date_str, '%Y%m%d')\n",
        "    except ValueError as e:\n",
        "        logger.warning(f\"Date parsing failed for {fname}: {e}. Setting meas_date to None.\")\n",
        "        meas_datetime = None\n",
        "\n",
        "    # セッションIDに対応する開始・終了時間を取得\n",
        "    starts = session_starts.get(ses_id)\n",
        "    ends = session_ends.get(ses_id)\n",
        "    if not starts or not ends:\n",
        "        logger.warning(f\"No session boundaries defined for session {ses_id} in {fname}. Skipping.\")\n",
        "        skipped_files.append(fname)\n",
        "        continue\n",
        "\n",
        "    # セッションに対応する感情ラベルの取得\n",
        "    emotions = {\n",
        "        1: emotions_session1,\n",
        "        2: emotions_session2,\n",
        "        3: emotions_session3\n",
        "    }.get(ses_id, [])\n",
        "\n",
        "    if len(emotions) != 15:\n",
        "        logger.warning(f\"Emotion list length mismatch for session {ses_id} in {fname}. Skipping.\")\n",
        "        skipped_files.append(fname)\n",
        "        continue\n",
        "\n",
        "    # .cntファイルの読み込み（date_formatを適切に処理）\n",
        "    read_success = False\n",
        "    for fmt in ['mm/dd/yy', 'dd/mm/yy']:\n",
        "        try:\n",
        "            raw = mne.io.read_raw_cnt(\n",
        "                cnt_file,\n",
        "                preload=True,\n",
        "                date_format=fmt,\n",
        "                data_format='int16',  # 必要に応じて 'auto' から 'int16' に変更\n",
        "                verbose='ERROR'  # エラーメッセージのみ表示\n",
        "            )\n",
        "            logger.info(f\"Successfully loaded {fname} with date_format='{fmt}'.\")\n",
        "            read_success = True\n",
        "            break\n",
        "        except ValueError as e:\n",
        "            logger.warning(f\"Failed to load {fname} with date_format='{fmt}': {e}. Trying next format.\")\n",
        "        except Exception as e:\n",
        "            logger.error(f\"Unexpected error while loading {fname} with date_format='{fmt}': {e}.\")\n",
        "            break  # その他のエラーの場合はループを抜ける\n",
        "\n",
        "    if not read_success:\n",
        "        logger.error(f\"Failed to load {fname} with any supported date_format. Skipping this file.\")\n",
        "        skipped_files.append(fname)\n",
        "        continue\n",
        "\n",
        "    # 測定日が設定されていない場合、手動で設定\n",
        "    if raw.info['meas_date'] is None and meas_datetime is not None:\n",
        "        try:\n",
        "            # meas_datetime を UTC に変換\n",
        "            meas_datetime_utc = meas_datetime.replace(tzinfo=timezone.utc)\n",
        "            # Unixタイムスタンプ（秒）を取得\n",
        "            meas_timestamp = meas_datetime_utc.timestamp()\n",
        "            raw.set_meas_date(meas_timestamp)\n",
        "            logger.info(f\"Set meas_date for {fname} to {meas_datetime_utc} (UTC).\")\n",
        "        except Exception as e:\n",
        "            logger.warning(f\"Failed to set meas_date for {fname}: {e}. Proceeding without it.\")\n",
        "    elif raw.info['meas_date'] is None and meas_datetime is None:\n",
        "        logger.info(f\"meas_date is not set for {fname}, proceeding without it.\")\n",
        "\n",
        "    # 不要チャンネル除去\n",
        "    available_ch = raw.ch_names\n",
        "    drop_ch = [ch for ch in useless_ch if ch in available_ch]\n",
        "    if drop_ch:\n",
        "        raw.drop_channels(drop_ch)\n",
        "        logger.info(f\"Dropped channels {drop_ch} from {fname}.\")\n",
        "\n",
        "    # 必要チャンネル確認\n",
        "    missing_ch = [ch for ch in chOrder_standard if ch not in raw.ch_names]\n",
        "    if missing_ch:\n",
        "        logger.warning(f\"Missing channels {missing_ch} in {fname}. Skipping this file.\")\n",
        "        skipped_files.append(fname)\n",
        "        continue\n",
        "\n",
        "    # チャンネル並び替え\n",
        "    try:\n",
        "        raw.reorder_channels(chOrder_standard)\n",
        "        logger.info(f\"Reordered channels for {fname}.\")\n",
        "    except Exception as e:\n",
        "        logger.error(f\"Failed to reorder channels for {fname}: {e}. Skipping this file.\")\n",
        "        skipped_files.append(fname)\n",
        "        continue\n",
        "\n",
        "    try:\n",
        "        # フィルタリング\n",
        "        logger.info(f\"Filtering raw data for {fname}: Band-pass 0.1 - 75 Hz, Notch 50 Hz\")\n",
        "        raw.filter(l_freq=0.1, h_freq=75.0, fir_design='firwin')\n",
        "        raw.notch_filter(freqs=50.0, fir_design='firwin')\n",
        "        raw.resample(sfreq, n_jobs=1)\n",
        "        data = raw.get_data(units='uV')\n",
        "        logger.info(f\"Filtered and resampled data for {fname}.\")\n",
        "    except Exception as e:\n",
        "        logger.error(f\"Filtering or resampling failed for {fname}: {e}. Skipping this file.\")\n",
        "        skipped_files.append(fname)\n",
        "        continue\n",
        "\n",
        "    # 各トライアルの処理\n",
        "    for t_i in range(15):\n",
        "        try:\n",
        "            start_sample = starts[t_i] * sfreq\n",
        "            end_sample = ends[t_i] * sfreq\n",
        "            trial_data = data[:, start_sample:end_sample]\n",
        "            y = emo2id.get(emotions[t_i], -1)\n",
        "            if y == -1:\n",
        "                logger.warning(f\"Unknown emotion '{emotions[t_i]}' in {fname}. Skipping trial.\")\n",
        "                continue\n",
        "\n",
        "            length = trial_data.shape[1]\n",
        "            num_segments = length // 200\n",
        "\n",
        "            trial_id = t_i + 1\n",
        "            if trial_id <= 5:\n",
        "                split_folder = \"processed_train\"\n",
        "            elif trial_id <= 10:\n",
        "                split_folder = \"processed_eval\"\n",
        "            else:\n",
        "                split_folder = \"processed_test\"\n",
        "\n",
        "            for seg_i in range(num_segments):\n",
        "                seg_data = trial_data[:, seg_i * 200:(seg_i + 1) * 200]\n",
        "                sample_dict = {\"X\": seg_data, \"y\": y, \"ch_names\": chOrder_standard}\n",
        "                out_name = f\"{subject_id}_{ses_id}_{trial_id}_{seg_i}.pkl\"\n",
        "                with open(os.path.join(output_dir, split_folder, out_name), \"wb\") as f:\n",
        "                    pickle.dump(sample_dict, f)\n",
        "            logger.info(f\"Processed trial {trial_id} of {fname}.\")\n",
        "        except IndexError as e:\n",
        "            logger.error(f\"Index error in trial {t_i+1} for {fname}: {e}. Skipping this trial.\")\n",
        "            continue\n",
        "        except Exception as e:\n",
        "            logger.error(f\"Unexpected error in trial {t_i+1} for {fname}: {e}. Skipping this trial.\")\n",
        "            continue\n",
        "\n",
        "    processed_files_count += 1\n",
        "    logger.info(f\"Successfully processed {fname}.\")\n",
        "\n",
        "# スキップされたファイルの一覧を出力\n",
        "if skipped_files:\n",
        "    logger.info(\"以下のファイルがスキップされました：\")\n",
        "    for skipped in skipped_files:\n",
        "        logger.info(f\"- {skipped}\")\n",
        "    logger.info(f\"Total skipped files: {len(skipped_files)}\")\n",
        "else:\n",
        "    logger.info(\"すべてのファイルが正常に処理されました。\")\n",
        "\n",
        "logger.info(f\"Total processed files: {processed_files_count}\")\n",
        "\n",
        "print(\"All data processed for SEED-V with channel reordering.\")\n",
        "\n",
        "# 全ての処理が終了したら、DagsHubにアップロード（私が使用している機械学習用データストレージです。）\n",
        "LOCAL_PATH = \"/content/processed/\"\n",
        "PATH_IN_BUCKET = \"processed/\"\n",
        "\n",
        "# アップロードコマンドの実行\n",
        "!dagshub upload {DAGSHUB_REPO} {LOCAL_PATH} {PATH_IN_BUCKET} --bucket\n"
      ],
      "metadata": {
        "colab": {
          "base_uri": "https://localhost:8080/"
        },
        "id": "uvrPv7CcmHzw",
        "outputId": "d75cc1a5-f559-4896-8ee4-7496777a7da7"
      },
      "execution_count": 5,
      "outputs": [
        {
          "output_type": "stream",
          "name": "stdout",
          "text": [
            "Requirement already satisfied: mne in /usr/local/lib/python3.10/dist-packages (1.8.0)\n",
            "Requirement already satisfied: decorator in /usr/local/lib/python3.10/dist-packages (from mne) (4.4.2)\n",
            "Requirement already satisfied: jinja2 in /usr/local/lib/python3.10/dist-packages (from mne) (3.1.4)\n",
            "Requirement already satisfied: lazy-loader>=0.3 in /usr/local/lib/python3.10/dist-packages (from mne) (0.4)\n",
            "Requirement already satisfied: matplotlib>=3.6 in /usr/local/lib/python3.10/dist-packages (from mne) (3.8.0)\n",
            "Requirement already satisfied: numpy<3,>=1.23 in /usr/local/lib/python3.10/dist-packages (from mne) (1.26.4)\n",
            "Requirement already satisfied: packaging in /usr/local/lib/python3.10/dist-packages (from mne) (24.2)\n",
            "Requirement already satisfied: pooch>=1.5 in /usr/local/lib/python3.10/dist-packages (from mne) (1.8.2)\n",
            "Requirement already satisfied: scipy>=1.9 in /usr/local/lib/python3.10/dist-packages (from mne) (1.13.1)\n",
            "Requirement already satisfied: tqdm in /usr/local/lib/python3.10/dist-packages (from mne) (4.66.6)\n",
            "Requirement already satisfied: contourpy>=1.0.1 in /usr/local/lib/python3.10/dist-packages (from matplotlib>=3.6->mne) (1.3.1)\n",
            "Requirement already satisfied: cycler>=0.10 in /usr/local/lib/python3.10/dist-packages (from matplotlib>=3.6->mne) (0.12.1)\n",
            "Requirement already satisfied: fonttools>=4.22.0 in /usr/local/lib/python3.10/dist-packages (from matplotlib>=3.6->mne) (4.55.1)\n",
            "Requirement already satisfied: kiwisolver>=1.0.1 in /usr/local/lib/python3.10/dist-packages (from matplotlib>=3.6->mne) (1.4.7)\n",
            "Requirement already satisfied: pillow>=6.2.0 in /usr/local/lib/python3.10/dist-packages (from matplotlib>=3.6->mne) (11.0.0)\n",
            "Requirement already satisfied: pyparsing>=2.3.1 in /usr/local/lib/python3.10/dist-packages (from matplotlib>=3.6->mne) (3.2.0)\n",
            "Requirement already satisfied: python-dateutil>=2.7 in /usr/local/lib/python3.10/dist-packages (from matplotlib>=3.6->mne) (2.8.2)\n",
            "Requirement already satisfied: platformdirs>=2.5.0 in /usr/local/lib/python3.10/dist-packages (from pooch>=1.5->mne) (4.3.6)\n",
            "Requirement already satisfied: requests>=2.19.0 in /usr/local/lib/python3.10/dist-packages (from pooch>=1.5->mne) (2.32.3)\n",
            "Requirement already satisfied: MarkupSafe>=2.0 in /usr/local/lib/python3.10/dist-packages (from jinja2->mne) (3.0.2)\n",
            "Requirement already satisfied: six>=1.5 in /usr/local/lib/python3.10/dist-packages (from python-dateutil>=2.7->matplotlib>=3.6->mne) (1.16.0)\n",
            "Requirement already satisfied: charset-normalizer<4,>=2 in /usr/local/lib/python3.10/dist-packages (from requests>=2.19.0->pooch>=1.5->mne) (3.4.0)\n",
            "Requirement already satisfied: idna<4,>=2.5 in /usr/local/lib/python3.10/dist-packages (from requests>=2.19.0->pooch>=1.5->mne) (3.10)\n",
            "Requirement already satisfied: urllib3<3,>=1.21.1 in /usr/local/lib/python3.10/dist-packages (from requests>=2.19.0->pooch>=1.5->mne) (2.2.3)\n",
            "Requirement already satisfied: certifi>=2017.4.17 in /usr/local/lib/python3.10/dist-packages (from requests>=2.19.0->pooch>=1.5->mne) (2024.8.30)\n",
            "Requirement already satisfied: dagshub in /usr/local/lib/python3.10/dist-packages (0.3.45)\n",
            "Requirement already satisfied: PyYAML>=5 in /usr/local/lib/python3.10/dist-packages (from dagshub) (6.0.2)\n",
            "Requirement already satisfied: appdirs>=1.4.4 in /usr/local/lib/python3.10/dist-packages (from dagshub) (1.4.4)\n",
            "Requirement already satisfied: click>=8.0.4 in /usr/local/lib/python3.10/dist-packages (from dagshub) (8.1.7)\n",
            "Requirement already satisfied: httpx>=0.23.0 in /usr/local/lib/python3.10/dist-packages (from dagshub) (0.28.0)\n",
            "Requirement already satisfied: GitPython>=3.1.29 in /usr/local/lib/python3.10/dist-packages (from dagshub) (3.1.43)\n",
            "Requirement already satisfied: rich>=13.1.0 in /usr/local/lib/python3.10/dist-packages (from dagshub) (13.9.4)\n",
            "Requirement already satisfied: dacite~=1.6.0 in /usr/local/lib/python3.10/dist-packages (from dagshub) (1.6.0)\n",
            "Requirement already satisfied: tenacity>=8.2.2 in /usr/local/lib/python3.10/dist-packages (from dagshub) (9.0.0)\n",
            "Requirement already satisfied: gql[requests] in /usr/local/lib/python3.10/dist-packages (from dagshub) (3.5.0)\n",
            "Requirement already satisfied: dataclasses-json in /usr/local/lib/python3.10/dist-packages (from dagshub) (0.6.7)\n",
            "Requirement already satisfied: pandas in /usr/local/lib/python3.10/dist-packages (from dagshub) (2.2.2)\n",
            "Requirement already satisfied: treelib>=1.6.4 in /usr/local/lib/python3.10/dist-packages (from dagshub) (1.7.0)\n",
            "Requirement already satisfied: pathvalidate>=3.0.0 in /usr/local/lib/python3.10/dist-packages (from dagshub) (3.2.1)\n",
            "Requirement already satisfied: python-dateutil in /usr/local/lib/python3.10/dist-packages (from dagshub) (2.8.2)\n",
            "Requirement already satisfied: boto3 in /usr/local/lib/python3.10/dist-packages (from dagshub) (1.35.76)\n",
            "Requirement already satisfied: dagshub-annotation-converter>=0.1.0 in /usr/local/lib/python3.10/dist-packages (from dagshub) (0.1.2)\n",
            "Requirement already satisfied: lxml in /usr/local/lib/python3.10/dist-packages (from dagshub-annotation-converter>=0.1.0->dagshub) (5.3.0)\n",
            "Requirement already satisfied: pillow in /usr/local/lib/python3.10/dist-packages (from dagshub-annotation-converter>=0.1.0->dagshub) (11.0.0)\n",
            "Requirement already satisfied: pydantic>=2.0.0 in /usr/local/lib/python3.10/dist-packages (from dagshub-annotation-converter>=0.1.0->dagshub) (2.10.3)\n",
            "Requirement already satisfied: typing-extensions in /usr/local/lib/python3.10/dist-packages (from dagshub-annotation-converter>=0.1.0->dagshub) (4.12.2)\n",
            "Requirement already satisfied: gitdb<5,>=4.0.1 in /usr/local/lib/python3.10/dist-packages (from GitPython>=3.1.29->dagshub) (4.0.11)\n",
            "Requirement already satisfied: anyio in /usr/local/lib/python3.10/dist-packages (from httpx>=0.23.0->dagshub) (3.7.1)\n",
            "Requirement already satisfied: certifi in /usr/local/lib/python3.10/dist-packages (from httpx>=0.23.0->dagshub) (2024.8.30)\n",
            "Requirement already satisfied: httpcore==1.* in /usr/local/lib/python3.10/dist-packages (from httpx>=0.23.0->dagshub) (1.0.7)\n",
            "Requirement already satisfied: idna in /usr/local/lib/python3.10/dist-packages (from httpx>=0.23.0->dagshub) (3.10)\n",
            "Requirement already satisfied: h11<0.15,>=0.13 in /usr/local/lib/python3.10/dist-packages (from httpcore==1.*->httpx>=0.23.0->dagshub) (0.14.0)\n",
            "Requirement already satisfied: markdown-it-py>=2.2.0 in /usr/local/lib/python3.10/dist-packages (from rich>=13.1.0->dagshub) (3.0.0)\n",
            "Requirement already satisfied: pygments<3.0.0,>=2.13.0 in /usr/local/lib/python3.10/dist-packages (from rich>=13.1.0->dagshub) (2.18.0)\n",
            "Requirement already satisfied: six in /usr/local/lib/python3.10/dist-packages (from treelib>=1.6.4->dagshub) (1.16.0)\n",
            "Requirement already satisfied: botocore<1.36.0,>=1.35.76 in /usr/local/lib/python3.10/dist-packages (from boto3->dagshub) (1.35.76)\n",
            "Requirement already satisfied: jmespath<2.0.0,>=0.7.1 in /usr/local/lib/python3.10/dist-packages (from boto3->dagshub) (1.0.1)\n",
            "Requirement already satisfied: s3transfer<0.11.0,>=0.10.0 in /usr/local/lib/python3.10/dist-packages (from boto3->dagshub) (0.10.4)\n",
            "Requirement already satisfied: marshmallow<4.0.0,>=3.18.0 in /usr/local/lib/python3.10/dist-packages (from dataclasses-json->dagshub) (3.23.1)\n",
            "Requirement already satisfied: typing-inspect<1,>=0.4.0 in /usr/local/lib/python3.10/dist-packages (from dataclasses-json->dagshub) (0.9.0)\n",
            "Requirement already satisfied: graphql-core<3.3,>=3.2 in /usr/local/lib/python3.10/dist-packages (from gql[requests]->dagshub) (3.2.5)\n",
            "Requirement already satisfied: yarl<2.0,>=1.6 in /usr/local/lib/python3.10/dist-packages (from gql[requests]->dagshub) (1.18.3)\n",
            "Requirement already satisfied: backoff<3.0,>=1.11.1 in /usr/local/lib/python3.10/dist-packages (from gql[requests]->dagshub) (2.2.1)\n",
            "Requirement already satisfied: requests<3,>=2.26 in /usr/local/lib/python3.10/dist-packages (from gql[requests]->dagshub) (2.32.3)\n",
            "Requirement already satisfied: requests-toolbelt<2,>=1.0.0 in /usr/local/lib/python3.10/dist-packages (from gql[requests]->dagshub) (1.0.0)\n",
            "Requirement already satisfied: numpy>=1.22.4 in /usr/local/lib/python3.10/dist-packages (from pandas->dagshub) (1.26.4)\n",
            "Requirement already satisfied: pytz>=2020.1 in /usr/local/lib/python3.10/dist-packages (from pandas->dagshub) (2024.2)\n",
            "Requirement already satisfied: tzdata>=2022.7 in /usr/local/lib/python3.10/dist-packages (from pandas->dagshub) (2024.2)\n",
            "Requirement already satisfied: sniffio>=1.1 in /usr/local/lib/python3.10/dist-packages (from anyio->httpx>=0.23.0->dagshub) (1.3.1)\n",
            "Requirement already satisfied: exceptiongroup in /usr/local/lib/python3.10/dist-packages (from anyio->httpx>=0.23.0->dagshub) (1.2.2)\n",
            "Requirement already satisfied: urllib3!=2.2.0,<3,>=1.25.4 in /usr/local/lib/python3.10/dist-packages (from botocore<1.36.0,>=1.35.76->boto3->dagshub) (2.2.3)\n",
            "Requirement already satisfied: smmap<6,>=3.0.1 in /usr/local/lib/python3.10/dist-packages (from gitdb<5,>=4.0.1->GitPython>=3.1.29->dagshub) (5.0.1)\n",
            "Requirement already satisfied: mdurl~=0.1 in /usr/local/lib/python3.10/dist-packages (from markdown-it-py>=2.2.0->rich>=13.1.0->dagshub) (0.1.2)\n",
            "Requirement already satisfied: packaging>=17.0 in /usr/local/lib/python3.10/dist-packages (from marshmallow<4.0.0,>=3.18.0->dataclasses-json->dagshub) (24.2)\n",
            "Requirement already satisfied: annotated-types>=0.6.0 in /usr/local/lib/python3.10/dist-packages (from pydantic>=2.0.0->dagshub-annotation-converter>=0.1.0->dagshub) (0.7.0)\n",
            "Requirement already satisfied: pydantic-core==2.27.1 in /usr/local/lib/python3.10/dist-packages (from pydantic>=2.0.0->dagshub-annotation-converter>=0.1.0->dagshub) (2.27.1)\n",
            "Requirement already satisfied: charset-normalizer<4,>=2 in /usr/local/lib/python3.10/dist-packages (from requests<3,>=2.26->gql[requests]->dagshub) (3.4.0)\n",
            "Requirement already satisfied: mypy-extensions>=0.3.0 in /usr/local/lib/python3.10/dist-packages (from typing-inspect<1,>=0.4.0->dataclasses-json->dagshub) (1.0.0)\n",
            "Requirement already satisfied: multidict>=4.0 in /usr/local/lib/python3.10/dist-packages (from yarl<2.0,>=1.6->gql[requests]->dagshub) (6.1.0)\n",
            "Requirement already satisfied: propcache>=0.2.0 in /usr/local/lib/python3.10/dist-packages (from yarl<2.0,>=1.6->gql[requests]->dagshub) (0.2.1)\n",
            "Repository t220g139/dagshub-drive is ready for use with Colab. Link to the repository:\n",
            "https://dagshub.com/t220g139/dagshub-drive\n",
            "Created directory: /content/processed/\n",
            "Created folder: /content/processed/processed_train\n",
            "Created folder: /content/processed/processed_eval\n",
            "Created folder: /content/processed/processed_test\n"
          ]
        },
        {
          "output_type": "stream",
          "name": "stderr",
          "text": [
            "INFO:root:EEGデータ処理を開始します。\n",
            "INFO:root:Successfully loaded 10_1_20180507.cnt with date_format='mm/dd/yy'.\n",
            "INFO:root:Dropped channels ['M1', 'M2', 'VEO', 'HEO'] from 10_1_20180507.cnt.\n",
            "INFO:root:Reordered channels for 10_1_20180507.cnt.\n",
            "INFO:root:Filtering raw data for 10_1_20180507.cnt: Band-pass 0.1 - 75 Hz, Notch 50 Hz\n"
          ]
        },
        {
          "output_type": "stream",
          "name": "stdout",
          "text": [
            "Filtering raw data in 1 contiguous segment\n",
            "Setting up band-pass filter from 0.1 - 75 Hz\n",
            "\n",
            "FIR filter parameters\n",
            "---------------------\n",
            "Designing a one-pass, zero-phase, non-causal bandpass filter:\n",
            "- Windowed time-domain design (firwin) method\n",
            "- Hamming window with 0.0194 passband ripple and 53 dB stopband attenuation\n",
            "- Lower passband edge: 0.10\n",
            "- Lower transition bandwidth: 0.10 Hz (-6 dB cutoff frequency: 0.05 Hz)\n",
            "- Upper passband edge: 75.00 Hz\n",
            "- Upper transition bandwidth: 18.75 Hz (-6 dB cutoff frequency: 84.38 Hz)\n",
            "- Filter length: 33001 samples (33.001 s)\n",
            "\n"
          ]
        },
        {
          "output_type": "stream",
          "name": "stderr",
          "text": [
            "[Parallel(n_jobs=1)]: Done  17 tasks      | elapsed:    1.5s\n"
          ]
        },
        {
          "output_type": "stream",
          "name": "stdout",
          "text": [
            "Filtering raw data in 1 contiguous segment\n",
            "Setting up band-stop filter from 49 - 51 Hz\n",
            "\n",
            "FIR filter parameters\n",
            "---------------------\n",
            "Designing a one-pass, zero-phase, non-causal bandstop filter:\n",
            "- Windowed time-domain design (firwin) method\n",
            "- Hamming window with 0.0194 passband ripple and 53 dB stopband attenuation\n",
            "- Lower passband edge: 49.38\n",
            "- Lower transition bandwidth: 0.50 Hz (-6 dB cutoff frequency: 49.12 Hz)\n",
            "- Upper passband edge: 50.62 Hz\n",
            "- Upper transition bandwidth: 0.50 Hz (-6 dB cutoff frequency: 50.88 Hz)\n",
            "- Filter length: 6601 samples (6.601 s)\n",
            "\n"
          ]
        },
        {
          "output_type": "stream",
          "name": "stderr",
          "text": [
            "[Parallel(n_jobs=1)]: Done  17 tasks      | elapsed:    1.1s\n",
            "INFO:root:Filtered and resampled data for 10_1_20180507.cnt.\n",
            "INFO:root:Processed trial 1 of 10_1_20180507.cnt.\n",
            "INFO:root:Processed trial 2 of 10_1_20180507.cnt.\n",
            "INFO:root:Processed trial 3 of 10_1_20180507.cnt.\n",
            "INFO:root:Processed trial 4 of 10_1_20180507.cnt.\n",
            "INFO:root:Processed trial 5 of 10_1_20180507.cnt.\n",
            "INFO:root:Processed trial 6 of 10_1_20180507.cnt.\n",
            "INFO:root:Processed trial 7 of 10_1_20180507.cnt.\n",
            "INFO:root:Processed trial 8 of 10_1_20180507.cnt.\n",
            "INFO:root:Processed trial 9 of 10_1_20180507.cnt.\n",
            "INFO:root:Processed trial 10 of 10_1_20180507.cnt.\n",
            "INFO:root:Processed trial 11 of 10_1_20180507.cnt.\n",
            "INFO:root:Processed trial 12 of 10_1_20180507.cnt.\n",
            "INFO:root:Processed trial 13 of 10_1_20180507.cnt.\n",
            "INFO:root:Processed trial 14 of 10_1_20180507.cnt.\n",
            "INFO:root:Processed trial 15 of 10_1_20180507.cnt.\n",
            "INFO:root:Successfully processed 10_1_20180507.cnt.\n",
            "<ipython-input-5-659b640090c8>:153: RuntimeWarning:   Could not parse meas date from the header. Setting to None.\n",
            "  raw = mne.io.read_raw_cnt(\n",
            "INFO:root:Successfully loaded 10_2_20180524.cnt with date_format='mm/dd/yy'.\n",
            "INFO:root:Set meas_date for 10_2_20180524.cnt to 2018-05-24 00:00:00+00:00 (UTC).\n",
            "INFO:root:Dropped channels ['M1', 'M2', 'VEO', 'HEO'] from 10_2_20180524.cnt.\n",
            "INFO:root:Reordered channels for 10_2_20180524.cnt.\n",
            "INFO:root:Filtering raw data for 10_2_20180524.cnt: Band-pass 0.1 - 75 Hz, Notch 50 Hz\n"
          ]
        },
        {
          "output_type": "stream",
          "name": "stdout",
          "text": [
            "Filtering raw data in 1 contiguous segment\n",
            "Setting up band-pass filter from 0.1 - 75 Hz\n",
            "\n",
            "FIR filter parameters\n",
            "---------------------\n",
            "Designing a one-pass, zero-phase, non-causal bandpass filter:\n",
            "- Windowed time-domain design (firwin) method\n",
            "- Hamming window with 0.0194 passband ripple and 53 dB stopband attenuation\n",
            "- Lower passband edge: 0.10\n",
            "- Lower transition bandwidth: 0.10 Hz (-6 dB cutoff frequency: 0.05 Hz)\n",
            "- Upper passband edge: 75.00 Hz\n",
            "- Upper transition bandwidth: 18.75 Hz (-6 dB cutoff frequency: 84.38 Hz)\n",
            "- Filter length: 33001 samples (33.001 s)\n",
            "\n"
          ]
        },
        {
          "output_type": "stream",
          "name": "stderr",
          "text": [
            "[Parallel(n_jobs=1)]: Done  17 tasks      | elapsed:    1.4s\n"
          ]
        },
        {
          "output_type": "stream",
          "name": "stdout",
          "text": [
            "Filtering raw data in 1 contiguous segment\n",
            "Setting up band-stop filter from 49 - 51 Hz\n",
            "\n",
            "FIR filter parameters\n",
            "---------------------\n",
            "Designing a one-pass, zero-phase, non-causal bandstop filter:\n",
            "- Windowed time-domain design (firwin) method\n",
            "- Hamming window with 0.0194 passband ripple and 53 dB stopband attenuation\n",
            "- Lower passband edge: 49.38\n",
            "- Lower transition bandwidth: 0.50 Hz (-6 dB cutoff frequency: 49.12 Hz)\n",
            "- Upper passband edge: 50.62 Hz\n",
            "- Upper transition bandwidth: 0.50 Hz (-6 dB cutoff frequency: 50.88 Hz)\n",
            "- Filter length: 6601 samples (6.601 s)\n",
            "\n"
          ]
        },
        {
          "output_type": "stream",
          "name": "stderr",
          "text": [
            "[Parallel(n_jobs=1)]: Done  17 tasks      | elapsed:    1.1s\n",
            "INFO:root:Filtered and resampled data for 10_2_20180524.cnt.\n",
            "INFO:root:Processed trial 1 of 10_2_20180524.cnt.\n",
            "INFO:root:Processed trial 2 of 10_2_20180524.cnt.\n",
            "INFO:root:Processed trial 3 of 10_2_20180524.cnt.\n",
            "INFO:root:Processed trial 4 of 10_2_20180524.cnt.\n",
            "INFO:root:Processed trial 5 of 10_2_20180524.cnt.\n",
            "INFO:root:Processed trial 6 of 10_2_20180524.cnt.\n",
            "INFO:root:Processed trial 7 of 10_2_20180524.cnt.\n",
            "INFO:root:Processed trial 8 of 10_2_20180524.cnt.\n",
            "INFO:root:Processed trial 9 of 10_2_20180524.cnt.\n",
            "INFO:root:Processed trial 10 of 10_2_20180524.cnt.\n",
            "INFO:root:Processed trial 11 of 10_2_20180524.cnt.\n",
            "INFO:root:Processed trial 12 of 10_2_20180524.cnt.\n",
            "INFO:root:Processed trial 13 of 10_2_20180524.cnt.\n",
            "INFO:root:Processed trial 14 of 10_2_20180524.cnt.\n",
            "INFO:root:Processed trial 15 of 10_2_20180524.cnt.\n",
            "INFO:root:Successfully processed 10_2_20180524.cnt.\n",
            "<ipython-input-5-659b640090c8>:153: RuntimeWarning:   Could not parse meas date from the header. Setting to None.\n",
            "  raw = mne.io.read_raw_cnt(\n",
            "INFO:root:Successfully loaded 10_3_20180626.cnt with date_format='mm/dd/yy'.\n",
            "INFO:root:Set meas_date for 10_3_20180626.cnt to 2018-06-26 00:00:00+00:00 (UTC).\n",
            "INFO:root:Dropped channels ['M1', 'M2', 'VEO', 'HEO'] from 10_3_20180626.cnt.\n",
            "INFO:root:Reordered channels for 10_3_20180626.cnt.\n",
            "INFO:root:Filtering raw data for 10_3_20180626.cnt: Band-pass 0.1 - 75 Hz, Notch 50 Hz\n"
          ]
        },
        {
          "output_type": "stream",
          "name": "stdout",
          "text": [
            "Filtering raw data in 1 contiguous segment\n",
            "Setting up band-pass filter from 0.1 - 75 Hz\n",
            "\n",
            "FIR filter parameters\n",
            "---------------------\n",
            "Designing a one-pass, zero-phase, non-causal bandpass filter:\n",
            "- Windowed time-domain design (firwin) method\n",
            "- Hamming window with 0.0194 passband ripple and 53 dB stopband attenuation\n",
            "- Lower passband edge: 0.10\n",
            "- Lower transition bandwidth: 0.10 Hz (-6 dB cutoff frequency: 0.05 Hz)\n",
            "- Upper passband edge: 75.00 Hz\n",
            "- Upper transition bandwidth: 18.75 Hz (-6 dB cutoff frequency: 84.38 Hz)\n",
            "- Filter length: 33001 samples (33.001 s)\n",
            "\n"
          ]
        },
        {
          "output_type": "stream",
          "name": "stderr",
          "text": [
            "[Parallel(n_jobs=1)]: Done  17 tasks      | elapsed:    1.3s\n"
          ]
        },
        {
          "output_type": "stream",
          "name": "stdout",
          "text": [
            "Filtering raw data in 1 contiguous segment\n",
            "Setting up band-stop filter from 49 - 51 Hz\n",
            "\n",
            "FIR filter parameters\n",
            "---------------------\n",
            "Designing a one-pass, zero-phase, non-causal bandstop filter:\n",
            "- Windowed time-domain design (firwin) method\n",
            "- Hamming window with 0.0194 passband ripple and 53 dB stopband attenuation\n",
            "- Lower passband edge: 49.38\n",
            "- Lower transition bandwidth: 0.50 Hz (-6 dB cutoff frequency: 49.12 Hz)\n",
            "- Upper passband edge: 50.62 Hz\n",
            "- Upper transition bandwidth: 0.50 Hz (-6 dB cutoff frequency: 50.88 Hz)\n",
            "- Filter length: 6601 samples (6.601 s)\n",
            "\n"
          ]
        },
        {
          "output_type": "stream",
          "name": "stderr",
          "text": [
            "[Parallel(n_jobs=1)]: Done  17 tasks      | elapsed:    1.0s\n",
            "INFO:root:Filtered and resampled data for 10_3_20180626.cnt.\n",
            "INFO:root:Processed trial 1 of 10_3_20180626.cnt.\n",
            "INFO:root:Processed trial 2 of 10_3_20180626.cnt.\n",
            "INFO:root:Processed trial 3 of 10_3_20180626.cnt.\n",
            "INFO:root:Processed trial 4 of 10_3_20180626.cnt.\n",
            "INFO:root:Processed trial 5 of 10_3_20180626.cnt.\n",
            "INFO:root:Processed trial 6 of 10_3_20180626.cnt.\n",
            "INFO:root:Processed trial 7 of 10_3_20180626.cnt.\n",
            "INFO:root:Processed trial 8 of 10_3_20180626.cnt.\n",
            "INFO:root:Processed trial 9 of 10_3_20180626.cnt.\n",
            "INFO:root:Processed trial 10 of 10_3_20180626.cnt.\n",
            "INFO:root:Processed trial 11 of 10_3_20180626.cnt.\n",
            "INFO:root:Processed trial 12 of 10_3_20180626.cnt.\n",
            "INFO:root:Processed trial 13 of 10_3_20180626.cnt.\n",
            "INFO:root:Processed trial 14 of 10_3_20180626.cnt.\n",
            "INFO:root:Processed trial 15 of 10_3_20180626.cnt.\n",
            "INFO:root:Successfully processed 10_3_20180626.cnt.\n",
            "INFO:root:Successfully loaded 11_1_20180510.cnt with date_format='mm/dd/yy'.\n",
            "INFO:root:Dropped channels ['M1', 'M2', 'VEO', 'HEO'] from 11_1_20180510.cnt.\n",
            "INFO:root:Reordered channels for 11_1_20180510.cnt.\n",
            "INFO:root:Filtering raw data for 11_1_20180510.cnt: Band-pass 0.1 - 75 Hz, Notch 50 Hz\n"
          ]
        },
        {
          "output_type": "stream",
          "name": "stdout",
          "text": [
            "Filtering raw data in 1 contiguous segment\n",
            "Setting up band-pass filter from 0.1 - 75 Hz\n",
            "\n",
            "FIR filter parameters\n",
            "---------------------\n",
            "Designing a one-pass, zero-phase, non-causal bandpass filter:\n",
            "- Windowed time-domain design (firwin) method\n",
            "- Hamming window with 0.0194 passband ripple and 53 dB stopband attenuation\n",
            "- Lower passband edge: 0.10\n",
            "- Lower transition bandwidth: 0.10 Hz (-6 dB cutoff frequency: 0.05 Hz)\n",
            "- Upper passband edge: 75.00 Hz\n",
            "- Upper transition bandwidth: 18.75 Hz (-6 dB cutoff frequency: 84.38 Hz)\n",
            "- Filter length: 33001 samples (33.001 s)\n",
            "\n"
          ]
        },
        {
          "output_type": "stream",
          "name": "stderr",
          "text": [
            "[Parallel(n_jobs=1)]: Done  17 tasks      | elapsed:    1.5s\n"
          ]
        },
        {
          "output_type": "stream",
          "name": "stdout",
          "text": [
            "Filtering raw data in 1 contiguous segment\n",
            "Setting up band-stop filter from 49 - 51 Hz\n",
            "\n",
            "FIR filter parameters\n",
            "---------------------\n",
            "Designing a one-pass, zero-phase, non-causal bandstop filter:\n",
            "- Windowed time-domain design (firwin) method\n",
            "- Hamming window with 0.0194 passband ripple and 53 dB stopband attenuation\n",
            "- Lower passband edge: 49.38\n",
            "- Lower transition bandwidth: 0.50 Hz (-6 dB cutoff frequency: 49.12 Hz)\n",
            "- Upper passband edge: 50.62 Hz\n",
            "- Upper transition bandwidth: 0.50 Hz (-6 dB cutoff frequency: 50.88 Hz)\n",
            "- Filter length: 6601 samples (6.601 s)\n",
            "\n"
          ]
        },
        {
          "output_type": "stream",
          "name": "stderr",
          "text": [
            "[Parallel(n_jobs=1)]: Done  17 tasks      | elapsed:    1.1s\n",
            "INFO:root:Filtered and resampled data for 11_1_20180510.cnt.\n",
            "INFO:root:Processed trial 1 of 11_1_20180510.cnt.\n",
            "INFO:root:Processed trial 2 of 11_1_20180510.cnt.\n",
            "INFO:root:Processed trial 3 of 11_1_20180510.cnt.\n",
            "INFO:root:Processed trial 4 of 11_1_20180510.cnt.\n",
            "INFO:root:Processed trial 5 of 11_1_20180510.cnt.\n",
            "INFO:root:Processed trial 6 of 11_1_20180510.cnt.\n",
            "INFO:root:Processed trial 7 of 11_1_20180510.cnt.\n",
            "INFO:root:Processed trial 8 of 11_1_20180510.cnt.\n",
            "INFO:root:Processed trial 9 of 11_1_20180510.cnt.\n",
            "INFO:root:Processed trial 10 of 11_1_20180510.cnt.\n",
            "INFO:root:Processed trial 11 of 11_1_20180510.cnt.\n",
            "INFO:root:Processed trial 12 of 11_1_20180510.cnt.\n",
            "INFO:root:Processed trial 13 of 11_1_20180510.cnt.\n",
            "INFO:root:Processed trial 14 of 11_1_20180510.cnt.\n",
            "INFO:root:Processed trial 15 of 11_1_20180510.cnt.\n",
            "INFO:root:Successfully processed 11_1_20180510.cnt.\n",
            "INFO:root:Successfully loaded 11_2_20180508.cnt with date_format='mm/dd/yy'.\n",
            "INFO:root:Dropped channels ['M1', 'M2', 'VEO', 'HEO'] from 11_2_20180508.cnt.\n",
            "INFO:root:Reordered channels for 11_2_20180508.cnt.\n",
            "INFO:root:Filtering raw data for 11_2_20180508.cnt: Band-pass 0.1 - 75 Hz, Notch 50 Hz\n"
          ]
        },
        {
          "output_type": "stream",
          "name": "stdout",
          "text": [
            "Filtering raw data in 1 contiguous segment\n",
            "Setting up band-pass filter from 0.1 - 75 Hz\n",
            "\n",
            "FIR filter parameters\n",
            "---------------------\n",
            "Designing a one-pass, zero-phase, non-causal bandpass filter:\n",
            "- Windowed time-domain design (firwin) method\n",
            "- Hamming window with 0.0194 passband ripple and 53 dB stopband attenuation\n",
            "- Lower passband edge: 0.10\n",
            "- Lower transition bandwidth: 0.10 Hz (-6 dB cutoff frequency: 0.05 Hz)\n",
            "- Upper passband edge: 75.00 Hz\n",
            "- Upper transition bandwidth: 18.75 Hz (-6 dB cutoff frequency: 84.38 Hz)\n",
            "- Filter length: 33001 samples (33.001 s)\n",
            "\n"
          ]
        },
        {
          "output_type": "stream",
          "name": "stderr",
          "text": [
            "[Parallel(n_jobs=1)]: Done  17 tasks      | elapsed:    1.3s\n"
          ]
        },
        {
          "output_type": "stream",
          "name": "stdout",
          "text": [
            "Filtering raw data in 1 contiguous segment\n",
            "Setting up band-stop filter from 49 - 51 Hz\n",
            "\n",
            "FIR filter parameters\n",
            "---------------------\n",
            "Designing a one-pass, zero-phase, non-causal bandstop filter:\n",
            "- Windowed time-domain design (firwin) method\n",
            "- Hamming window with 0.0194 passband ripple and 53 dB stopband attenuation\n",
            "- Lower passband edge: 49.38\n",
            "- Lower transition bandwidth: 0.50 Hz (-6 dB cutoff frequency: 49.12 Hz)\n",
            "- Upper passband edge: 50.62 Hz\n",
            "- Upper transition bandwidth: 0.50 Hz (-6 dB cutoff frequency: 50.88 Hz)\n",
            "- Filter length: 6601 samples (6.601 s)\n",
            "\n"
          ]
        },
        {
          "output_type": "stream",
          "name": "stderr",
          "text": [
            "[Parallel(n_jobs=1)]: Done  17 tasks      | elapsed:    1.0s\n",
            "INFO:root:Filtered and resampled data for 11_2_20180508.cnt.\n",
            "INFO:root:Processed trial 1 of 11_2_20180508.cnt.\n",
            "INFO:root:Processed trial 2 of 11_2_20180508.cnt.\n",
            "INFO:root:Processed trial 3 of 11_2_20180508.cnt.\n",
            "INFO:root:Processed trial 4 of 11_2_20180508.cnt.\n",
            "INFO:root:Processed trial 5 of 11_2_20180508.cnt.\n",
            "INFO:root:Processed trial 6 of 11_2_20180508.cnt.\n",
            "INFO:root:Processed trial 7 of 11_2_20180508.cnt.\n",
            "INFO:root:Processed trial 8 of 11_2_20180508.cnt.\n",
            "INFO:root:Processed trial 9 of 11_2_20180508.cnt.\n",
            "INFO:root:Processed trial 10 of 11_2_20180508.cnt.\n",
            "INFO:root:Processed trial 11 of 11_2_20180508.cnt.\n",
            "INFO:root:Processed trial 12 of 11_2_20180508.cnt.\n",
            "INFO:root:Processed trial 13 of 11_2_20180508.cnt.\n",
            "INFO:root:Processed trial 14 of 11_2_20180508.cnt.\n",
            "INFO:root:Processed trial 15 of 11_2_20180508.cnt.\n",
            "INFO:root:Successfully processed 11_2_20180508.cnt.\n",
            "<ipython-input-5-659b640090c8>:153: RuntimeWarning:   Could not parse meas date from the header. Setting to None.\n",
            "  raw = mne.io.read_raw_cnt(\n",
            "INFO:root:Successfully loaded 11_3_20180522.cnt with date_format='mm/dd/yy'.\n",
            "INFO:root:Set meas_date for 11_3_20180522.cnt to 2018-05-22 00:00:00+00:00 (UTC).\n",
            "INFO:root:Dropped channels ['M1', 'M2', 'VEO', 'HEO'] from 11_3_20180522.cnt.\n",
            "INFO:root:Reordered channels for 11_3_20180522.cnt.\n",
            "INFO:root:Filtering raw data for 11_3_20180522.cnt: Band-pass 0.1 - 75 Hz, Notch 50 Hz\n"
          ]
        },
        {
          "output_type": "stream",
          "name": "stdout",
          "text": [
            "Filtering raw data in 1 contiguous segment\n",
            "Setting up band-pass filter from 0.1 - 75 Hz\n",
            "\n",
            "FIR filter parameters\n",
            "---------------------\n",
            "Designing a one-pass, zero-phase, non-causal bandpass filter:\n",
            "- Windowed time-domain design (firwin) method\n",
            "- Hamming window with 0.0194 passband ripple and 53 dB stopband attenuation\n",
            "- Lower passband edge: 0.10\n",
            "- Lower transition bandwidth: 0.10 Hz (-6 dB cutoff frequency: 0.05 Hz)\n",
            "- Upper passband edge: 75.00 Hz\n",
            "- Upper transition bandwidth: 18.75 Hz (-6 dB cutoff frequency: 84.38 Hz)\n",
            "- Filter length: 33001 samples (33.001 s)\n",
            "\n"
          ]
        },
        {
          "output_type": "stream",
          "name": "stderr",
          "text": [
            "[Parallel(n_jobs=1)]: Done  17 tasks      | elapsed:    1.4s\n"
          ]
        },
        {
          "output_type": "stream",
          "name": "stdout",
          "text": [
            "Filtering raw data in 1 contiguous segment\n",
            "Setting up band-stop filter from 49 - 51 Hz\n",
            "\n",
            "FIR filter parameters\n",
            "---------------------\n",
            "Designing a one-pass, zero-phase, non-causal bandstop filter:\n",
            "- Windowed time-domain design (firwin) method\n",
            "- Hamming window with 0.0194 passband ripple and 53 dB stopband attenuation\n",
            "- Lower passband edge: 49.38\n",
            "- Lower transition bandwidth: 0.50 Hz (-6 dB cutoff frequency: 49.12 Hz)\n",
            "- Upper passband edge: 50.62 Hz\n",
            "- Upper transition bandwidth: 0.50 Hz (-6 dB cutoff frequency: 50.88 Hz)\n",
            "- Filter length: 6601 samples (6.601 s)\n",
            "\n"
          ]
        },
        {
          "output_type": "stream",
          "name": "stderr",
          "text": [
            "[Parallel(n_jobs=1)]: Done  17 tasks      | elapsed:    1.0s\n",
            "INFO:root:Filtered and resampled data for 11_3_20180522.cnt.\n",
            "INFO:root:Processed trial 1 of 11_3_20180522.cnt.\n",
            "INFO:root:Processed trial 2 of 11_3_20180522.cnt.\n",
            "INFO:root:Processed trial 3 of 11_3_20180522.cnt.\n",
            "INFO:root:Processed trial 4 of 11_3_20180522.cnt.\n",
            "INFO:root:Processed trial 5 of 11_3_20180522.cnt.\n",
            "INFO:root:Processed trial 6 of 11_3_20180522.cnt.\n",
            "INFO:root:Processed trial 7 of 11_3_20180522.cnt.\n",
            "INFO:root:Processed trial 8 of 11_3_20180522.cnt.\n",
            "INFO:root:Processed trial 9 of 11_3_20180522.cnt.\n",
            "INFO:root:Processed trial 10 of 11_3_20180522.cnt.\n",
            "INFO:root:Processed trial 11 of 11_3_20180522.cnt.\n",
            "INFO:root:Processed trial 12 of 11_3_20180522.cnt.\n",
            "INFO:root:Processed trial 13 of 11_3_20180522.cnt.\n",
            "INFO:root:Processed trial 14 of 11_3_20180522.cnt.\n",
            "INFO:root:Processed trial 15 of 11_3_20180522.cnt.\n",
            "INFO:root:Successfully processed 11_3_20180522.cnt.\n",
            "<ipython-input-5-659b640090c8>:153: RuntimeWarning:   Could not parse meas date from the header. Setting to None.\n",
            "  raw = mne.io.read_raw_cnt(\n",
            "INFO:root:Successfully loaded 12_1_20180515.cnt with date_format='mm/dd/yy'.\n",
            "INFO:root:Set meas_date for 12_1_20180515.cnt to 2018-05-15 00:00:00+00:00 (UTC).\n",
            "INFO:root:Dropped channels ['M1', 'M2', 'VEO', 'HEO'] from 12_1_20180515.cnt.\n",
            "INFO:root:Reordered channels for 12_1_20180515.cnt.\n",
            "INFO:root:Filtering raw data for 12_1_20180515.cnt: Band-pass 0.1 - 75 Hz, Notch 50 Hz\n"
          ]
        },
        {
          "output_type": "stream",
          "name": "stdout",
          "text": [
            "Filtering raw data in 1 contiguous segment\n",
            "Setting up band-pass filter from 0.1 - 75 Hz\n",
            "\n",
            "FIR filter parameters\n",
            "---------------------\n",
            "Designing a one-pass, zero-phase, non-causal bandpass filter:\n",
            "- Windowed time-domain design (firwin) method\n",
            "- Hamming window with 0.0194 passband ripple and 53 dB stopband attenuation\n",
            "- Lower passband edge: 0.10\n",
            "- Lower transition bandwidth: 0.10 Hz (-6 dB cutoff frequency: 0.05 Hz)\n",
            "- Upper passband edge: 75.00 Hz\n",
            "- Upper transition bandwidth: 18.75 Hz (-6 dB cutoff frequency: 84.38 Hz)\n",
            "- Filter length: 33001 samples (33.001 s)\n",
            "\n"
          ]
        },
        {
          "output_type": "stream",
          "name": "stderr",
          "text": [
            "[Parallel(n_jobs=1)]: Done  17 tasks      | elapsed:    1.5s\n"
          ]
        },
        {
          "output_type": "stream",
          "name": "stdout",
          "text": [
            "Filtering raw data in 1 contiguous segment\n",
            "Setting up band-stop filter from 49 - 51 Hz\n",
            "\n",
            "FIR filter parameters\n",
            "---------------------\n",
            "Designing a one-pass, zero-phase, non-causal bandstop filter:\n",
            "- Windowed time-domain design (firwin) method\n",
            "- Hamming window with 0.0194 passband ripple and 53 dB stopband attenuation\n",
            "- Lower passband edge: 49.38\n",
            "- Lower transition bandwidth: 0.50 Hz (-6 dB cutoff frequency: 49.12 Hz)\n",
            "- Upper passband edge: 50.62 Hz\n",
            "- Upper transition bandwidth: 0.50 Hz (-6 dB cutoff frequency: 50.88 Hz)\n",
            "- Filter length: 6601 samples (6.601 s)\n",
            "\n"
          ]
        },
        {
          "output_type": "stream",
          "name": "stderr",
          "text": [
            "[Parallel(n_jobs=1)]: Done  17 tasks      | elapsed:    1.2s\n",
            "INFO:root:Filtered and resampled data for 12_1_20180515.cnt.\n",
            "INFO:root:Processed trial 1 of 12_1_20180515.cnt.\n",
            "INFO:root:Processed trial 2 of 12_1_20180515.cnt.\n",
            "INFO:root:Processed trial 3 of 12_1_20180515.cnt.\n",
            "INFO:root:Processed trial 4 of 12_1_20180515.cnt.\n",
            "INFO:root:Processed trial 5 of 12_1_20180515.cnt.\n",
            "INFO:root:Processed trial 6 of 12_1_20180515.cnt.\n",
            "INFO:root:Processed trial 7 of 12_1_20180515.cnt.\n",
            "INFO:root:Processed trial 8 of 12_1_20180515.cnt.\n",
            "INFO:root:Processed trial 9 of 12_1_20180515.cnt.\n",
            "INFO:root:Processed trial 10 of 12_1_20180515.cnt.\n",
            "INFO:root:Processed trial 11 of 12_1_20180515.cnt.\n",
            "INFO:root:Processed trial 12 of 12_1_20180515.cnt.\n",
            "INFO:root:Processed trial 13 of 12_1_20180515.cnt.\n",
            "INFO:root:Processed trial 14 of 12_1_20180515.cnt.\n",
            "INFO:root:Processed trial 15 of 12_1_20180515.cnt.\n",
            "INFO:root:Successfully processed 12_1_20180515.cnt.\n",
            "INFO:root:Successfully loaded 12_2_20180508.cnt with date_format='mm/dd/yy'.\n",
            "INFO:root:Dropped channels ['M1', 'M2', 'VEO', 'HEO'] from 12_2_20180508.cnt.\n",
            "INFO:root:Reordered channels for 12_2_20180508.cnt.\n",
            "INFO:root:Filtering raw data for 12_2_20180508.cnt: Band-pass 0.1 - 75 Hz, Notch 50 Hz\n"
          ]
        },
        {
          "output_type": "stream",
          "name": "stdout",
          "text": [
            "Filtering raw data in 1 contiguous segment\n",
            "Setting up band-pass filter from 0.1 - 75 Hz\n",
            "\n",
            "FIR filter parameters\n",
            "---------------------\n",
            "Designing a one-pass, zero-phase, non-causal bandpass filter:\n",
            "- Windowed time-domain design (firwin) method\n",
            "- Hamming window with 0.0194 passband ripple and 53 dB stopband attenuation\n",
            "- Lower passband edge: 0.10\n",
            "- Lower transition bandwidth: 0.10 Hz (-6 dB cutoff frequency: 0.05 Hz)\n",
            "- Upper passband edge: 75.00 Hz\n",
            "- Upper transition bandwidth: 18.75 Hz (-6 dB cutoff frequency: 84.38 Hz)\n",
            "- Filter length: 33001 samples (33.001 s)\n",
            "\n"
          ]
        },
        {
          "output_type": "stream",
          "name": "stderr",
          "text": [
            "[Parallel(n_jobs=1)]: Done  17 tasks      | elapsed:    1.2s\n"
          ]
        },
        {
          "output_type": "stream",
          "name": "stdout",
          "text": [
            "Filtering raw data in 1 contiguous segment\n",
            "Setting up band-stop filter from 49 - 51 Hz\n",
            "\n",
            "FIR filter parameters\n",
            "---------------------\n",
            "Designing a one-pass, zero-phase, non-causal bandstop filter:\n",
            "- Windowed time-domain design (firwin) method\n",
            "- Hamming window with 0.0194 passband ripple and 53 dB stopband attenuation\n",
            "- Lower passband edge: 49.38\n",
            "- Lower transition bandwidth: 0.50 Hz (-6 dB cutoff frequency: 49.12 Hz)\n",
            "- Upper passband edge: 50.62 Hz\n",
            "- Upper transition bandwidth: 0.50 Hz (-6 dB cutoff frequency: 50.88 Hz)\n",
            "- Filter length: 6601 samples (6.601 s)\n",
            "\n"
          ]
        },
        {
          "output_type": "stream",
          "name": "stderr",
          "text": [
            "[Parallel(n_jobs=1)]: Done  17 tasks      | elapsed:    1.0s\n",
            "INFO:root:Filtered and resampled data for 12_2_20180508.cnt.\n",
            "INFO:root:Processed trial 1 of 12_2_20180508.cnt.\n",
            "INFO:root:Processed trial 2 of 12_2_20180508.cnt.\n",
            "INFO:root:Processed trial 3 of 12_2_20180508.cnt.\n",
            "INFO:root:Processed trial 4 of 12_2_20180508.cnt.\n",
            "INFO:root:Processed trial 5 of 12_2_20180508.cnt.\n",
            "INFO:root:Processed trial 6 of 12_2_20180508.cnt.\n",
            "INFO:root:Processed trial 7 of 12_2_20180508.cnt.\n",
            "INFO:root:Processed trial 8 of 12_2_20180508.cnt.\n",
            "INFO:root:Processed trial 9 of 12_2_20180508.cnt.\n",
            "INFO:root:Processed trial 10 of 12_2_20180508.cnt.\n",
            "INFO:root:Processed trial 11 of 12_2_20180508.cnt.\n",
            "INFO:root:Processed trial 12 of 12_2_20180508.cnt.\n",
            "INFO:root:Processed trial 13 of 12_2_20180508.cnt.\n",
            "INFO:root:Processed trial 14 of 12_2_20180508.cnt.\n",
            "INFO:root:Processed trial 15 of 12_2_20180508.cnt.\n",
            "INFO:root:Successfully processed 12_2_20180508.cnt.\n",
            "<ipython-input-5-659b640090c8>:153: RuntimeWarning:   Could not parse meas date from the header. Setting to None.\n",
            "  raw = mne.io.read_raw_cnt(\n",
            "INFO:root:Successfully loaded 12_3_20180517.cnt with date_format='mm/dd/yy'.\n",
            "INFO:root:Set meas_date for 12_3_20180517.cnt to 2018-05-17 00:00:00+00:00 (UTC).\n",
            "INFO:root:Dropped channels ['M1', 'M2', 'VEO', 'HEO'] from 12_3_20180517.cnt.\n",
            "INFO:root:Reordered channels for 12_3_20180517.cnt.\n",
            "INFO:root:Filtering raw data for 12_3_20180517.cnt: Band-pass 0.1 - 75 Hz, Notch 50 Hz\n"
          ]
        },
        {
          "output_type": "stream",
          "name": "stdout",
          "text": [
            "Filtering raw data in 1 contiguous segment\n",
            "Setting up band-pass filter from 0.1 - 75 Hz\n",
            "\n",
            "FIR filter parameters\n",
            "---------------------\n",
            "Designing a one-pass, zero-phase, non-causal bandpass filter:\n",
            "- Windowed time-domain design (firwin) method\n",
            "- Hamming window with 0.0194 passband ripple and 53 dB stopband attenuation\n",
            "- Lower passband edge: 0.10\n",
            "- Lower transition bandwidth: 0.10 Hz (-6 dB cutoff frequency: 0.05 Hz)\n",
            "- Upper passband edge: 75.00 Hz\n",
            "- Upper transition bandwidth: 18.75 Hz (-6 dB cutoff frequency: 84.38 Hz)\n",
            "- Filter length: 33001 samples (33.001 s)\n",
            "\n"
          ]
        },
        {
          "output_type": "stream",
          "name": "stderr",
          "text": [
            "[Parallel(n_jobs=1)]: Done  17 tasks      | elapsed:    1.3s\n"
          ]
        },
        {
          "output_type": "stream",
          "name": "stdout",
          "text": [
            "Filtering raw data in 1 contiguous segment\n",
            "Setting up band-stop filter from 49 - 51 Hz\n",
            "\n",
            "FIR filter parameters\n",
            "---------------------\n",
            "Designing a one-pass, zero-phase, non-causal bandstop filter:\n",
            "- Windowed time-domain design (firwin) method\n",
            "- Hamming window with 0.0194 passband ripple and 53 dB stopband attenuation\n",
            "- Lower passband edge: 49.38\n",
            "- Lower transition bandwidth: 0.50 Hz (-6 dB cutoff frequency: 49.12 Hz)\n",
            "- Upper passband edge: 50.62 Hz\n",
            "- Upper transition bandwidth: 0.50 Hz (-6 dB cutoff frequency: 50.88 Hz)\n",
            "- Filter length: 6601 samples (6.601 s)\n",
            "\n"
          ]
        },
        {
          "output_type": "stream",
          "name": "stderr",
          "text": [
            "[Parallel(n_jobs=1)]: Done  17 tasks      | elapsed:    1.0s\n",
            "INFO:root:Filtered and resampled data for 12_3_20180517.cnt.\n",
            "INFO:root:Processed trial 1 of 12_3_20180517.cnt.\n",
            "INFO:root:Processed trial 2 of 12_3_20180517.cnt.\n",
            "INFO:root:Processed trial 3 of 12_3_20180517.cnt.\n",
            "INFO:root:Processed trial 4 of 12_3_20180517.cnt.\n",
            "INFO:root:Processed trial 5 of 12_3_20180517.cnt.\n",
            "INFO:root:Processed trial 6 of 12_3_20180517.cnt.\n",
            "INFO:root:Processed trial 7 of 12_3_20180517.cnt.\n",
            "INFO:root:Processed trial 8 of 12_3_20180517.cnt.\n",
            "INFO:root:Processed trial 9 of 12_3_20180517.cnt.\n",
            "INFO:root:Processed trial 10 of 12_3_20180517.cnt.\n",
            "INFO:root:Processed trial 11 of 12_3_20180517.cnt.\n",
            "INFO:root:Processed trial 12 of 12_3_20180517.cnt.\n",
            "INFO:root:Processed trial 13 of 12_3_20180517.cnt.\n",
            "INFO:root:Processed trial 14 of 12_3_20180517.cnt.\n",
            "INFO:root:Processed trial 15 of 12_3_20180517.cnt.\n",
            "INFO:root:Successfully processed 12_3_20180517.cnt.\n",
            "<ipython-input-5-659b640090c8>:153: RuntimeWarning:   Could not parse meas date from the header. Setting to None.\n",
            "  raw = mne.io.read_raw_cnt(\n",
            "INFO:root:Successfully loaded 13_1_20180720.cnt with date_format='mm/dd/yy'.\n",
            "INFO:root:Set meas_date for 13_1_20180720.cnt to 2018-07-20 00:00:00+00:00 (UTC).\n",
            "INFO:root:Dropped channels ['M1', 'M2', 'VEO', 'HEO'] from 13_1_20180720.cnt.\n",
            "INFO:root:Reordered channels for 13_1_20180720.cnt.\n",
            "INFO:root:Filtering raw data for 13_1_20180720.cnt: Band-pass 0.1 - 75 Hz, Notch 50 Hz\n"
          ]
        },
        {
          "output_type": "stream",
          "name": "stdout",
          "text": [
            "Filtering raw data in 1 contiguous segment\n",
            "Setting up band-pass filter from 0.1 - 75 Hz\n",
            "\n",
            "FIR filter parameters\n",
            "---------------------\n",
            "Designing a one-pass, zero-phase, non-causal bandpass filter:\n",
            "- Windowed time-domain design (firwin) method\n",
            "- Hamming window with 0.0194 passband ripple and 53 dB stopband attenuation\n",
            "- Lower passband edge: 0.10\n",
            "- Lower transition bandwidth: 0.10 Hz (-6 dB cutoff frequency: 0.05 Hz)\n",
            "- Upper passband edge: 75.00 Hz\n",
            "- Upper transition bandwidth: 18.75 Hz (-6 dB cutoff frequency: 84.38 Hz)\n",
            "- Filter length: 33001 samples (33.001 s)\n",
            "\n"
          ]
        },
        {
          "output_type": "stream",
          "name": "stderr",
          "text": [
            "[Parallel(n_jobs=1)]: Done  17 tasks      | elapsed:    1.4s\n"
          ]
        },
        {
          "output_type": "stream",
          "name": "stdout",
          "text": [
            "Filtering raw data in 1 contiguous segment\n",
            "Setting up band-stop filter from 49 - 51 Hz\n",
            "\n",
            "FIR filter parameters\n",
            "---------------------\n",
            "Designing a one-pass, zero-phase, non-causal bandstop filter:\n",
            "- Windowed time-domain design (firwin) method\n",
            "- Hamming window with 0.0194 passband ripple and 53 dB stopband attenuation\n",
            "- Lower passband edge: 49.38\n",
            "- Lower transition bandwidth: 0.50 Hz (-6 dB cutoff frequency: 49.12 Hz)\n",
            "- Upper passband edge: 50.62 Hz\n",
            "- Upper transition bandwidth: 0.50 Hz (-6 dB cutoff frequency: 50.88 Hz)\n",
            "- Filter length: 6601 samples (6.601 s)\n",
            "\n"
          ]
        },
        {
          "output_type": "stream",
          "name": "stderr",
          "text": [
            "[Parallel(n_jobs=1)]: Done  17 tasks      | elapsed:    1.1s\n",
            "INFO:root:Filtered and resampled data for 13_1_20180720.cnt.\n",
            "INFO:root:Processed trial 1 of 13_1_20180720.cnt.\n",
            "INFO:root:Processed trial 2 of 13_1_20180720.cnt.\n",
            "INFO:root:Processed trial 3 of 13_1_20180720.cnt.\n",
            "INFO:root:Processed trial 4 of 13_1_20180720.cnt.\n",
            "INFO:root:Processed trial 5 of 13_1_20180720.cnt.\n",
            "INFO:root:Processed trial 6 of 13_1_20180720.cnt.\n",
            "INFO:root:Processed trial 7 of 13_1_20180720.cnt.\n",
            "INFO:root:Processed trial 8 of 13_1_20180720.cnt.\n",
            "INFO:root:Processed trial 9 of 13_1_20180720.cnt.\n",
            "INFO:root:Processed trial 10 of 13_1_20180720.cnt.\n",
            "INFO:root:Processed trial 11 of 13_1_20180720.cnt.\n",
            "INFO:root:Processed trial 12 of 13_1_20180720.cnt.\n",
            "INFO:root:Processed trial 13 of 13_1_20180720.cnt.\n",
            "INFO:root:Processed trial 14 of 13_1_20180720.cnt.\n",
            "INFO:root:Processed trial 15 of 13_1_20180720.cnt.\n",
            "INFO:root:Successfully processed 13_1_20180720.cnt.\n",
            "INFO:root:Successfully loaded 13_2_20180806.cnt with date_format='mm/dd/yy'.\n",
            "INFO:root:Dropped channels ['M1', 'M2', 'VEO', 'HEO'] from 13_2_20180806.cnt.\n",
            "INFO:root:Reordered channels for 13_2_20180806.cnt.\n",
            "INFO:root:Filtering raw data for 13_2_20180806.cnt: Band-pass 0.1 - 75 Hz, Notch 50 Hz\n"
          ]
        },
        {
          "output_type": "stream",
          "name": "stdout",
          "text": [
            "Filtering raw data in 1 contiguous segment\n",
            "Setting up band-pass filter from 0.1 - 75 Hz\n",
            "\n",
            "FIR filter parameters\n",
            "---------------------\n",
            "Designing a one-pass, zero-phase, non-causal bandpass filter:\n",
            "- Windowed time-domain design (firwin) method\n",
            "- Hamming window with 0.0194 passband ripple and 53 dB stopband attenuation\n",
            "- Lower passband edge: 0.10\n",
            "- Lower transition bandwidth: 0.10 Hz (-6 dB cutoff frequency: 0.05 Hz)\n",
            "- Upper passband edge: 75.00 Hz\n",
            "- Upper transition bandwidth: 18.75 Hz (-6 dB cutoff frequency: 84.38 Hz)\n",
            "- Filter length: 33001 samples (33.001 s)\n",
            "\n"
          ]
        },
        {
          "output_type": "stream",
          "name": "stderr",
          "text": [
            "[Parallel(n_jobs=1)]: Done  17 tasks      | elapsed:    1.2s\n"
          ]
        },
        {
          "output_type": "stream",
          "name": "stdout",
          "text": [
            "Filtering raw data in 1 contiguous segment\n",
            "Setting up band-stop filter from 49 - 51 Hz\n",
            "\n",
            "FIR filter parameters\n",
            "---------------------\n",
            "Designing a one-pass, zero-phase, non-causal bandstop filter:\n",
            "- Windowed time-domain design (firwin) method\n",
            "- Hamming window with 0.0194 passband ripple and 53 dB stopband attenuation\n",
            "- Lower passband edge: 49.38\n",
            "- Lower transition bandwidth: 0.50 Hz (-6 dB cutoff frequency: 49.12 Hz)\n",
            "- Upper passband edge: 50.62 Hz\n",
            "- Upper transition bandwidth: 0.50 Hz (-6 dB cutoff frequency: 50.88 Hz)\n",
            "- Filter length: 6601 samples (6.601 s)\n",
            "\n"
          ]
        },
        {
          "output_type": "stream",
          "name": "stderr",
          "text": [
            "[Parallel(n_jobs=1)]: Done  17 tasks      | elapsed:    0.9s\n",
            "INFO:root:Filtered and resampled data for 13_2_20180806.cnt.\n",
            "INFO:root:Processed trial 1 of 13_2_20180806.cnt.\n",
            "INFO:root:Processed trial 2 of 13_2_20180806.cnt.\n",
            "INFO:root:Processed trial 3 of 13_2_20180806.cnt.\n",
            "INFO:root:Processed trial 4 of 13_2_20180806.cnt.\n",
            "INFO:root:Processed trial 5 of 13_2_20180806.cnt.\n",
            "INFO:root:Processed trial 6 of 13_2_20180806.cnt.\n",
            "INFO:root:Processed trial 7 of 13_2_20180806.cnt.\n",
            "INFO:root:Processed trial 8 of 13_2_20180806.cnt.\n",
            "INFO:root:Processed trial 9 of 13_2_20180806.cnt.\n",
            "INFO:root:Processed trial 10 of 13_2_20180806.cnt.\n",
            "INFO:root:Processed trial 11 of 13_2_20180806.cnt.\n",
            "INFO:root:Processed trial 12 of 13_2_20180806.cnt.\n",
            "INFO:root:Processed trial 13 of 13_2_20180806.cnt.\n",
            "INFO:root:Processed trial 14 of 13_2_20180806.cnt.\n",
            "INFO:root:Processed trial 15 of 13_2_20180806.cnt.\n",
            "INFO:root:Successfully processed 13_2_20180806.cnt.\n",
            "<ipython-input-5-659b640090c8>:153: RuntimeWarning:   Could not parse meas date from the header. Setting to None.\n",
            "  raw = mne.io.read_raw_cnt(\n",
            "INFO:root:Successfully loaded 13_3_20180725.cnt with date_format='mm/dd/yy'.\n",
            "INFO:root:Set meas_date for 13_3_20180725.cnt to 2018-07-25 00:00:00+00:00 (UTC).\n",
            "INFO:root:Dropped channels ['M1', 'M2', 'VEO', 'HEO'] from 13_3_20180725.cnt.\n",
            "INFO:root:Reordered channels for 13_3_20180725.cnt.\n",
            "INFO:root:Filtering raw data for 13_3_20180725.cnt: Band-pass 0.1 - 75 Hz, Notch 50 Hz\n"
          ]
        },
        {
          "output_type": "stream",
          "name": "stdout",
          "text": [
            "Filtering raw data in 1 contiguous segment\n",
            "Setting up band-pass filter from 0.1 - 75 Hz\n",
            "\n",
            "FIR filter parameters\n",
            "---------------------\n",
            "Designing a one-pass, zero-phase, non-causal bandpass filter:\n",
            "- Windowed time-domain design (firwin) method\n",
            "- Hamming window with 0.0194 passband ripple and 53 dB stopband attenuation\n",
            "- Lower passband edge: 0.10\n",
            "- Lower transition bandwidth: 0.10 Hz (-6 dB cutoff frequency: 0.05 Hz)\n",
            "- Upper passband edge: 75.00 Hz\n",
            "- Upper transition bandwidth: 18.75 Hz (-6 dB cutoff frequency: 84.38 Hz)\n",
            "- Filter length: 33001 samples (33.001 s)\n",
            "\n"
          ]
        },
        {
          "output_type": "stream",
          "name": "stderr",
          "text": [
            "[Parallel(n_jobs=1)]: Done  17 tasks      | elapsed:    1.4s\n"
          ]
        },
        {
          "output_type": "stream",
          "name": "stdout",
          "text": [
            "Filtering raw data in 1 contiguous segment\n",
            "Setting up band-stop filter from 49 - 51 Hz\n",
            "\n",
            "FIR filter parameters\n",
            "---------------------\n",
            "Designing a one-pass, zero-phase, non-causal bandstop filter:\n",
            "- Windowed time-domain design (firwin) method\n",
            "- Hamming window with 0.0194 passband ripple and 53 dB stopband attenuation\n",
            "- Lower passband edge: 49.38\n",
            "- Lower transition bandwidth: 0.50 Hz (-6 dB cutoff frequency: 49.12 Hz)\n",
            "- Upper passband edge: 50.62 Hz\n",
            "- Upper transition bandwidth: 0.50 Hz (-6 dB cutoff frequency: 50.88 Hz)\n",
            "- Filter length: 6601 samples (6.601 s)\n",
            "\n"
          ]
        },
        {
          "output_type": "stream",
          "name": "stderr",
          "text": [
            "[Parallel(n_jobs=1)]: Done  17 tasks      | elapsed:    1.0s\n",
            "INFO:root:Filtered and resampled data for 13_3_20180725.cnt.\n",
            "INFO:root:Processed trial 1 of 13_3_20180725.cnt.\n",
            "INFO:root:Processed trial 2 of 13_3_20180725.cnt.\n",
            "INFO:root:Processed trial 3 of 13_3_20180725.cnt.\n",
            "INFO:root:Processed trial 4 of 13_3_20180725.cnt.\n",
            "INFO:root:Processed trial 5 of 13_3_20180725.cnt.\n",
            "INFO:root:Processed trial 6 of 13_3_20180725.cnt.\n",
            "INFO:root:Processed trial 7 of 13_3_20180725.cnt.\n",
            "INFO:root:Processed trial 8 of 13_3_20180725.cnt.\n",
            "INFO:root:Processed trial 9 of 13_3_20180725.cnt.\n",
            "INFO:root:Processed trial 10 of 13_3_20180725.cnt.\n",
            "INFO:root:Processed trial 11 of 13_3_20180725.cnt.\n",
            "INFO:root:Processed trial 12 of 13_3_20180725.cnt.\n",
            "INFO:root:Processed trial 13 of 13_3_20180725.cnt.\n",
            "INFO:root:Processed trial 14 of 13_3_20180725.cnt.\n",
            "INFO:root:Processed trial 15 of 13_3_20180725.cnt.\n",
            "INFO:root:Successfully processed 13_3_20180725.cnt.\n",
            "<ipython-input-5-659b640090c8>:153: RuntimeWarning:   Could not parse meas date from the header. Setting to None.\n",
            "  raw = mne.io.read_raw_cnt(\n",
            "INFO:root:Successfully loaded 14_1_20180420.cnt with date_format='mm/dd/yy'.\n",
            "INFO:root:Set meas_date for 14_1_20180420.cnt to 2018-04-20 00:00:00+00:00 (UTC).\n",
            "INFO:root:Dropped channels ['M1', 'M2', 'VEO', 'HEO'] from 14_1_20180420.cnt.\n",
            "INFO:root:Reordered channels for 14_1_20180420.cnt.\n",
            "INFO:root:Filtering raw data for 14_1_20180420.cnt: Band-pass 0.1 - 75 Hz, Notch 50 Hz\n"
          ]
        },
        {
          "output_type": "stream",
          "name": "stdout",
          "text": [
            "Filtering raw data in 1 contiguous segment\n",
            "Setting up band-pass filter from 0.1 - 75 Hz\n",
            "\n",
            "FIR filter parameters\n",
            "---------------------\n",
            "Designing a one-pass, zero-phase, non-causal bandpass filter:\n",
            "- Windowed time-domain design (firwin) method\n",
            "- Hamming window with 0.0194 passband ripple and 53 dB stopband attenuation\n",
            "- Lower passband edge: 0.10\n",
            "- Lower transition bandwidth: 0.10 Hz (-6 dB cutoff frequency: 0.05 Hz)\n",
            "- Upper passband edge: 75.00 Hz\n",
            "- Upper transition bandwidth: 18.75 Hz (-6 dB cutoff frequency: 84.38 Hz)\n",
            "- Filter length: 33001 samples (33.001 s)\n",
            "\n"
          ]
        },
        {
          "output_type": "stream",
          "name": "stderr",
          "text": [
            "[Parallel(n_jobs=1)]: Done  17 tasks      | elapsed:    1.4s\n"
          ]
        },
        {
          "output_type": "stream",
          "name": "stdout",
          "text": [
            "Filtering raw data in 1 contiguous segment\n",
            "Setting up band-stop filter from 49 - 51 Hz\n",
            "\n",
            "FIR filter parameters\n",
            "---------------------\n",
            "Designing a one-pass, zero-phase, non-causal bandstop filter:\n",
            "- Windowed time-domain design (firwin) method\n",
            "- Hamming window with 0.0194 passband ripple and 53 dB stopband attenuation\n",
            "- Lower passband edge: 49.38\n",
            "- Lower transition bandwidth: 0.50 Hz (-6 dB cutoff frequency: 49.12 Hz)\n",
            "- Upper passband edge: 50.62 Hz\n",
            "- Upper transition bandwidth: 0.50 Hz (-6 dB cutoff frequency: 50.88 Hz)\n",
            "- Filter length: 6601 samples (6.601 s)\n",
            "\n"
          ]
        },
        {
          "output_type": "stream",
          "name": "stderr",
          "text": [
            "[Parallel(n_jobs=1)]: Done  17 tasks      | elapsed:    1.1s\n",
            "INFO:root:Filtered and resampled data for 14_1_20180420.cnt.\n",
            "INFO:root:Processed trial 1 of 14_1_20180420.cnt.\n",
            "INFO:root:Processed trial 2 of 14_1_20180420.cnt.\n",
            "INFO:root:Processed trial 3 of 14_1_20180420.cnt.\n",
            "INFO:root:Processed trial 4 of 14_1_20180420.cnt.\n",
            "INFO:root:Processed trial 5 of 14_1_20180420.cnt.\n",
            "INFO:root:Processed trial 6 of 14_1_20180420.cnt.\n",
            "INFO:root:Processed trial 7 of 14_1_20180420.cnt.\n",
            "INFO:root:Processed trial 8 of 14_1_20180420.cnt.\n",
            "INFO:root:Processed trial 9 of 14_1_20180420.cnt.\n",
            "INFO:root:Processed trial 10 of 14_1_20180420.cnt.\n",
            "INFO:root:Processed trial 11 of 14_1_20180420.cnt.\n",
            "INFO:root:Processed trial 12 of 14_1_20180420.cnt.\n",
            "INFO:root:Processed trial 13 of 14_1_20180420.cnt.\n",
            "INFO:root:Processed trial 14 of 14_1_20180420.cnt.\n",
            "INFO:root:Processed trial 15 of 14_1_20180420.cnt.\n",
            "INFO:root:Successfully processed 14_1_20180420.cnt.\n",
            "<ipython-input-5-659b640090c8>:153: RuntimeWarning:   Could not parse meas date from the header. Setting to None.\n",
            "  raw = mne.io.read_raw_cnt(\n",
            "INFO:root:Successfully loaded 14_2_20180423.cnt with date_format='mm/dd/yy'.\n",
            "INFO:root:Set meas_date for 14_2_20180423.cnt to 2018-04-23 00:00:00+00:00 (UTC).\n",
            "INFO:root:Dropped channels ['M1', 'M2', 'VEO', 'HEO'] from 14_2_20180423.cnt.\n",
            "INFO:root:Reordered channels for 14_2_20180423.cnt.\n",
            "INFO:root:Filtering raw data for 14_2_20180423.cnt: Band-pass 0.1 - 75 Hz, Notch 50 Hz\n"
          ]
        },
        {
          "output_type": "stream",
          "name": "stdout",
          "text": [
            "Filtering raw data in 1 contiguous segment\n",
            "Setting up band-pass filter from 0.1 - 75 Hz\n",
            "\n",
            "FIR filter parameters\n",
            "---------------------\n",
            "Designing a one-pass, zero-phase, non-causal bandpass filter:\n",
            "- Windowed time-domain design (firwin) method\n",
            "- Hamming window with 0.0194 passband ripple and 53 dB stopband attenuation\n",
            "- Lower passband edge: 0.10\n",
            "- Lower transition bandwidth: 0.10 Hz (-6 dB cutoff frequency: 0.05 Hz)\n",
            "- Upper passband edge: 75.00 Hz\n",
            "- Upper transition bandwidth: 18.75 Hz (-6 dB cutoff frequency: 84.38 Hz)\n",
            "- Filter length: 33001 samples (33.001 s)\n",
            "\n"
          ]
        },
        {
          "output_type": "stream",
          "name": "stderr",
          "text": [
            "[Parallel(n_jobs=1)]: Done  17 tasks      | elapsed:    1.2s\n"
          ]
        },
        {
          "output_type": "stream",
          "name": "stdout",
          "text": [
            "Filtering raw data in 1 contiguous segment\n",
            "Setting up band-stop filter from 49 - 51 Hz\n",
            "\n",
            "FIR filter parameters\n",
            "---------------------\n",
            "Designing a one-pass, zero-phase, non-causal bandstop filter:\n",
            "- Windowed time-domain design (firwin) method\n",
            "- Hamming window with 0.0194 passband ripple and 53 dB stopband attenuation\n",
            "- Lower passband edge: 49.38\n",
            "- Lower transition bandwidth: 0.50 Hz (-6 dB cutoff frequency: 49.12 Hz)\n",
            "- Upper passband edge: 50.62 Hz\n",
            "- Upper transition bandwidth: 0.50 Hz (-6 dB cutoff frequency: 50.88 Hz)\n",
            "- Filter length: 6601 samples (6.601 s)\n",
            "\n"
          ]
        },
        {
          "output_type": "stream",
          "name": "stderr",
          "text": [
            "[Parallel(n_jobs=1)]: Done  17 tasks      | elapsed:    1.0s\n",
            "INFO:root:Filtered and resampled data for 14_2_20180423.cnt.\n",
            "INFO:root:Processed trial 1 of 14_2_20180423.cnt.\n",
            "INFO:root:Processed trial 2 of 14_2_20180423.cnt.\n",
            "INFO:root:Processed trial 3 of 14_2_20180423.cnt.\n",
            "INFO:root:Processed trial 4 of 14_2_20180423.cnt.\n",
            "INFO:root:Processed trial 5 of 14_2_20180423.cnt.\n",
            "INFO:root:Processed trial 6 of 14_2_20180423.cnt.\n",
            "INFO:root:Processed trial 7 of 14_2_20180423.cnt.\n",
            "INFO:root:Processed trial 8 of 14_2_20180423.cnt.\n",
            "INFO:root:Processed trial 9 of 14_2_20180423.cnt.\n",
            "INFO:root:Processed trial 10 of 14_2_20180423.cnt.\n",
            "INFO:root:Processed trial 11 of 14_2_20180423.cnt.\n",
            "INFO:root:Processed trial 12 of 14_2_20180423.cnt.\n",
            "INFO:root:Processed trial 13 of 14_2_20180423.cnt.\n",
            "INFO:root:Processed trial 14 of 14_2_20180423.cnt.\n",
            "INFO:root:Processed trial 15 of 14_2_20180423.cnt.\n",
            "INFO:root:Successfully processed 14_2_20180423.cnt.\n",
            "<ipython-input-5-659b640090c8>:153: RuntimeWarning:   Could not parse meas date from the header. Setting to None.\n",
            "  raw = mne.io.read_raw_cnt(\n",
            "INFO:root:Successfully loaded 14_3_20180427.cnt with date_format='mm/dd/yy'.\n",
            "INFO:root:Set meas_date for 14_3_20180427.cnt to 2018-04-27 00:00:00+00:00 (UTC).\n",
            "INFO:root:Dropped channels ['M1', 'M2', 'VEO', 'HEO'] from 14_3_20180427.cnt.\n",
            "INFO:root:Reordered channels for 14_3_20180427.cnt.\n",
            "INFO:root:Filtering raw data for 14_3_20180427.cnt: Band-pass 0.1 - 75 Hz, Notch 50 Hz\n"
          ]
        },
        {
          "output_type": "stream",
          "name": "stdout",
          "text": [
            "Filtering raw data in 1 contiguous segment\n",
            "Setting up band-pass filter from 0.1 - 75 Hz\n",
            "\n",
            "FIR filter parameters\n",
            "---------------------\n",
            "Designing a one-pass, zero-phase, non-causal bandpass filter:\n",
            "- Windowed time-domain design (firwin) method\n",
            "- Hamming window with 0.0194 passband ripple and 53 dB stopband attenuation\n",
            "- Lower passband edge: 0.10\n",
            "- Lower transition bandwidth: 0.10 Hz (-6 dB cutoff frequency: 0.05 Hz)\n",
            "- Upper passband edge: 75.00 Hz\n",
            "- Upper transition bandwidth: 18.75 Hz (-6 dB cutoff frequency: 84.38 Hz)\n",
            "- Filter length: 33001 samples (33.001 s)\n",
            "\n"
          ]
        },
        {
          "output_type": "stream",
          "name": "stderr",
          "text": [
            "[Parallel(n_jobs=1)]: Done  17 tasks      | elapsed:    1.3s\n"
          ]
        },
        {
          "output_type": "stream",
          "name": "stdout",
          "text": [
            "Filtering raw data in 1 contiguous segment\n",
            "Setting up band-stop filter from 49 - 51 Hz\n",
            "\n",
            "FIR filter parameters\n",
            "---------------------\n",
            "Designing a one-pass, zero-phase, non-causal bandstop filter:\n",
            "- Windowed time-domain design (firwin) method\n",
            "- Hamming window with 0.0194 passband ripple and 53 dB stopband attenuation\n",
            "- Lower passband edge: 49.38\n",
            "- Lower transition bandwidth: 0.50 Hz (-6 dB cutoff frequency: 49.12 Hz)\n",
            "- Upper passband edge: 50.62 Hz\n",
            "- Upper transition bandwidth: 0.50 Hz (-6 dB cutoff frequency: 50.88 Hz)\n",
            "- Filter length: 6601 samples (6.601 s)\n",
            "\n"
          ]
        },
        {
          "output_type": "stream",
          "name": "stderr",
          "text": [
            "[Parallel(n_jobs=1)]: Done  17 tasks      | elapsed:    1.0s\n",
            "INFO:root:Filtered and resampled data for 14_3_20180427.cnt.\n",
            "INFO:root:Processed trial 1 of 14_3_20180427.cnt.\n",
            "INFO:root:Processed trial 2 of 14_3_20180427.cnt.\n",
            "INFO:root:Processed trial 3 of 14_3_20180427.cnt.\n",
            "INFO:root:Processed trial 4 of 14_3_20180427.cnt.\n",
            "INFO:root:Processed trial 5 of 14_3_20180427.cnt.\n",
            "INFO:root:Processed trial 6 of 14_3_20180427.cnt.\n",
            "INFO:root:Processed trial 7 of 14_3_20180427.cnt.\n",
            "INFO:root:Processed trial 8 of 14_3_20180427.cnt.\n",
            "INFO:root:Processed trial 9 of 14_3_20180427.cnt.\n",
            "INFO:root:Processed trial 10 of 14_3_20180427.cnt.\n",
            "INFO:root:Processed trial 11 of 14_3_20180427.cnt.\n",
            "INFO:root:Processed trial 12 of 14_3_20180427.cnt.\n",
            "INFO:root:Processed trial 13 of 14_3_20180427.cnt.\n",
            "INFO:root:Processed trial 14 of 14_3_20180427.cnt.\n",
            "INFO:root:Processed trial 15 of 14_3_20180427.cnt.\n",
            "INFO:root:Successfully processed 14_3_20180427.cnt.\n",
            "<ipython-input-5-659b640090c8>:153: RuntimeWarning:   Could not parse meas date from the header. Setting to None.\n",
            "  raw = mne.io.read_raw_cnt(\n",
            "INFO:root:Successfully loaded 15_1_20180724.cnt with date_format='mm/dd/yy'.\n",
            "INFO:root:Set meas_date for 15_1_20180724.cnt to 2018-07-24 00:00:00+00:00 (UTC).\n",
            "INFO:root:Dropped channels ['M1', 'M2', 'VEO', 'HEO'] from 15_1_20180724.cnt.\n",
            "INFO:root:Reordered channels for 15_1_20180724.cnt.\n",
            "INFO:root:Filtering raw data for 15_1_20180724.cnt: Band-pass 0.1 - 75 Hz, Notch 50 Hz\n"
          ]
        },
        {
          "output_type": "stream",
          "name": "stdout",
          "text": [
            "Filtering raw data in 1 contiguous segment\n",
            "Setting up band-pass filter from 0.1 - 75 Hz\n",
            "\n",
            "FIR filter parameters\n",
            "---------------------\n",
            "Designing a one-pass, zero-phase, non-causal bandpass filter:\n",
            "- Windowed time-domain design (firwin) method\n",
            "- Hamming window with 0.0194 passband ripple and 53 dB stopband attenuation\n",
            "- Lower passband edge: 0.10\n",
            "- Lower transition bandwidth: 0.10 Hz (-6 dB cutoff frequency: 0.05 Hz)\n",
            "- Upper passband edge: 75.00 Hz\n",
            "- Upper transition bandwidth: 18.75 Hz (-6 dB cutoff frequency: 84.38 Hz)\n",
            "- Filter length: 33001 samples (33.001 s)\n",
            "\n"
          ]
        },
        {
          "output_type": "stream",
          "name": "stderr",
          "text": [
            "[Parallel(n_jobs=1)]: Done  17 tasks      | elapsed:    1.5s\n"
          ]
        },
        {
          "output_type": "stream",
          "name": "stdout",
          "text": [
            "Filtering raw data in 1 contiguous segment\n",
            "Setting up band-stop filter from 49 - 51 Hz\n",
            "\n",
            "FIR filter parameters\n",
            "---------------------\n",
            "Designing a one-pass, zero-phase, non-causal bandstop filter:\n",
            "- Windowed time-domain design (firwin) method\n",
            "- Hamming window with 0.0194 passband ripple and 53 dB stopband attenuation\n",
            "- Lower passband edge: 49.38\n",
            "- Lower transition bandwidth: 0.50 Hz (-6 dB cutoff frequency: 49.12 Hz)\n",
            "- Upper passband edge: 50.62 Hz\n",
            "- Upper transition bandwidth: 0.50 Hz (-6 dB cutoff frequency: 50.88 Hz)\n",
            "- Filter length: 6601 samples (6.601 s)\n",
            "\n"
          ]
        },
        {
          "output_type": "stream",
          "name": "stderr",
          "text": [
            "[Parallel(n_jobs=1)]: Done  17 tasks      | elapsed:    1.1s\n",
            "INFO:root:Filtered and resampled data for 15_1_20180724.cnt.\n",
            "INFO:root:Processed trial 1 of 15_1_20180724.cnt.\n",
            "INFO:root:Processed trial 2 of 15_1_20180724.cnt.\n",
            "INFO:root:Processed trial 3 of 15_1_20180724.cnt.\n",
            "INFO:root:Processed trial 4 of 15_1_20180724.cnt.\n",
            "INFO:root:Processed trial 5 of 15_1_20180724.cnt.\n",
            "INFO:root:Processed trial 6 of 15_1_20180724.cnt.\n",
            "INFO:root:Processed trial 7 of 15_1_20180724.cnt.\n",
            "INFO:root:Processed trial 8 of 15_1_20180724.cnt.\n",
            "INFO:root:Processed trial 9 of 15_1_20180724.cnt.\n",
            "INFO:root:Processed trial 10 of 15_1_20180724.cnt.\n",
            "INFO:root:Processed trial 11 of 15_1_20180724.cnt.\n",
            "INFO:root:Processed trial 12 of 15_1_20180724.cnt.\n",
            "INFO:root:Processed trial 13 of 15_1_20180724.cnt.\n",
            "INFO:root:Processed trial 14 of 15_1_20180724.cnt.\n",
            "INFO:root:Processed trial 15 of 15_1_20180724.cnt.\n",
            "INFO:root:Successfully processed 15_1_20180724.cnt.\n",
            "INFO:root:Successfully loaded 15_2_20180807.cnt with date_format='mm/dd/yy'.\n",
            "INFO:root:Dropped channels ['M1', 'M2', 'VEO', 'HEO'] from 15_2_20180807.cnt.\n",
            "INFO:root:Reordered channels for 15_2_20180807.cnt.\n",
            "INFO:root:Filtering raw data for 15_2_20180807.cnt: Band-pass 0.1 - 75 Hz, Notch 50 Hz\n"
          ]
        },
        {
          "output_type": "stream",
          "name": "stdout",
          "text": [
            "Filtering raw data in 1 contiguous segment\n",
            "Setting up band-pass filter from 0.1 - 75 Hz\n",
            "\n",
            "FIR filter parameters\n",
            "---------------------\n",
            "Designing a one-pass, zero-phase, non-causal bandpass filter:\n",
            "- Windowed time-domain design (firwin) method\n",
            "- Hamming window with 0.0194 passband ripple and 53 dB stopband attenuation\n",
            "- Lower passband edge: 0.10\n",
            "- Lower transition bandwidth: 0.10 Hz (-6 dB cutoff frequency: 0.05 Hz)\n",
            "- Upper passband edge: 75.00 Hz\n",
            "- Upper transition bandwidth: 18.75 Hz (-6 dB cutoff frequency: 84.38 Hz)\n",
            "- Filter length: 33001 samples (33.001 s)\n",
            "\n"
          ]
        },
        {
          "output_type": "stream",
          "name": "stderr",
          "text": [
            "[Parallel(n_jobs=1)]: Done  17 tasks      | elapsed:    1.4s\n"
          ]
        },
        {
          "output_type": "stream",
          "name": "stdout",
          "text": [
            "Filtering raw data in 1 contiguous segment\n",
            "Setting up band-stop filter from 49 - 51 Hz\n",
            "\n",
            "FIR filter parameters\n",
            "---------------------\n",
            "Designing a one-pass, zero-phase, non-causal bandstop filter:\n",
            "- Windowed time-domain design (firwin) method\n",
            "- Hamming window with 0.0194 passband ripple and 53 dB stopband attenuation\n",
            "- Lower passband edge: 49.38\n",
            "- Lower transition bandwidth: 0.50 Hz (-6 dB cutoff frequency: 49.12 Hz)\n",
            "- Upper passband edge: 50.62 Hz\n",
            "- Upper transition bandwidth: 0.50 Hz (-6 dB cutoff frequency: 50.88 Hz)\n",
            "- Filter length: 6601 samples (6.601 s)\n",
            "\n"
          ]
        },
        {
          "output_type": "stream",
          "name": "stderr",
          "text": [
            "[Parallel(n_jobs=1)]: Done  17 tasks      | elapsed:    1.1s\n",
            "INFO:root:Filtered and resampled data for 15_2_20180807.cnt.\n",
            "INFO:root:Processed trial 1 of 15_2_20180807.cnt.\n",
            "INFO:root:Processed trial 2 of 15_2_20180807.cnt.\n",
            "INFO:root:Processed trial 3 of 15_2_20180807.cnt.\n",
            "INFO:root:Processed trial 4 of 15_2_20180807.cnt.\n",
            "INFO:root:Processed trial 5 of 15_2_20180807.cnt.\n",
            "INFO:root:Processed trial 6 of 15_2_20180807.cnt.\n",
            "INFO:root:Processed trial 7 of 15_2_20180807.cnt.\n",
            "INFO:root:Processed trial 8 of 15_2_20180807.cnt.\n",
            "INFO:root:Processed trial 9 of 15_2_20180807.cnt.\n",
            "INFO:root:Processed trial 10 of 15_2_20180807.cnt.\n",
            "INFO:root:Processed trial 11 of 15_2_20180807.cnt.\n",
            "INFO:root:Processed trial 12 of 15_2_20180807.cnt.\n",
            "INFO:root:Processed trial 13 of 15_2_20180807.cnt.\n",
            "INFO:root:Processed trial 14 of 15_2_20180807.cnt.\n",
            "INFO:root:Processed trial 15 of 15_2_20180807.cnt.\n",
            "INFO:root:Successfully processed 15_2_20180807.cnt.\n",
            "<ipython-input-5-659b640090c8>:153: RuntimeWarning:   Could not parse meas date from the header. Setting to None.\n",
            "  raw = mne.io.read_raw_cnt(\n",
            "INFO:root:Successfully loaded 15_3_20180730.cnt with date_format='mm/dd/yy'.\n",
            "INFO:root:Set meas_date for 15_3_20180730.cnt to 2018-07-30 00:00:00+00:00 (UTC).\n",
            "INFO:root:Dropped channels ['M1', 'M2', 'VEO', 'HEO'] from 15_3_20180730.cnt.\n",
            "INFO:root:Reordered channels for 15_3_20180730.cnt.\n",
            "INFO:root:Filtering raw data for 15_3_20180730.cnt: Band-pass 0.1 - 75 Hz, Notch 50 Hz\n"
          ]
        },
        {
          "output_type": "stream",
          "name": "stdout",
          "text": [
            "Filtering raw data in 1 contiguous segment\n",
            "Setting up band-pass filter from 0.1 - 75 Hz\n",
            "\n",
            "FIR filter parameters\n",
            "---------------------\n",
            "Designing a one-pass, zero-phase, non-causal bandpass filter:\n",
            "- Windowed time-domain design (firwin) method\n",
            "- Hamming window with 0.0194 passband ripple and 53 dB stopband attenuation\n",
            "- Lower passband edge: 0.10\n",
            "- Lower transition bandwidth: 0.10 Hz (-6 dB cutoff frequency: 0.05 Hz)\n",
            "- Upper passband edge: 75.00 Hz\n",
            "- Upper transition bandwidth: 18.75 Hz (-6 dB cutoff frequency: 84.38 Hz)\n",
            "- Filter length: 33001 samples (33.001 s)\n",
            "\n"
          ]
        },
        {
          "output_type": "stream",
          "name": "stderr",
          "text": [
            "[Parallel(n_jobs=1)]: Done  17 tasks      | elapsed:    2.1s\n"
          ]
        },
        {
          "output_type": "stream",
          "name": "stdout",
          "text": [
            "Filtering raw data in 1 contiguous segment\n",
            "Setting up band-stop filter from 49 - 51 Hz\n",
            "\n",
            "FIR filter parameters\n",
            "---------------------\n",
            "Designing a one-pass, zero-phase, non-causal bandstop filter:\n",
            "- Windowed time-domain design (firwin) method\n",
            "- Hamming window with 0.0194 passband ripple and 53 dB stopband attenuation\n",
            "- Lower passband edge: 49.38\n",
            "- Lower transition bandwidth: 0.50 Hz (-6 dB cutoff frequency: 49.12 Hz)\n",
            "- Upper passband edge: 50.62 Hz\n",
            "- Upper transition bandwidth: 0.50 Hz (-6 dB cutoff frequency: 50.88 Hz)\n",
            "- Filter length: 6601 samples (6.601 s)\n",
            "\n"
          ]
        },
        {
          "output_type": "stream",
          "name": "stderr",
          "text": [
            "[Parallel(n_jobs=1)]: Done  17 tasks      | elapsed:    1.7s\n",
            "INFO:root:Filtered and resampled data for 15_3_20180730.cnt.\n",
            "INFO:root:Processed trial 1 of 15_3_20180730.cnt.\n",
            "INFO:root:Processed trial 2 of 15_3_20180730.cnt.\n",
            "INFO:root:Processed trial 3 of 15_3_20180730.cnt.\n",
            "INFO:root:Processed trial 4 of 15_3_20180730.cnt.\n",
            "INFO:root:Processed trial 5 of 15_3_20180730.cnt.\n",
            "INFO:root:Processed trial 6 of 15_3_20180730.cnt.\n",
            "INFO:root:Processed trial 7 of 15_3_20180730.cnt.\n",
            "INFO:root:Processed trial 8 of 15_3_20180730.cnt.\n",
            "INFO:root:Processed trial 9 of 15_3_20180730.cnt.\n",
            "INFO:root:Processed trial 10 of 15_3_20180730.cnt.\n",
            "INFO:root:Processed trial 11 of 15_3_20180730.cnt.\n",
            "INFO:root:Processed trial 12 of 15_3_20180730.cnt.\n",
            "INFO:root:Processed trial 13 of 15_3_20180730.cnt.\n",
            "INFO:root:Processed trial 14 of 15_3_20180730.cnt.\n",
            "INFO:root:Processed trial 15 of 15_3_20180730.cnt.\n",
            "INFO:root:Successfully processed 15_3_20180730.cnt.\n",
            "INFO:root:Successfully loaded 16_1_20180805.cnt with date_format='mm/dd/yy'.\n",
            "INFO:root:Dropped channels ['M1', 'M2', 'VEO', 'HEO'] from 16_1_20180805.cnt.\n",
            "INFO:root:Reordered channels for 16_1_20180805.cnt.\n",
            "INFO:root:Filtering raw data for 16_1_20180805.cnt: Band-pass 0.1 - 75 Hz, Notch 50 Hz\n"
          ]
        },
        {
          "output_type": "stream",
          "name": "stdout",
          "text": [
            "Filtering raw data in 1 contiguous segment\n",
            "Setting up band-pass filter from 0.1 - 75 Hz\n",
            "\n",
            "FIR filter parameters\n",
            "---------------------\n",
            "Designing a one-pass, zero-phase, non-causal bandpass filter:\n",
            "- Windowed time-domain design (firwin) method\n",
            "- Hamming window with 0.0194 passband ripple and 53 dB stopband attenuation\n",
            "- Lower passband edge: 0.10\n",
            "- Lower transition bandwidth: 0.10 Hz (-6 dB cutoff frequency: 0.05 Hz)\n",
            "- Upper passband edge: 75.00 Hz\n",
            "- Upper transition bandwidth: 18.75 Hz (-6 dB cutoff frequency: 84.38 Hz)\n",
            "- Filter length: 33001 samples (33.001 s)\n",
            "\n"
          ]
        },
        {
          "output_type": "stream",
          "name": "stderr",
          "text": [
            "[Parallel(n_jobs=1)]: Done  17 tasks      | elapsed:    1.4s\n"
          ]
        },
        {
          "output_type": "stream",
          "name": "stdout",
          "text": [
            "Filtering raw data in 1 contiguous segment\n",
            "Setting up band-stop filter from 49 - 51 Hz\n",
            "\n",
            "FIR filter parameters\n",
            "---------------------\n",
            "Designing a one-pass, zero-phase, non-causal bandstop filter:\n",
            "- Windowed time-domain design (firwin) method\n",
            "- Hamming window with 0.0194 passband ripple and 53 dB stopband attenuation\n",
            "- Lower passband edge: 49.38\n",
            "- Lower transition bandwidth: 0.50 Hz (-6 dB cutoff frequency: 49.12 Hz)\n",
            "- Upper passband edge: 50.62 Hz\n",
            "- Upper transition bandwidth: 0.50 Hz (-6 dB cutoff frequency: 50.88 Hz)\n",
            "- Filter length: 6601 samples (6.601 s)\n",
            "\n"
          ]
        },
        {
          "output_type": "stream",
          "name": "stderr",
          "text": [
            "[Parallel(n_jobs=1)]: Done  17 tasks      | elapsed:    1.1s\n",
            "INFO:root:Filtered and resampled data for 16_1_20180805.cnt.\n",
            "INFO:root:Processed trial 1 of 16_1_20180805.cnt.\n",
            "INFO:root:Processed trial 2 of 16_1_20180805.cnt.\n",
            "INFO:root:Processed trial 3 of 16_1_20180805.cnt.\n",
            "INFO:root:Processed trial 4 of 16_1_20180805.cnt.\n",
            "INFO:root:Processed trial 5 of 16_1_20180805.cnt.\n",
            "INFO:root:Processed trial 6 of 16_1_20180805.cnt.\n",
            "INFO:root:Processed trial 7 of 16_1_20180805.cnt.\n",
            "INFO:root:Processed trial 8 of 16_1_20180805.cnt.\n",
            "INFO:root:Processed trial 9 of 16_1_20180805.cnt.\n",
            "INFO:root:Processed trial 10 of 16_1_20180805.cnt.\n",
            "INFO:root:Processed trial 11 of 16_1_20180805.cnt.\n",
            "INFO:root:Processed trial 12 of 16_1_20180805.cnt.\n",
            "INFO:root:Processed trial 13 of 16_1_20180805.cnt.\n",
            "INFO:root:Processed trial 14 of 16_1_20180805.cnt.\n",
            "INFO:root:Processed trial 15 of 16_1_20180805.cnt.\n",
            "INFO:root:Successfully processed 16_1_20180805.cnt.\n",
            "<ipython-input-5-659b640090c8>:153: RuntimeWarning:   Could not parse meas date from the header. Setting to None.\n",
            "  raw = mne.io.read_raw_cnt(\n",
            "INFO:root:Successfully loaded 16_2_20180815.cnt with date_format='mm/dd/yy'.\n",
            "INFO:root:Set meas_date for 16_2_20180815.cnt to 2018-08-15 00:00:00+00:00 (UTC).\n",
            "INFO:root:Dropped channels ['M1', 'M2', 'VEO', 'HEO'] from 16_2_20180815.cnt.\n",
            "INFO:root:Reordered channels for 16_2_20180815.cnt.\n",
            "INFO:root:Filtering raw data for 16_2_20180815.cnt: Band-pass 0.1 - 75 Hz, Notch 50 Hz\n"
          ]
        },
        {
          "output_type": "stream",
          "name": "stdout",
          "text": [
            "Filtering raw data in 1 contiguous segment\n",
            "Setting up band-pass filter from 0.1 - 75 Hz\n",
            "\n",
            "FIR filter parameters\n",
            "---------------------\n",
            "Designing a one-pass, zero-phase, non-causal bandpass filter:\n",
            "- Windowed time-domain design (firwin) method\n",
            "- Hamming window with 0.0194 passband ripple and 53 dB stopband attenuation\n",
            "- Lower passband edge: 0.10\n",
            "- Lower transition bandwidth: 0.10 Hz (-6 dB cutoff frequency: 0.05 Hz)\n",
            "- Upper passband edge: 75.00 Hz\n",
            "- Upper transition bandwidth: 18.75 Hz (-6 dB cutoff frequency: 84.38 Hz)\n",
            "- Filter length: 33001 samples (33.001 s)\n",
            "\n"
          ]
        },
        {
          "output_type": "stream",
          "name": "stderr",
          "text": [
            "[Parallel(n_jobs=1)]: Done  17 tasks      | elapsed:    1.3s\n"
          ]
        },
        {
          "output_type": "stream",
          "name": "stdout",
          "text": [
            "Filtering raw data in 1 contiguous segment\n",
            "Setting up band-stop filter from 49 - 51 Hz\n",
            "\n",
            "FIR filter parameters\n",
            "---------------------\n",
            "Designing a one-pass, zero-phase, non-causal bandstop filter:\n",
            "- Windowed time-domain design (firwin) method\n",
            "- Hamming window with 0.0194 passband ripple and 53 dB stopband attenuation\n",
            "- Lower passband edge: 49.38\n",
            "- Lower transition bandwidth: 0.50 Hz (-6 dB cutoff frequency: 49.12 Hz)\n",
            "- Upper passband edge: 50.62 Hz\n",
            "- Upper transition bandwidth: 0.50 Hz (-6 dB cutoff frequency: 50.88 Hz)\n",
            "- Filter length: 6601 samples (6.601 s)\n",
            "\n"
          ]
        },
        {
          "output_type": "stream",
          "name": "stderr",
          "text": [
            "[Parallel(n_jobs=1)]: Done  17 tasks      | elapsed:    1.0s\n",
            "INFO:root:Filtered and resampled data for 16_2_20180815.cnt.\n",
            "INFO:root:Processed trial 1 of 16_2_20180815.cnt.\n",
            "INFO:root:Processed trial 2 of 16_2_20180815.cnt.\n",
            "INFO:root:Processed trial 3 of 16_2_20180815.cnt.\n",
            "INFO:root:Processed trial 4 of 16_2_20180815.cnt.\n",
            "INFO:root:Processed trial 5 of 16_2_20180815.cnt.\n",
            "INFO:root:Processed trial 6 of 16_2_20180815.cnt.\n",
            "INFO:root:Processed trial 7 of 16_2_20180815.cnt.\n",
            "INFO:root:Processed trial 8 of 16_2_20180815.cnt.\n",
            "INFO:root:Processed trial 9 of 16_2_20180815.cnt.\n",
            "INFO:root:Processed trial 10 of 16_2_20180815.cnt.\n",
            "INFO:root:Processed trial 11 of 16_2_20180815.cnt.\n",
            "INFO:root:Processed trial 12 of 16_2_20180815.cnt.\n",
            "INFO:root:Processed trial 13 of 16_2_20180815.cnt.\n",
            "INFO:root:Processed trial 14 of 16_2_20180815.cnt.\n",
            "INFO:root:Processed trial 15 of 16_2_20180815.cnt.\n",
            "INFO:root:Successfully processed 16_2_20180815.cnt.\n",
            "<ipython-input-5-659b640090c8>:153: RuntimeWarning:   Could not parse meas date from the header. Setting to None.\n",
            "  raw = mne.io.read_raw_cnt(\n",
            "INFO:root:Successfully loaded 16_3_20180813.cnt with date_format='mm/dd/yy'.\n",
            "INFO:root:Set meas_date for 16_3_20180813.cnt to 2018-08-13 00:00:00+00:00 (UTC).\n",
            "INFO:root:Dropped channels ['M1', 'M2', 'VEO', 'HEO'] from 16_3_20180813.cnt.\n",
            "INFO:root:Reordered channels for 16_3_20180813.cnt.\n",
            "INFO:root:Filtering raw data for 16_3_20180813.cnt: Band-pass 0.1 - 75 Hz, Notch 50 Hz\n"
          ]
        },
        {
          "output_type": "stream",
          "name": "stdout",
          "text": [
            "Filtering raw data in 1 contiguous segment\n",
            "Setting up band-pass filter from 0.1 - 75 Hz\n",
            "\n",
            "FIR filter parameters\n",
            "---------------------\n",
            "Designing a one-pass, zero-phase, non-causal bandpass filter:\n",
            "- Windowed time-domain design (firwin) method\n",
            "- Hamming window with 0.0194 passband ripple and 53 dB stopband attenuation\n",
            "- Lower passband edge: 0.10\n",
            "- Lower transition bandwidth: 0.10 Hz (-6 dB cutoff frequency: 0.05 Hz)\n",
            "- Upper passband edge: 75.00 Hz\n",
            "- Upper transition bandwidth: 18.75 Hz (-6 dB cutoff frequency: 84.38 Hz)\n",
            "- Filter length: 33001 samples (33.001 s)\n",
            "\n"
          ]
        },
        {
          "output_type": "stream",
          "name": "stderr",
          "text": [
            "[Parallel(n_jobs=1)]: Done  17 tasks      | elapsed:    1.4s\n"
          ]
        },
        {
          "output_type": "stream",
          "name": "stdout",
          "text": [
            "Filtering raw data in 1 contiguous segment\n",
            "Setting up band-stop filter from 49 - 51 Hz\n",
            "\n",
            "FIR filter parameters\n",
            "---------------------\n",
            "Designing a one-pass, zero-phase, non-causal bandstop filter:\n",
            "- Windowed time-domain design (firwin) method\n",
            "- Hamming window with 0.0194 passband ripple and 53 dB stopband attenuation\n",
            "- Lower passband edge: 49.38\n",
            "- Lower transition bandwidth: 0.50 Hz (-6 dB cutoff frequency: 49.12 Hz)\n",
            "- Upper passband edge: 50.62 Hz\n",
            "- Upper transition bandwidth: 0.50 Hz (-6 dB cutoff frequency: 50.88 Hz)\n",
            "- Filter length: 6601 samples (6.601 s)\n",
            "\n"
          ]
        },
        {
          "output_type": "stream",
          "name": "stderr",
          "text": [
            "[Parallel(n_jobs=1)]: Done  17 tasks      | elapsed:    1.1s\n",
            "INFO:root:Filtered and resampled data for 16_3_20180813.cnt.\n",
            "INFO:root:Processed trial 1 of 16_3_20180813.cnt.\n",
            "INFO:root:Processed trial 2 of 16_3_20180813.cnt.\n",
            "INFO:root:Processed trial 3 of 16_3_20180813.cnt.\n",
            "INFO:root:Processed trial 4 of 16_3_20180813.cnt.\n",
            "INFO:root:Processed trial 5 of 16_3_20180813.cnt.\n",
            "INFO:root:Processed trial 6 of 16_3_20180813.cnt.\n",
            "INFO:root:Processed trial 7 of 16_3_20180813.cnt.\n",
            "INFO:root:Processed trial 8 of 16_3_20180813.cnt.\n",
            "INFO:root:Processed trial 9 of 16_3_20180813.cnt.\n",
            "INFO:root:Processed trial 10 of 16_3_20180813.cnt.\n",
            "INFO:root:Processed trial 11 of 16_3_20180813.cnt.\n",
            "INFO:root:Processed trial 12 of 16_3_20180813.cnt.\n",
            "INFO:root:Processed trial 13 of 16_3_20180813.cnt.\n",
            "INFO:root:Processed trial 14 of 16_3_20180813.cnt.\n",
            "INFO:root:Processed trial 15 of 16_3_20180813.cnt.\n",
            "INFO:root:Successfully processed 16_3_20180813.cnt.\n",
            "INFO:root:Successfully loaded 1_1_20180804.cnt with date_format='mm/dd/yy'.\n",
            "INFO:root:Dropped channels ['M1', 'M2', 'VEO', 'HEO'] from 1_1_20180804.cnt.\n",
            "INFO:root:Reordered channels for 1_1_20180804.cnt.\n",
            "INFO:root:Filtering raw data for 1_1_20180804.cnt: Band-pass 0.1 - 75 Hz, Notch 50 Hz\n"
          ]
        },
        {
          "output_type": "stream",
          "name": "stdout",
          "text": [
            "Filtering raw data in 1 contiguous segment\n",
            "Setting up band-pass filter from 0.1 - 75 Hz\n",
            "\n",
            "FIR filter parameters\n",
            "---------------------\n",
            "Designing a one-pass, zero-phase, non-causal bandpass filter:\n",
            "- Windowed time-domain design (firwin) method\n",
            "- Hamming window with 0.0194 passband ripple and 53 dB stopband attenuation\n",
            "- Lower passband edge: 0.10\n",
            "- Lower transition bandwidth: 0.10 Hz (-6 dB cutoff frequency: 0.05 Hz)\n",
            "- Upper passband edge: 75.00 Hz\n",
            "- Upper transition bandwidth: 18.75 Hz (-6 dB cutoff frequency: 84.38 Hz)\n",
            "- Filter length: 33001 samples (33.001 s)\n",
            "\n"
          ]
        },
        {
          "output_type": "stream",
          "name": "stderr",
          "text": [
            "[Parallel(n_jobs=1)]: Done  17 tasks      | elapsed:    1.5s\n"
          ]
        },
        {
          "output_type": "stream",
          "name": "stdout",
          "text": [
            "Filtering raw data in 1 contiguous segment\n",
            "Setting up band-stop filter from 49 - 51 Hz\n",
            "\n",
            "FIR filter parameters\n",
            "---------------------\n",
            "Designing a one-pass, zero-phase, non-causal bandstop filter:\n",
            "- Windowed time-domain design (firwin) method\n",
            "- Hamming window with 0.0194 passband ripple and 53 dB stopband attenuation\n",
            "- Lower passband edge: 49.38\n",
            "- Lower transition bandwidth: 0.50 Hz (-6 dB cutoff frequency: 49.12 Hz)\n",
            "- Upper passband edge: 50.62 Hz\n",
            "- Upper transition bandwidth: 0.50 Hz (-6 dB cutoff frequency: 50.88 Hz)\n",
            "- Filter length: 6601 samples (6.601 s)\n",
            "\n"
          ]
        },
        {
          "output_type": "stream",
          "name": "stderr",
          "text": [
            "[Parallel(n_jobs=1)]: Done  17 tasks      | elapsed:    1.1s\n",
            "INFO:root:Filtered and resampled data for 1_1_20180804.cnt.\n",
            "INFO:root:Processed trial 1 of 1_1_20180804.cnt.\n",
            "INFO:root:Processed trial 2 of 1_1_20180804.cnt.\n",
            "INFO:root:Processed trial 3 of 1_1_20180804.cnt.\n",
            "INFO:root:Processed trial 4 of 1_1_20180804.cnt.\n",
            "INFO:root:Processed trial 5 of 1_1_20180804.cnt.\n",
            "INFO:root:Processed trial 6 of 1_1_20180804.cnt.\n",
            "INFO:root:Processed trial 7 of 1_1_20180804.cnt.\n",
            "INFO:root:Processed trial 8 of 1_1_20180804.cnt.\n",
            "INFO:root:Processed trial 9 of 1_1_20180804.cnt.\n",
            "INFO:root:Processed trial 10 of 1_1_20180804.cnt.\n",
            "INFO:root:Processed trial 11 of 1_1_20180804.cnt.\n",
            "INFO:root:Processed trial 12 of 1_1_20180804.cnt.\n",
            "INFO:root:Processed trial 13 of 1_1_20180804.cnt.\n",
            "INFO:root:Processed trial 14 of 1_1_20180804.cnt.\n",
            "INFO:root:Processed trial 15 of 1_1_20180804.cnt.\n",
            "INFO:root:Successfully processed 1_1_20180804.cnt.\n",
            "INFO:root:Successfully loaded 1_2_20180810.cnt with date_format='mm/dd/yy'.\n",
            "INFO:root:Dropped channels ['M1', 'M2', 'VEO', 'HEO'] from 1_2_20180810.cnt.\n",
            "INFO:root:Reordered channels for 1_2_20180810.cnt.\n",
            "INFO:root:Filtering raw data for 1_2_20180810.cnt: Band-pass 0.1 - 75 Hz, Notch 50 Hz\n"
          ]
        },
        {
          "output_type": "stream",
          "name": "stdout",
          "text": [
            "Filtering raw data in 1 contiguous segment\n",
            "Setting up band-pass filter from 0.1 - 75 Hz\n",
            "\n",
            "FIR filter parameters\n",
            "---------------------\n",
            "Designing a one-pass, zero-phase, non-causal bandpass filter:\n",
            "- Windowed time-domain design (firwin) method\n",
            "- Hamming window with 0.0194 passband ripple and 53 dB stopband attenuation\n",
            "- Lower passband edge: 0.10\n",
            "- Lower transition bandwidth: 0.10 Hz (-6 dB cutoff frequency: 0.05 Hz)\n",
            "- Upper passband edge: 75.00 Hz\n",
            "- Upper transition bandwidth: 18.75 Hz (-6 dB cutoff frequency: 84.38 Hz)\n",
            "- Filter length: 33001 samples (33.001 s)\n",
            "\n"
          ]
        },
        {
          "output_type": "stream",
          "name": "stderr",
          "text": [
            "[Parallel(n_jobs=1)]: Done  17 tasks      | elapsed:    1.3s\n"
          ]
        },
        {
          "output_type": "stream",
          "name": "stdout",
          "text": [
            "Filtering raw data in 1 contiguous segment\n",
            "Setting up band-stop filter from 49 - 51 Hz\n",
            "\n",
            "FIR filter parameters\n",
            "---------------------\n",
            "Designing a one-pass, zero-phase, non-causal bandstop filter:\n",
            "- Windowed time-domain design (firwin) method\n",
            "- Hamming window with 0.0194 passband ripple and 53 dB stopband attenuation\n",
            "- Lower passband edge: 49.38\n",
            "- Lower transition bandwidth: 0.50 Hz (-6 dB cutoff frequency: 49.12 Hz)\n",
            "- Upper passband edge: 50.62 Hz\n",
            "- Upper transition bandwidth: 0.50 Hz (-6 dB cutoff frequency: 50.88 Hz)\n",
            "- Filter length: 6601 samples (6.601 s)\n",
            "\n"
          ]
        },
        {
          "output_type": "stream",
          "name": "stderr",
          "text": [
            "[Parallel(n_jobs=1)]: Done  17 tasks      | elapsed:    1.0s\n",
            "INFO:root:Filtered and resampled data for 1_2_20180810.cnt.\n",
            "INFO:root:Processed trial 1 of 1_2_20180810.cnt.\n",
            "INFO:root:Processed trial 2 of 1_2_20180810.cnt.\n",
            "INFO:root:Processed trial 3 of 1_2_20180810.cnt.\n",
            "INFO:root:Processed trial 4 of 1_2_20180810.cnt.\n",
            "INFO:root:Processed trial 5 of 1_2_20180810.cnt.\n",
            "INFO:root:Processed trial 6 of 1_2_20180810.cnt.\n",
            "INFO:root:Processed trial 7 of 1_2_20180810.cnt.\n",
            "INFO:root:Processed trial 8 of 1_2_20180810.cnt.\n",
            "INFO:root:Processed trial 9 of 1_2_20180810.cnt.\n",
            "INFO:root:Processed trial 10 of 1_2_20180810.cnt.\n",
            "INFO:root:Processed trial 11 of 1_2_20180810.cnt.\n",
            "INFO:root:Processed trial 12 of 1_2_20180810.cnt.\n",
            "INFO:root:Processed trial 13 of 1_2_20180810.cnt.\n",
            "INFO:root:Processed trial 14 of 1_2_20180810.cnt.\n",
            "INFO:root:Processed trial 15 of 1_2_20180810.cnt.\n",
            "INFO:root:Successfully processed 1_2_20180810.cnt.\n",
            "INFO:root:Successfully loaded 1_3_20180808.cnt with date_format='mm/dd/yy'.\n",
            "INFO:root:Dropped channels ['M1', 'M2', 'VEO', 'HEO'] from 1_3_20180808.cnt.\n",
            "INFO:root:Reordered channels for 1_3_20180808.cnt.\n",
            "INFO:root:Filtering raw data for 1_3_20180808.cnt: Band-pass 0.1 - 75 Hz, Notch 50 Hz\n"
          ]
        },
        {
          "output_type": "stream",
          "name": "stdout",
          "text": [
            "Filtering raw data in 1 contiguous segment\n",
            "Setting up band-pass filter from 0.1 - 75 Hz\n",
            "\n",
            "FIR filter parameters\n",
            "---------------------\n",
            "Designing a one-pass, zero-phase, non-causal bandpass filter:\n",
            "- Windowed time-domain design (firwin) method\n",
            "- Hamming window with 0.0194 passband ripple and 53 dB stopband attenuation\n",
            "- Lower passband edge: 0.10\n",
            "- Lower transition bandwidth: 0.10 Hz (-6 dB cutoff frequency: 0.05 Hz)\n",
            "- Upper passband edge: 75.00 Hz\n",
            "- Upper transition bandwidth: 18.75 Hz (-6 dB cutoff frequency: 84.38 Hz)\n",
            "- Filter length: 33001 samples (33.001 s)\n",
            "\n"
          ]
        },
        {
          "output_type": "stream",
          "name": "stderr",
          "text": [
            "[Parallel(n_jobs=1)]: Done  17 tasks      | elapsed:    1.3s\n"
          ]
        },
        {
          "output_type": "stream",
          "name": "stdout",
          "text": [
            "Filtering raw data in 1 contiguous segment\n",
            "Setting up band-stop filter from 49 - 51 Hz\n",
            "\n",
            "FIR filter parameters\n",
            "---------------------\n",
            "Designing a one-pass, zero-phase, non-causal bandstop filter:\n",
            "- Windowed time-domain design (firwin) method\n",
            "- Hamming window with 0.0194 passband ripple and 53 dB stopband attenuation\n",
            "- Lower passband edge: 49.38\n",
            "- Lower transition bandwidth: 0.50 Hz (-6 dB cutoff frequency: 49.12 Hz)\n",
            "- Upper passband edge: 50.62 Hz\n",
            "- Upper transition bandwidth: 0.50 Hz (-6 dB cutoff frequency: 50.88 Hz)\n",
            "- Filter length: 6601 samples (6.601 s)\n",
            "\n"
          ]
        },
        {
          "output_type": "stream",
          "name": "stderr",
          "text": [
            "[Parallel(n_jobs=1)]: Done  17 tasks      | elapsed:    1.0s\n",
            "INFO:root:Filtered and resampled data for 1_3_20180808.cnt.\n",
            "INFO:root:Processed trial 1 of 1_3_20180808.cnt.\n",
            "INFO:root:Processed trial 2 of 1_3_20180808.cnt.\n",
            "INFO:root:Processed trial 3 of 1_3_20180808.cnt.\n",
            "INFO:root:Processed trial 4 of 1_3_20180808.cnt.\n",
            "INFO:root:Processed trial 5 of 1_3_20180808.cnt.\n",
            "INFO:root:Processed trial 6 of 1_3_20180808.cnt.\n",
            "INFO:root:Processed trial 7 of 1_3_20180808.cnt.\n",
            "INFO:root:Processed trial 8 of 1_3_20180808.cnt.\n",
            "INFO:root:Processed trial 9 of 1_3_20180808.cnt.\n",
            "INFO:root:Processed trial 10 of 1_3_20180808.cnt.\n",
            "INFO:root:Processed trial 11 of 1_3_20180808.cnt.\n",
            "INFO:root:Processed trial 12 of 1_3_20180808.cnt.\n",
            "INFO:root:Processed trial 13 of 1_3_20180808.cnt.\n",
            "INFO:root:Processed trial 14 of 1_3_20180808.cnt.\n",
            "INFO:root:Processed trial 15 of 1_3_20180808.cnt.\n",
            "INFO:root:Successfully processed 1_3_20180808.cnt.\n",
            "<ipython-input-5-659b640090c8>:153: RuntimeWarning:   Could not parse meas date from the header. Setting to None.\n",
            "  raw = mne.io.read_raw_cnt(\n",
            "INFO:root:Successfully loaded 2_1_20180416.cnt with date_format='mm/dd/yy'.\n",
            "INFO:root:Set meas_date for 2_1_20180416.cnt to 2018-04-16 00:00:00+00:00 (UTC).\n",
            "INFO:root:Dropped channels ['M1', 'M2', 'VEO', 'HEO'] from 2_1_20180416.cnt.\n",
            "INFO:root:Reordered channels for 2_1_20180416.cnt.\n",
            "INFO:root:Filtering raw data for 2_1_20180416.cnt: Band-pass 0.1 - 75 Hz, Notch 50 Hz\n"
          ]
        },
        {
          "output_type": "stream",
          "name": "stdout",
          "text": [
            "Filtering raw data in 1 contiguous segment\n",
            "Setting up band-pass filter from 0.1 - 75 Hz\n",
            "\n",
            "FIR filter parameters\n",
            "---------------------\n",
            "Designing a one-pass, zero-phase, non-causal bandpass filter:\n",
            "- Windowed time-domain design (firwin) method\n",
            "- Hamming window with 0.0194 passband ripple and 53 dB stopband attenuation\n",
            "- Lower passband edge: 0.10\n",
            "- Lower transition bandwidth: 0.10 Hz (-6 dB cutoff frequency: 0.05 Hz)\n",
            "- Upper passband edge: 75.00 Hz\n",
            "- Upper transition bandwidth: 18.75 Hz (-6 dB cutoff frequency: 84.38 Hz)\n",
            "- Filter length: 33001 samples (33.001 s)\n",
            "\n"
          ]
        },
        {
          "output_type": "stream",
          "name": "stderr",
          "text": [
            "[Parallel(n_jobs=1)]: Done  17 tasks      | elapsed:    1.4s\n"
          ]
        },
        {
          "output_type": "stream",
          "name": "stdout",
          "text": [
            "Filtering raw data in 1 contiguous segment\n",
            "Setting up band-stop filter from 49 - 51 Hz\n",
            "\n",
            "FIR filter parameters\n",
            "---------------------\n",
            "Designing a one-pass, zero-phase, non-causal bandstop filter:\n",
            "- Windowed time-domain design (firwin) method\n",
            "- Hamming window with 0.0194 passband ripple and 53 dB stopband attenuation\n",
            "- Lower passband edge: 49.38\n",
            "- Lower transition bandwidth: 0.50 Hz (-6 dB cutoff frequency: 49.12 Hz)\n",
            "- Upper passband edge: 50.62 Hz\n",
            "- Upper transition bandwidth: 0.50 Hz (-6 dB cutoff frequency: 50.88 Hz)\n",
            "- Filter length: 6601 samples (6.601 s)\n",
            "\n"
          ]
        },
        {
          "output_type": "stream",
          "name": "stderr",
          "text": [
            "[Parallel(n_jobs=1)]: Done  17 tasks      | elapsed:    1.1s\n",
            "INFO:root:Filtered and resampled data for 2_1_20180416.cnt.\n",
            "INFO:root:Processed trial 1 of 2_1_20180416.cnt.\n",
            "INFO:root:Processed trial 2 of 2_1_20180416.cnt.\n",
            "INFO:root:Processed trial 3 of 2_1_20180416.cnt.\n",
            "INFO:root:Processed trial 4 of 2_1_20180416.cnt.\n",
            "INFO:root:Processed trial 5 of 2_1_20180416.cnt.\n",
            "INFO:root:Processed trial 6 of 2_1_20180416.cnt.\n",
            "INFO:root:Processed trial 7 of 2_1_20180416.cnt.\n",
            "INFO:root:Processed trial 8 of 2_1_20180416.cnt.\n",
            "INFO:root:Processed trial 9 of 2_1_20180416.cnt.\n",
            "INFO:root:Processed trial 10 of 2_1_20180416.cnt.\n",
            "INFO:root:Processed trial 11 of 2_1_20180416.cnt.\n",
            "INFO:root:Processed trial 12 of 2_1_20180416.cnt.\n",
            "INFO:root:Processed trial 13 of 2_1_20180416.cnt.\n",
            "INFO:root:Processed trial 14 of 2_1_20180416.cnt.\n",
            "INFO:root:Processed trial 15 of 2_1_20180416.cnt.\n",
            "INFO:root:Successfully processed 2_1_20180416.cnt.\n",
            "<ipython-input-5-659b640090c8>:153: RuntimeWarning:   Could not parse meas date from the header. Setting to None.\n",
            "  raw = mne.io.read_raw_cnt(\n",
            "INFO:root:Successfully loaded 2_2_20180419.cnt with date_format='mm/dd/yy'.\n",
            "INFO:root:Set meas_date for 2_2_20180419.cnt to 2018-04-19 00:00:00+00:00 (UTC).\n",
            "INFO:root:Dropped channels ['M1', 'M2', 'VEO', 'HEO'] from 2_2_20180419.cnt.\n",
            "INFO:root:Reordered channels for 2_2_20180419.cnt.\n",
            "INFO:root:Filtering raw data for 2_2_20180419.cnt: Band-pass 0.1 - 75 Hz, Notch 50 Hz\n"
          ]
        },
        {
          "output_type": "stream",
          "name": "stdout",
          "text": [
            "Filtering raw data in 1 contiguous segment\n",
            "Setting up band-pass filter from 0.1 - 75 Hz\n",
            "\n",
            "FIR filter parameters\n",
            "---------------------\n",
            "Designing a one-pass, zero-phase, non-causal bandpass filter:\n",
            "- Windowed time-domain design (firwin) method\n",
            "- Hamming window with 0.0194 passband ripple and 53 dB stopband attenuation\n",
            "- Lower passband edge: 0.10\n",
            "- Lower transition bandwidth: 0.10 Hz (-6 dB cutoff frequency: 0.05 Hz)\n",
            "- Upper passband edge: 75.00 Hz\n",
            "- Upper transition bandwidth: 18.75 Hz (-6 dB cutoff frequency: 84.38 Hz)\n",
            "- Filter length: 33001 samples (33.001 s)\n",
            "\n"
          ]
        },
        {
          "output_type": "stream",
          "name": "stderr",
          "text": [
            "[Parallel(n_jobs=1)]: Done  17 tasks      | elapsed:    1.3s\n"
          ]
        },
        {
          "output_type": "stream",
          "name": "stdout",
          "text": [
            "Filtering raw data in 1 contiguous segment\n",
            "Setting up band-stop filter from 49 - 51 Hz\n",
            "\n",
            "FIR filter parameters\n",
            "---------------------\n",
            "Designing a one-pass, zero-phase, non-causal bandstop filter:\n",
            "- Windowed time-domain design (firwin) method\n",
            "- Hamming window with 0.0194 passband ripple and 53 dB stopband attenuation\n",
            "- Lower passband edge: 49.38\n",
            "- Lower transition bandwidth: 0.50 Hz (-6 dB cutoff frequency: 49.12 Hz)\n",
            "- Upper passband edge: 50.62 Hz\n",
            "- Upper transition bandwidth: 0.50 Hz (-6 dB cutoff frequency: 50.88 Hz)\n",
            "- Filter length: 6601 samples (6.601 s)\n",
            "\n"
          ]
        },
        {
          "output_type": "stream",
          "name": "stderr",
          "text": [
            "[Parallel(n_jobs=1)]: Done  17 tasks      | elapsed:    1.0s\n",
            "INFO:root:Filtered and resampled data for 2_2_20180419.cnt.\n",
            "INFO:root:Processed trial 1 of 2_2_20180419.cnt.\n",
            "INFO:root:Processed trial 2 of 2_2_20180419.cnt.\n",
            "INFO:root:Processed trial 3 of 2_2_20180419.cnt.\n",
            "INFO:root:Processed trial 4 of 2_2_20180419.cnt.\n",
            "INFO:root:Processed trial 5 of 2_2_20180419.cnt.\n",
            "INFO:root:Processed trial 6 of 2_2_20180419.cnt.\n",
            "INFO:root:Processed trial 7 of 2_2_20180419.cnt.\n",
            "INFO:root:Processed trial 8 of 2_2_20180419.cnt.\n",
            "INFO:root:Processed trial 9 of 2_2_20180419.cnt.\n",
            "INFO:root:Processed trial 10 of 2_2_20180419.cnt.\n",
            "INFO:root:Processed trial 11 of 2_2_20180419.cnt.\n",
            "INFO:root:Processed trial 12 of 2_2_20180419.cnt.\n",
            "INFO:root:Processed trial 13 of 2_2_20180419.cnt.\n",
            "INFO:root:Processed trial 14 of 2_2_20180419.cnt.\n",
            "INFO:root:Processed trial 15 of 2_2_20180419.cnt.\n",
            "INFO:root:Successfully processed 2_2_20180419.cnt.\n",
            "<ipython-input-5-659b640090c8>:153: RuntimeWarning:   Could not parse meas date from the header. Setting to None.\n",
            "  raw = mne.io.read_raw_cnt(\n",
            "INFO:root:Successfully loaded 2_3_20180425.cnt with date_format='mm/dd/yy'.\n",
            "INFO:root:Set meas_date for 2_3_20180425.cnt to 2018-04-25 00:00:00+00:00 (UTC).\n",
            "INFO:root:Dropped channels ['M1', 'M2', 'VEO', 'HEO'] from 2_3_20180425.cnt.\n",
            "INFO:root:Reordered channels for 2_3_20180425.cnt.\n",
            "INFO:root:Filtering raw data for 2_3_20180425.cnt: Band-pass 0.1 - 75 Hz, Notch 50 Hz\n"
          ]
        },
        {
          "output_type": "stream",
          "name": "stdout",
          "text": [
            "Filtering raw data in 1 contiguous segment\n",
            "Setting up band-pass filter from 0.1 - 75 Hz\n",
            "\n",
            "FIR filter parameters\n",
            "---------------------\n",
            "Designing a one-pass, zero-phase, non-causal bandpass filter:\n",
            "- Windowed time-domain design (firwin) method\n",
            "- Hamming window with 0.0194 passband ripple and 53 dB stopband attenuation\n",
            "- Lower passband edge: 0.10\n",
            "- Lower transition bandwidth: 0.10 Hz (-6 dB cutoff frequency: 0.05 Hz)\n",
            "- Upper passband edge: 75.00 Hz\n",
            "- Upper transition bandwidth: 18.75 Hz (-6 dB cutoff frequency: 84.38 Hz)\n",
            "- Filter length: 33001 samples (33.001 s)\n",
            "\n"
          ]
        },
        {
          "output_type": "stream",
          "name": "stderr",
          "text": [
            "[Parallel(n_jobs=1)]: Done  17 tasks      | elapsed:    1.4s\n"
          ]
        },
        {
          "output_type": "stream",
          "name": "stdout",
          "text": [
            "Filtering raw data in 1 contiguous segment\n",
            "Setting up band-stop filter from 49 - 51 Hz\n",
            "\n",
            "FIR filter parameters\n",
            "---------------------\n",
            "Designing a one-pass, zero-phase, non-causal bandstop filter:\n",
            "- Windowed time-domain design (firwin) method\n",
            "- Hamming window with 0.0194 passband ripple and 53 dB stopband attenuation\n",
            "- Lower passband edge: 49.38\n",
            "- Lower transition bandwidth: 0.50 Hz (-6 dB cutoff frequency: 49.12 Hz)\n",
            "- Upper passband edge: 50.62 Hz\n",
            "- Upper transition bandwidth: 0.50 Hz (-6 dB cutoff frequency: 50.88 Hz)\n",
            "- Filter length: 6601 samples (6.601 s)\n",
            "\n"
          ]
        },
        {
          "output_type": "stream",
          "name": "stderr",
          "text": [
            "[Parallel(n_jobs=1)]: Done  17 tasks      | elapsed:    1.0s\n",
            "INFO:root:Filtered and resampled data for 2_3_20180425.cnt.\n",
            "INFO:root:Processed trial 1 of 2_3_20180425.cnt.\n",
            "INFO:root:Processed trial 2 of 2_3_20180425.cnt.\n",
            "INFO:root:Processed trial 3 of 2_3_20180425.cnt.\n",
            "INFO:root:Processed trial 4 of 2_3_20180425.cnt.\n",
            "INFO:root:Processed trial 5 of 2_3_20180425.cnt.\n",
            "INFO:root:Processed trial 6 of 2_3_20180425.cnt.\n",
            "INFO:root:Processed trial 7 of 2_3_20180425.cnt.\n",
            "INFO:root:Processed trial 8 of 2_3_20180425.cnt.\n",
            "INFO:root:Processed trial 9 of 2_3_20180425.cnt.\n",
            "INFO:root:Processed trial 10 of 2_3_20180425.cnt.\n",
            "INFO:root:Processed trial 11 of 2_3_20180425.cnt.\n",
            "INFO:root:Processed trial 12 of 2_3_20180425.cnt.\n",
            "INFO:root:Processed trial 13 of 2_3_20180425.cnt.\n",
            "INFO:root:Processed trial 14 of 2_3_20180425.cnt.\n",
            "INFO:root:Processed trial 15 of 2_3_20180425.cnt.\n",
            "INFO:root:Successfully processed 2_3_20180425.cnt.\n",
            "<ipython-input-5-659b640090c8>:153: RuntimeWarning:   Could not parse meas date from the header. Setting to None.\n",
            "  raw = mne.io.read_raw_cnt(\n",
            "INFO:root:Successfully loaded 3_1_20180414.cnt with date_format='mm/dd/yy'.\n",
            "INFO:root:Set meas_date for 3_1_20180414.cnt to 2018-04-14 00:00:00+00:00 (UTC).\n",
            "INFO:root:Dropped channels ['M1', 'M2', 'VEO', 'HEO'] from 3_1_20180414.cnt.\n",
            "INFO:root:Reordered channels for 3_1_20180414.cnt.\n",
            "INFO:root:Filtering raw data for 3_1_20180414.cnt: Band-pass 0.1 - 75 Hz, Notch 50 Hz\n"
          ]
        },
        {
          "output_type": "stream",
          "name": "stdout",
          "text": [
            "Filtering raw data in 1 contiguous segment\n",
            "Setting up band-pass filter from 0.1 - 75 Hz\n",
            "\n",
            "FIR filter parameters\n",
            "---------------------\n",
            "Designing a one-pass, zero-phase, non-causal bandpass filter:\n",
            "- Windowed time-domain design (firwin) method\n",
            "- Hamming window with 0.0194 passband ripple and 53 dB stopband attenuation\n",
            "- Lower passband edge: 0.10\n",
            "- Lower transition bandwidth: 0.10 Hz (-6 dB cutoff frequency: 0.05 Hz)\n",
            "- Upper passband edge: 75.00 Hz\n",
            "- Upper transition bandwidth: 18.75 Hz (-6 dB cutoff frequency: 84.38 Hz)\n",
            "- Filter length: 33001 samples (33.001 s)\n",
            "\n"
          ]
        },
        {
          "output_type": "stream",
          "name": "stderr",
          "text": [
            "[Parallel(n_jobs=1)]: Done  17 tasks      | elapsed:    1.4s\n"
          ]
        },
        {
          "output_type": "stream",
          "name": "stdout",
          "text": [
            "Filtering raw data in 1 contiguous segment\n",
            "Setting up band-stop filter from 49 - 51 Hz\n",
            "\n",
            "FIR filter parameters\n",
            "---------------------\n",
            "Designing a one-pass, zero-phase, non-causal bandstop filter:\n",
            "- Windowed time-domain design (firwin) method\n",
            "- Hamming window with 0.0194 passband ripple and 53 dB stopband attenuation\n",
            "- Lower passband edge: 49.38\n",
            "- Lower transition bandwidth: 0.50 Hz (-6 dB cutoff frequency: 49.12 Hz)\n",
            "- Upper passband edge: 50.62 Hz\n",
            "- Upper transition bandwidth: 0.50 Hz (-6 dB cutoff frequency: 50.88 Hz)\n",
            "- Filter length: 6601 samples (6.601 s)\n",
            "\n"
          ]
        },
        {
          "output_type": "stream",
          "name": "stderr",
          "text": [
            "[Parallel(n_jobs=1)]: Done  17 tasks      | elapsed:    1.1s\n",
            "INFO:root:Filtered and resampled data for 3_1_20180414.cnt.\n",
            "INFO:root:Processed trial 1 of 3_1_20180414.cnt.\n",
            "INFO:root:Processed trial 2 of 3_1_20180414.cnt.\n",
            "INFO:root:Processed trial 3 of 3_1_20180414.cnt.\n",
            "INFO:root:Processed trial 4 of 3_1_20180414.cnt.\n",
            "INFO:root:Processed trial 5 of 3_1_20180414.cnt.\n",
            "INFO:root:Processed trial 6 of 3_1_20180414.cnt.\n",
            "INFO:root:Processed trial 7 of 3_1_20180414.cnt.\n",
            "INFO:root:Processed trial 8 of 3_1_20180414.cnt.\n",
            "INFO:root:Processed trial 9 of 3_1_20180414.cnt.\n",
            "INFO:root:Processed trial 10 of 3_1_20180414.cnt.\n",
            "INFO:root:Processed trial 11 of 3_1_20180414.cnt.\n",
            "INFO:root:Processed trial 12 of 3_1_20180414.cnt.\n",
            "INFO:root:Processed trial 13 of 3_1_20180414.cnt.\n",
            "INFO:root:Processed trial 14 of 3_1_20180414.cnt.\n",
            "INFO:root:Processed trial 15 of 3_1_20180414.cnt.\n",
            "INFO:root:Successfully processed 3_1_20180414.cnt.\n",
            "<ipython-input-5-659b640090c8>:153: RuntimeWarning:   Could not parse meas date from the header. Setting to None.\n",
            "  raw = mne.io.read_raw_cnt(\n",
            "INFO:root:Successfully loaded 3_2_20180419.cnt with date_format='mm/dd/yy'.\n",
            "INFO:root:Set meas_date for 3_2_20180419.cnt to 2018-04-19 00:00:00+00:00 (UTC).\n",
            "INFO:root:Dropped channels ['M1', 'M2', 'VEO', 'HEO'] from 3_2_20180419.cnt.\n",
            "INFO:root:Reordered channels for 3_2_20180419.cnt.\n",
            "INFO:root:Filtering raw data for 3_2_20180419.cnt: Band-pass 0.1 - 75 Hz, Notch 50 Hz\n"
          ]
        },
        {
          "output_type": "stream",
          "name": "stdout",
          "text": [
            "Filtering raw data in 1 contiguous segment\n",
            "Setting up band-pass filter from 0.1 - 75 Hz\n",
            "\n",
            "FIR filter parameters\n",
            "---------------------\n",
            "Designing a one-pass, zero-phase, non-causal bandpass filter:\n",
            "- Windowed time-domain design (firwin) method\n",
            "- Hamming window with 0.0194 passband ripple and 53 dB stopband attenuation\n",
            "- Lower passband edge: 0.10\n",
            "- Lower transition bandwidth: 0.10 Hz (-6 dB cutoff frequency: 0.05 Hz)\n",
            "- Upper passband edge: 75.00 Hz\n",
            "- Upper transition bandwidth: 18.75 Hz (-6 dB cutoff frequency: 84.38 Hz)\n",
            "- Filter length: 33001 samples (33.001 s)\n",
            "\n"
          ]
        },
        {
          "output_type": "stream",
          "name": "stderr",
          "text": [
            "[Parallel(n_jobs=1)]: Done  17 tasks      | elapsed:    1.2s\n"
          ]
        },
        {
          "output_type": "stream",
          "name": "stdout",
          "text": [
            "Filtering raw data in 1 contiguous segment\n",
            "Setting up band-stop filter from 49 - 51 Hz\n",
            "\n",
            "FIR filter parameters\n",
            "---------------------\n",
            "Designing a one-pass, zero-phase, non-causal bandstop filter:\n",
            "- Windowed time-domain design (firwin) method\n",
            "- Hamming window with 0.0194 passband ripple and 53 dB stopband attenuation\n",
            "- Lower passband edge: 49.38\n",
            "- Lower transition bandwidth: 0.50 Hz (-6 dB cutoff frequency: 49.12 Hz)\n",
            "- Upper passband edge: 50.62 Hz\n",
            "- Upper transition bandwidth: 0.50 Hz (-6 dB cutoff frequency: 50.88 Hz)\n",
            "- Filter length: 6601 samples (6.601 s)\n",
            "\n"
          ]
        },
        {
          "output_type": "stream",
          "name": "stderr",
          "text": [
            "[Parallel(n_jobs=1)]: Done  17 tasks      | elapsed:    1.0s\n",
            "INFO:root:Filtered and resampled data for 3_2_20180419.cnt.\n",
            "INFO:root:Processed trial 1 of 3_2_20180419.cnt.\n",
            "INFO:root:Processed trial 2 of 3_2_20180419.cnt.\n",
            "INFO:root:Processed trial 3 of 3_2_20180419.cnt.\n",
            "INFO:root:Processed trial 4 of 3_2_20180419.cnt.\n",
            "INFO:root:Processed trial 5 of 3_2_20180419.cnt.\n",
            "INFO:root:Processed trial 6 of 3_2_20180419.cnt.\n",
            "INFO:root:Processed trial 7 of 3_2_20180419.cnt.\n",
            "INFO:root:Processed trial 8 of 3_2_20180419.cnt.\n",
            "INFO:root:Processed trial 9 of 3_2_20180419.cnt.\n",
            "INFO:root:Processed trial 10 of 3_2_20180419.cnt.\n",
            "INFO:root:Processed trial 11 of 3_2_20180419.cnt.\n",
            "INFO:root:Processed trial 12 of 3_2_20180419.cnt.\n",
            "INFO:root:Processed trial 13 of 3_2_20180419.cnt.\n",
            "INFO:root:Processed trial 14 of 3_2_20180419.cnt.\n",
            "INFO:root:Processed trial 15 of 3_2_20180419.cnt.\n",
            "INFO:root:Successfully processed 3_2_20180419.cnt.\n",
            "<ipython-input-5-659b640090c8>:153: RuntimeWarning:   Could not parse meas date from the header. Setting to None.\n",
            "  raw = mne.io.read_raw_cnt(\n",
            "INFO:root:Successfully loaded 3_3_20180424.cnt with date_format='mm/dd/yy'.\n",
            "INFO:root:Set meas_date for 3_3_20180424.cnt to 2018-04-24 00:00:00+00:00 (UTC).\n",
            "INFO:root:Dropped channels ['M1', 'M2', 'VEO', 'HEO'] from 3_3_20180424.cnt.\n",
            "INFO:root:Reordered channels for 3_3_20180424.cnt.\n",
            "INFO:root:Filtering raw data for 3_3_20180424.cnt: Band-pass 0.1 - 75 Hz, Notch 50 Hz\n"
          ]
        },
        {
          "output_type": "stream",
          "name": "stdout",
          "text": [
            "Filtering raw data in 1 contiguous segment\n",
            "Setting up band-pass filter from 0.1 - 75 Hz\n",
            "\n",
            "FIR filter parameters\n",
            "---------------------\n",
            "Designing a one-pass, zero-phase, non-causal bandpass filter:\n",
            "- Windowed time-domain design (firwin) method\n",
            "- Hamming window with 0.0194 passband ripple and 53 dB stopband attenuation\n",
            "- Lower passband edge: 0.10\n",
            "- Lower transition bandwidth: 0.10 Hz (-6 dB cutoff frequency: 0.05 Hz)\n",
            "- Upper passband edge: 75.00 Hz\n",
            "- Upper transition bandwidth: 18.75 Hz (-6 dB cutoff frequency: 84.38 Hz)\n",
            "- Filter length: 33001 samples (33.001 s)\n",
            "\n"
          ]
        },
        {
          "output_type": "stream",
          "name": "stderr",
          "text": [
            "[Parallel(n_jobs=1)]: Done  17 tasks      | elapsed:    1.4s\n"
          ]
        },
        {
          "output_type": "stream",
          "name": "stdout",
          "text": [
            "Filtering raw data in 1 contiguous segment\n",
            "Setting up band-stop filter from 49 - 51 Hz\n",
            "\n",
            "FIR filter parameters\n",
            "---------------------\n",
            "Designing a one-pass, zero-phase, non-causal bandstop filter:\n",
            "- Windowed time-domain design (firwin) method\n",
            "- Hamming window with 0.0194 passband ripple and 53 dB stopband attenuation\n",
            "- Lower passband edge: 49.38\n",
            "- Lower transition bandwidth: 0.50 Hz (-6 dB cutoff frequency: 49.12 Hz)\n",
            "- Upper passband edge: 50.62 Hz\n",
            "- Upper transition bandwidth: 0.50 Hz (-6 dB cutoff frequency: 50.88 Hz)\n",
            "- Filter length: 6601 samples (6.601 s)\n",
            "\n"
          ]
        },
        {
          "output_type": "stream",
          "name": "stderr",
          "text": [
            "[Parallel(n_jobs=1)]: Done  17 tasks      | elapsed:    1.0s\n",
            "INFO:root:Filtered and resampled data for 3_3_20180424.cnt.\n",
            "INFO:root:Processed trial 1 of 3_3_20180424.cnt.\n",
            "INFO:root:Processed trial 2 of 3_3_20180424.cnt.\n",
            "INFO:root:Processed trial 3 of 3_3_20180424.cnt.\n",
            "INFO:root:Processed trial 4 of 3_3_20180424.cnt.\n",
            "INFO:root:Processed trial 5 of 3_3_20180424.cnt.\n",
            "INFO:root:Processed trial 6 of 3_3_20180424.cnt.\n",
            "INFO:root:Processed trial 7 of 3_3_20180424.cnt.\n",
            "INFO:root:Processed trial 8 of 3_3_20180424.cnt.\n",
            "INFO:root:Processed trial 9 of 3_3_20180424.cnt.\n",
            "INFO:root:Processed trial 10 of 3_3_20180424.cnt.\n",
            "INFO:root:Processed trial 11 of 3_3_20180424.cnt.\n",
            "INFO:root:Processed trial 12 of 3_3_20180424.cnt.\n",
            "INFO:root:Processed trial 13 of 3_3_20180424.cnt.\n",
            "INFO:root:Processed trial 14 of 3_3_20180424.cnt.\n",
            "INFO:root:Processed trial 15 of 3_3_20180424.cnt.\n",
            "INFO:root:Successfully processed 3_3_20180424.cnt.\n",
            "<ipython-input-5-659b640090c8>:153: RuntimeWarning:   Could not parse meas date from the header. Setting to None.\n",
            "  raw = mne.io.read_raw_cnt(\n",
            "INFO:root:Successfully loaded 4_1_20180414.cnt with date_format='mm/dd/yy'.\n",
            "INFO:root:Set meas_date for 4_1_20180414.cnt to 2018-04-14 00:00:00+00:00 (UTC).\n",
            "INFO:root:Dropped channels ['M1', 'M2', 'VEO', 'HEO'] from 4_1_20180414.cnt.\n",
            "INFO:root:Reordered channels for 4_1_20180414.cnt.\n",
            "INFO:root:Filtering raw data for 4_1_20180414.cnt: Band-pass 0.1 - 75 Hz, Notch 50 Hz\n"
          ]
        },
        {
          "output_type": "stream",
          "name": "stdout",
          "text": [
            "Filtering raw data in 1 contiguous segment\n",
            "Setting up band-pass filter from 0.1 - 75 Hz\n",
            "\n",
            "FIR filter parameters\n",
            "---------------------\n",
            "Designing a one-pass, zero-phase, non-causal bandpass filter:\n",
            "- Windowed time-domain design (firwin) method\n",
            "- Hamming window with 0.0194 passband ripple and 53 dB stopband attenuation\n",
            "- Lower passband edge: 0.10\n",
            "- Lower transition bandwidth: 0.10 Hz (-6 dB cutoff frequency: 0.05 Hz)\n",
            "- Upper passband edge: 75.00 Hz\n",
            "- Upper transition bandwidth: 18.75 Hz (-6 dB cutoff frequency: 84.38 Hz)\n",
            "- Filter length: 33001 samples (33.001 s)\n",
            "\n"
          ]
        },
        {
          "output_type": "stream",
          "name": "stderr",
          "text": [
            "[Parallel(n_jobs=1)]: Done  17 tasks      | elapsed:    1.5s\n"
          ]
        },
        {
          "output_type": "stream",
          "name": "stdout",
          "text": [
            "Filtering raw data in 1 contiguous segment\n",
            "Setting up band-stop filter from 49 - 51 Hz\n",
            "\n",
            "FIR filter parameters\n",
            "---------------------\n",
            "Designing a one-pass, zero-phase, non-causal bandstop filter:\n",
            "- Windowed time-domain design (firwin) method\n",
            "- Hamming window with 0.0194 passband ripple and 53 dB stopband attenuation\n",
            "- Lower passband edge: 49.38\n",
            "- Lower transition bandwidth: 0.50 Hz (-6 dB cutoff frequency: 49.12 Hz)\n",
            "- Upper passband edge: 50.62 Hz\n",
            "- Upper transition bandwidth: 0.50 Hz (-6 dB cutoff frequency: 50.88 Hz)\n",
            "- Filter length: 6601 samples (6.601 s)\n",
            "\n"
          ]
        },
        {
          "output_type": "stream",
          "name": "stderr",
          "text": [
            "[Parallel(n_jobs=1)]: Done  17 tasks      | elapsed:    1.7s\n",
            "INFO:root:Filtered and resampled data for 4_1_20180414.cnt.\n",
            "INFO:root:Processed trial 1 of 4_1_20180414.cnt.\n",
            "INFO:root:Processed trial 2 of 4_1_20180414.cnt.\n",
            "INFO:root:Processed trial 3 of 4_1_20180414.cnt.\n",
            "INFO:root:Processed trial 4 of 4_1_20180414.cnt.\n",
            "INFO:root:Processed trial 5 of 4_1_20180414.cnt.\n",
            "INFO:root:Processed trial 6 of 4_1_20180414.cnt.\n",
            "INFO:root:Processed trial 7 of 4_1_20180414.cnt.\n",
            "INFO:root:Processed trial 8 of 4_1_20180414.cnt.\n",
            "INFO:root:Processed trial 9 of 4_1_20180414.cnt.\n",
            "INFO:root:Processed trial 10 of 4_1_20180414.cnt.\n",
            "INFO:root:Processed trial 11 of 4_1_20180414.cnt.\n",
            "INFO:root:Processed trial 12 of 4_1_20180414.cnt.\n",
            "INFO:root:Processed trial 13 of 4_1_20180414.cnt.\n",
            "INFO:root:Processed trial 14 of 4_1_20180414.cnt.\n",
            "INFO:root:Processed trial 15 of 4_1_20180414.cnt.\n",
            "INFO:root:Successfully processed 4_1_20180414.cnt.\n",
            "<ipython-input-5-659b640090c8>:153: RuntimeWarning:   Could not parse meas date from the header. Setting to None.\n",
            "  raw = mne.io.read_raw_cnt(\n",
            "INFO:root:Successfully loaded 4_2_20180417.cnt with date_format='mm/dd/yy'.\n",
            "INFO:root:Set meas_date for 4_2_20180417.cnt to 2018-04-17 00:00:00+00:00 (UTC).\n",
            "INFO:root:Dropped channels ['M1', 'M2', 'VEO', 'HEO'] from 4_2_20180417.cnt.\n",
            "INFO:root:Reordered channels for 4_2_20180417.cnt.\n",
            "INFO:root:Filtering raw data for 4_2_20180417.cnt: Band-pass 0.1 - 75 Hz, Notch 50 Hz\n"
          ]
        },
        {
          "output_type": "stream",
          "name": "stdout",
          "text": [
            "Filtering raw data in 1 contiguous segment\n",
            "Setting up band-pass filter from 0.1 - 75 Hz\n",
            "\n",
            "FIR filter parameters\n",
            "---------------------\n",
            "Designing a one-pass, zero-phase, non-causal bandpass filter:\n",
            "- Windowed time-domain design (firwin) method\n",
            "- Hamming window with 0.0194 passband ripple and 53 dB stopband attenuation\n",
            "- Lower passband edge: 0.10\n",
            "- Lower transition bandwidth: 0.10 Hz (-6 dB cutoff frequency: 0.05 Hz)\n",
            "- Upper passband edge: 75.00 Hz\n",
            "- Upper transition bandwidth: 18.75 Hz (-6 dB cutoff frequency: 84.38 Hz)\n",
            "- Filter length: 33001 samples (33.001 s)\n",
            "\n"
          ]
        },
        {
          "output_type": "stream",
          "name": "stderr",
          "text": [
            "[Parallel(n_jobs=1)]: Done  17 tasks      | elapsed:    1.3s\n"
          ]
        },
        {
          "output_type": "stream",
          "name": "stdout",
          "text": [
            "Filtering raw data in 1 contiguous segment\n",
            "Setting up band-stop filter from 49 - 51 Hz\n",
            "\n",
            "FIR filter parameters\n",
            "---------------------\n",
            "Designing a one-pass, zero-phase, non-causal bandstop filter:\n",
            "- Windowed time-domain design (firwin) method\n",
            "- Hamming window with 0.0194 passband ripple and 53 dB stopband attenuation\n",
            "- Lower passband edge: 49.38\n",
            "- Lower transition bandwidth: 0.50 Hz (-6 dB cutoff frequency: 49.12 Hz)\n",
            "- Upper passband edge: 50.62 Hz\n",
            "- Upper transition bandwidth: 0.50 Hz (-6 dB cutoff frequency: 50.88 Hz)\n",
            "- Filter length: 6601 samples (6.601 s)\n",
            "\n"
          ]
        },
        {
          "output_type": "stream",
          "name": "stderr",
          "text": [
            "[Parallel(n_jobs=1)]: Done  17 tasks      | elapsed:    1.0s\n",
            "INFO:root:Filtered and resampled data for 4_2_20180417.cnt.\n",
            "INFO:root:Processed trial 1 of 4_2_20180417.cnt.\n",
            "INFO:root:Processed trial 2 of 4_2_20180417.cnt.\n",
            "INFO:root:Processed trial 3 of 4_2_20180417.cnt.\n",
            "INFO:root:Processed trial 4 of 4_2_20180417.cnt.\n",
            "INFO:root:Processed trial 5 of 4_2_20180417.cnt.\n",
            "INFO:root:Processed trial 6 of 4_2_20180417.cnt.\n",
            "INFO:root:Processed trial 7 of 4_2_20180417.cnt.\n",
            "INFO:root:Processed trial 8 of 4_2_20180417.cnt.\n",
            "INFO:root:Processed trial 9 of 4_2_20180417.cnt.\n",
            "INFO:root:Processed trial 10 of 4_2_20180417.cnt.\n",
            "INFO:root:Processed trial 11 of 4_2_20180417.cnt.\n",
            "INFO:root:Processed trial 12 of 4_2_20180417.cnt.\n",
            "INFO:root:Processed trial 13 of 4_2_20180417.cnt.\n",
            "INFO:root:Processed trial 14 of 4_2_20180417.cnt.\n",
            "INFO:root:Processed trial 15 of 4_2_20180417.cnt.\n",
            "INFO:root:Successfully processed 4_2_20180417.cnt.\n",
            "INFO:root:Successfully loaded 4_3_20180501.cnt with date_format='mm/dd/yy'.\n",
            "INFO:root:Dropped channels ['M1', 'M2', 'VEO', 'HEO'] from 4_3_20180501.cnt.\n",
            "INFO:root:Reordered channels for 4_3_20180501.cnt.\n",
            "INFO:root:Filtering raw data for 4_3_20180501.cnt: Band-pass 0.1 - 75 Hz, Notch 50 Hz\n"
          ]
        },
        {
          "output_type": "stream",
          "name": "stdout",
          "text": [
            "Filtering raw data in 1 contiguous segment\n",
            "Setting up band-pass filter from 0.1 - 75 Hz\n",
            "\n",
            "FIR filter parameters\n",
            "---------------------\n",
            "Designing a one-pass, zero-phase, non-causal bandpass filter:\n",
            "- Windowed time-domain design (firwin) method\n",
            "- Hamming window with 0.0194 passband ripple and 53 dB stopband attenuation\n",
            "- Lower passband edge: 0.10\n",
            "- Lower transition bandwidth: 0.10 Hz (-6 dB cutoff frequency: 0.05 Hz)\n",
            "- Upper passband edge: 75.00 Hz\n",
            "- Upper transition bandwidth: 18.75 Hz (-6 dB cutoff frequency: 84.38 Hz)\n",
            "- Filter length: 33001 samples (33.001 s)\n",
            "\n"
          ]
        },
        {
          "output_type": "stream",
          "name": "stderr",
          "text": [
            "[Parallel(n_jobs=1)]: Done  17 tasks      | elapsed:    1.4s\n"
          ]
        },
        {
          "output_type": "stream",
          "name": "stdout",
          "text": [
            "Filtering raw data in 1 contiguous segment\n",
            "Setting up band-stop filter from 49 - 51 Hz\n",
            "\n",
            "FIR filter parameters\n",
            "---------------------\n",
            "Designing a one-pass, zero-phase, non-causal bandstop filter:\n",
            "- Windowed time-domain design (firwin) method\n",
            "- Hamming window with 0.0194 passband ripple and 53 dB stopband attenuation\n",
            "- Lower passband edge: 49.38\n",
            "- Lower transition bandwidth: 0.50 Hz (-6 dB cutoff frequency: 49.12 Hz)\n",
            "- Upper passband edge: 50.62 Hz\n",
            "- Upper transition bandwidth: 0.50 Hz (-6 dB cutoff frequency: 50.88 Hz)\n",
            "- Filter length: 6601 samples (6.601 s)\n",
            "\n"
          ]
        },
        {
          "output_type": "stream",
          "name": "stderr",
          "text": [
            "[Parallel(n_jobs=1)]: Done  17 tasks      | elapsed:    1.1s\n",
            "INFO:root:Filtered and resampled data for 4_3_20180501.cnt.\n",
            "INFO:root:Processed trial 1 of 4_3_20180501.cnt.\n",
            "INFO:root:Processed trial 2 of 4_3_20180501.cnt.\n",
            "INFO:root:Processed trial 3 of 4_3_20180501.cnt.\n",
            "INFO:root:Processed trial 4 of 4_3_20180501.cnt.\n",
            "INFO:root:Processed trial 5 of 4_3_20180501.cnt.\n",
            "INFO:root:Processed trial 6 of 4_3_20180501.cnt.\n",
            "INFO:root:Processed trial 7 of 4_3_20180501.cnt.\n",
            "INFO:root:Processed trial 8 of 4_3_20180501.cnt.\n",
            "INFO:root:Processed trial 9 of 4_3_20180501.cnt.\n",
            "INFO:root:Processed trial 10 of 4_3_20180501.cnt.\n",
            "INFO:root:Processed trial 11 of 4_3_20180501.cnt.\n",
            "INFO:root:Processed trial 12 of 4_3_20180501.cnt.\n",
            "INFO:root:Processed trial 13 of 4_3_20180501.cnt.\n",
            "INFO:root:Processed trial 14 of 4_3_20180501.cnt.\n",
            "INFO:root:Processed trial 15 of 4_3_20180501.cnt.\n",
            "INFO:root:Successfully processed 4_3_20180501.cnt.\n",
            "<ipython-input-5-659b640090c8>:153: RuntimeWarning:   Could not parse meas date from the header. Setting to None.\n",
            "  raw = mne.io.read_raw_cnt(\n",
            "INFO:root:Successfully loaded 5_1_20180719.cnt with date_format='mm/dd/yy'.\n",
            "INFO:root:Set meas_date for 5_1_20180719.cnt to 2018-07-19 00:00:00+00:00 (UTC).\n",
            "INFO:root:Dropped channels ['M1', 'M2', 'VEO', 'HEO'] from 5_1_20180719.cnt.\n",
            "INFO:root:Reordered channels for 5_1_20180719.cnt.\n",
            "INFO:root:Filtering raw data for 5_1_20180719.cnt: Band-pass 0.1 - 75 Hz, Notch 50 Hz\n"
          ]
        },
        {
          "output_type": "stream",
          "name": "stdout",
          "text": [
            "Filtering raw data in 1 contiguous segment\n",
            "Setting up band-pass filter from 0.1 - 75 Hz\n",
            "\n",
            "FIR filter parameters\n",
            "---------------------\n",
            "Designing a one-pass, zero-phase, non-causal bandpass filter:\n",
            "- Windowed time-domain design (firwin) method\n",
            "- Hamming window with 0.0194 passband ripple and 53 dB stopband attenuation\n",
            "- Lower passband edge: 0.10\n",
            "- Lower transition bandwidth: 0.10 Hz (-6 dB cutoff frequency: 0.05 Hz)\n",
            "- Upper passband edge: 75.00 Hz\n",
            "- Upper transition bandwidth: 18.75 Hz (-6 dB cutoff frequency: 84.38 Hz)\n",
            "- Filter length: 33001 samples (33.001 s)\n",
            "\n"
          ]
        },
        {
          "output_type": "stream",
          "name": "stderr",
          "text": [
            "[Parallel(n_jobs=1)]: Done  17 tasks      | elapsed:    1.6s\n"
          ]
        },
        {
          "output_type": "stream",
          "name": "stdout",
          "text": [
            "Filtering raw data in 1 contiguous segment\n",
            "Setting up band-stop filter from 49 - 51 Hz\n",
            "\n",
            "FIR filter parameters\n",
            "---------------------\n",
            "Designing a one-pass, zero-phase, non-causal bandstop filter:\n",
            "- Windowed time-domain design (firwin) method\n",
            "- Hamming window with 0.0194 passband ripple and 53 dB stopband attenuation\n",
            "- Lower passband edge: 49.38\n",
            "- Lower transition bandwidth: 0.50 Hz (-6 dB cutoff frequency: 49.12 Hz)\n",
            "- Upper passband edge: 50.62 Hz\n",
            "- Upper transition bandwidth: 0.50 Hz (-6 dB cutoff frequency: 50.88 Hz)\n",
            "- Filter length: 6601 samples (6.601 s)\n",
            "\n"
          ]
        },
        {
          "output_type": "stream",
          "name": "stderr",
          "text": [
            "[Parallel(n_jobs=1)]: Done  17 tasks      | elapsed:    1.8s\n",
            "INFO:root:Filtered and resampled data for 5_1_20180719.cnt.\n",
            "INFO:root:Processed trial 1 of 5_1_20180719.cnt.\n",
            "INFO:root:Processed trial 2 of 5_1_20180719.cnt.\n",
            "INFO:root:Processed trial 3 of 5_1_20180719.cnt.\n",
            "INFO:root:Processed trial 4 of 5_1_20180719.cnt.\n",
            "INFO:root:Processed trial 5 of 5_1_20180719.cnt.\n",
            "INFO:root:Processed trial 6 of 5_1_20180719.cnt.\n",
            "INFO:root:Processed trial 7 of 5_1_20180719.cnt.\n",
            "INFO:root:Processed trial 8 of 5_1_20180719.cnt.\n",
            "INFO:root:Processed trial 9 of 5_1_20180719.cnt.\n",
            "INFO:root:Processed trial 10 of 5_1_20180719.cnt.\n",
            "INFO:root:Processed trial 11 of 5_1_20180719.cnt.\n",
            "INFO:root:Processed trial 12 of 5_1_20180719.cnt.\n",
            "INFO:root:Processed trial 13 of 5_1_20180719.cnt.\n",
            "INFO:root:Processed trial 14 of 5_1_20180719.cnt.\n",
            "INFO:root:Processed trial 15 of 5_1_20180719.cnt.\n",
            "INFO:root:Successfully processed 5_1_20180719.cnt.\n",
            "<ipython-input-5-659b640090c8>:153: RuntimeWarning:   Could not parse meas date from the header. Setting to None.\n",
            "  raw = mne.io.read_raw_cnt(\n",
            "INFO:root:Successfully loaded 5_2_20180728.cnt with date_format='mm/dd/yy'.\n",
            "INFO:root:Set meas_date for 5_2_20180728.cnt to 2018-07-28 00:00:00+00:00 (UTC).\n",
            "INFO:root:Dropped channels ['M1', 'M2', 'VEO', 'HEO'] from 5_2_20180728.cnt.\n",
            "INFO:root:Reordered channels for 5_2_20180728.cnt.\n",
            "INFO:root:Filtering raw data for 5_2_20180728.cnt: Band-pass 0.1 - 75 Hz, Notch 50 Hz\n"
          ]
        },
        {
          "output_type": "stream",
          "name": "stdout",
          "text": [
            "Filtering raw data in 1 contiguous segment\n",
            "Setting up band-pass filter from 0.1 - 75 Hz\n",
            "\n",
            "FIR filter parameters\n",
            "---------------------\n",
            "Designing a one-pass, zero-phase, non-causal bandpass filter:\n",
            "- Windowed time-domain design (firwin) method\n",
            "- Hamming window with 0.0194 passband ripple and 53 dB stopband attenuation\n",
            "- Lower passband edge: 0.10\n",
            "- Lower transition bandwidth: 0.10 Hz (-6 dB cutoff frequency: 0.05 Hz)\n",
            "- Upper passband edge: 75.00 Hz\n",
            "- Upper transition bandwidth: 18.75 Hz (-6 dB cutoff frequency: 84.38 Hz)\n",
            "- Filter length: 33001 samples (33.001 s)\n",
            "\n"
          ]
        },
        {
          "output_type": "stream",
          "name": "stderr",
          "text": [
            "[Parallel(n_jobs=1)]: Done  17 tasks      | elapsed:    1.4s\n"
          ]
        },
        {
          "output_type": "stream",
          "name": "stdout",
          "text": [
            "Filtering raw data in 1 contiguous segment\n",
            "Setting up band-stop filter from 49 - 51 Hz\n",
            "\n",
            "FIR filter parameters\n",
            "---------------------\n",
            "Designing a one-pass, zero-phase, non-causal bandstop filter:\n",
            "- Windowed time-domain design (firwin) method\n",
            "- Hamming window with 0.0194 passband ripple and 53 dB stopband attenuation\n",
            "- Lower passband edge: 49.38\n",
            "- Lower transition bandwidth: 0.50 Hz (-6 dB cutoff frequency: 49.12 Hz)\n",
            "- Upper passband edge: 50.62 Hz\n",
            "- Upper transition bandwidth: 0.50 Hz (-6 dB cutoff frequency: 50.88 Hz)\n",
            "- Filter length: 6601 samples (6.601 s)\n",
            "\n"
          ]
        },
        {
          "output_type": "stream",
          "name": "stderr",
          "text": [
            "[Parallel(n_jobs=1)]: Done  17 tasks      | elapsed:    1.1s\n",
            "INFO:root:Filtered and resampled data for 5_2_20180728.cnt.\n",
            "INFO:root:Processed trial 1 of 5_2_20180728.cnt.\n",
            "INFO:root:Processed trial 2 of 5_2_20180728.cnt.\n",
            "INFO:root:Processed trial 3 of 5_2_20180728.cnt.\n",
            "INFO:root:Processed trial 4 of 5_2_20180728.cnt.\n",
            "INFO:root:Processed trial 5 of 5_2_20180728.cnt.\n",
            "INFO:root:Processed trial 6 of 5_2_20180728.cnt.\n",
            "INFO:root:Processed trial 7 of 5_2_20180728.cnt.\n",
            "INFO:root:Processed trial 8 of 5_2_20180728.cnt.\n",
            "INFO:root:Processed trial 9 of 5_2_20180728.cnt.\n",
            "INFO:root:Processed trial 10 of 5_2_20180728.cnt.\n",
            "INFO:root:Processed trial 11 of 5_2_20180728.cnt.\n",
            "INFO:root:Processed trial 12 of 5_2_20180728.cnt.\n",
            "INFO:root:Processed trial 13 of 5_2_20180728.cnt.\n",
            "INFO:root:Processed trial 14 of 5_2_20180728.cnt.\n",
            "INFO:root:Processed trial 15 of 5_2_20180728.cnt.\n",
            "INFO:root:Successfully processed 5_2_20180728.cnt.\n",
            "<ipython-input-5-659b640090c8>:153: RuntimeWarning:   Could not parse meas date from the header. Setting to None.\n",
            "  raw = mne.io.read_raw_cnt(\n",
            "INFO:root:Successfully loaded 5_3_20180723.cnt with date_format='mm/dd/yy'.\n",
            "INFO:root:Set meas_date for 5_3_20180723.cnt to 2018-07-23 00:00:00+00:00 (UTC).\n",
            "INFO:root:Dropped channels ['M1', 'M2', 'VEO', 'HEO'] from 5_3_20180723.cnt.\n",
            "INFO:root:Reordered channels for 5_3_20180723.cnt.\n",
            "INFO:root:Filtering raw data for 5_3_20180723.cnt: Band-pass 0.1 - 75 Hz, Notch 50 Hz\n"
          ]
        },
        {
          "output_type": "stream",
          "name": "stdout",
          "text": [
            "Filtering raw data in 1 contiguous segment\n",
            "Setting up band-pass filter from 0.1 - 75 Hz\n",
            "\n",
            "FIR filter parameters\n",
            "---------------------\n",
            "Designing a one-pass, zero-phase, non-causal bandpass filter:\n",
            "- Windowed time-domain design (firwin) method\n",
            "- Hamming window with 0.0194 passband ripple and 53 dB stopband attenuation\n",
            "- Lower passband edge: 0.10\n",
            "- Lower transition bandwidth: 0.10 Hz (-6 dB cutoff frequency: 0.05 Hz)\n",
            "- Upper passband edge: 75.00 Hz\n",
            "- Upper transition bandwidth: 18.75 Hz (-6 dB cutoff frequency: 84.38 Hz)\n",
            "- Filter length: 33001 samples (33.001 s)\n",
            "\n"
          ]
        },
        {
          "output_type": "stream",
          "name": "stderr",
          "text": [
            "[Parallel(n_jobs=1)]: Done  17 tasks      | elapsed:    1.5s\n"
          ]
        },
        {
          "output_type": "stream",
          "name": "stdout",
          "text": [
            "Filtering raw data in 1 contiguous segment\n",
            "Setting up band-stop filter from 49 - 51 Hz\n",
            "\n",
            "FIR filter parameters\n",
            "---------------------\n",
            "Designing a one-pass, zero-phase, non-causal bandstop filter:\n",
            "- Windowed time-domain design (firwin) method\n",
            "- Hamming window with 0.0194 passband ripple and 53 dB stopband attenuation\n",
            "- Lower passband edge: 49.38\n",
            "- Lower transition bandwidth: 0.50 Hz (-6 dB cutoff frequency: 49.12 Hz)\n",
            "- Upper passband edge: 50.62 Hz\n",
            "- Upper transition bandwidth: 0.50 Hz (-6 dB cutoff frequency: 50.88 Hz)\n",
            "- Filter length: 6601 samples (6.601 s)\n",
            "\n"
          ]
        },
        {
          "output_type": "stream",
          "name": "stderr",
          "text": [
            "[Parallel(n_jobs=1)]: Done  17 tasks      | elapsed:    1.1s\n",
            "INFO:root:Filtered and resampled data for 5_3_20180723.cnt.\n",
            "INFO:root:Processed trial 1 of 5_3_20180723.cnt.\n",
            "INFO:root:Processed trial 2 of 5_3_20180723.cnt.\n",
            "INFO:root:Processed trial 3 of 5_3_20180723.cnt.\n",
            "INFO:root:Processed trial 4 of 5_3_20180723.cnt.\n",
            "INFO:root:Processed trial 5 of 5_3_20180723.cnt.\n",
            "INFO:root:Processed trial 6 of 5_3_20180723.cnt.\n",
            "INFO:root:Processed trial 7 of 5_3_20180723.cnt.\n",
            "INFO:root:Processed trial 8 of 5_3_20180723.cnt.\n",
            "INFO:root:Processed trial 9 of 5_3_20180723.cnt.\n",
            "INFO:root:Processed trial 10 of 5_3_20180723.cnt.\n",
            "INFO:root:Processed trial 11 of 5_3_20180723.cnt.\n",
            "INFO:root:Processed trial 12 of 5_3_20180723.cnt.\n",
            "INFO:root:Processed trial 13 of 5_3_20180723.cnt.\n",
            "INFO:root:Processed trial 14 of 5_3_20180723.cnt.\n",
            "INFO:root:Processed trial 15 of 5_3_20180723.cnt.\n",
            "INFO:root:Successfully processed 5_3_20180723.cnt.\n",
            "<ipython-input-5-659b640090c8>:153: RuntimeWarning:   Could not parse meas date from the header. Setting to None.\n",
            "  raw = mne.io.read_raw_cnt(\n",
            "INFO:root:Successfully loaded 6_1_20180713.cnt with date_format='mm/dd/yy'.\n",
            "INFO:root:Set meas_date for 6_1_20180713.cnt to 2018-07-13 00:00:00+00:00 (UTC).\n",
            "INFO:root:Dropped channels ['M1', 'M2', 'VEO', 'HEO'] from 6_1_20180713.cnt.\n",
            "INFO:root:Reordered channels for 6_1_20180713.cnt.\n",
            "INFO:root:Filtering raw data for 6_1_20180713.cnt: Band-pass 0.1 - 75 Hz, Notch 50 Hz\n"
          ]
        },
        {
          "output_type": "stream",
          "name": "stdout",
          "text": [
            "Filtering raw data in 1 contiguous segment\n",
            "Setting up band-pass filter from 0.1 - 75 Hz\n",
            "\n",
            "FIR filter parameters\n",
            "---------------------\n",
            "Designing a one-pass, zero-phase, non-causal bandpass filter:\n",
            "- Windowed time-domain design (firwin) method\n",
            "- Hamming window with 0.0194 passband ripple and 53 dB stopband attenuation\n",
            "- Lower passband edge: 0.10\n",
            "- Lower transition bandwidth: 0.10 Hz (-6 dB cutoff frequency: 0.05 Hz)\n",
            "- Upper passband edge: 75.00 Hz\n",
            "- Upper transition bandwidth: 18.75 Hz (-6 dB cutoff frequency: 84.38 Hz)\n",
            "- Filter length: 33001 samples (33.001 s)\n",
            "\n"
          ]
        },
        {
          "output_type": "stream",
          "name": "stderr",
          "text": [
            "[Parallel(n_jobs=1)]: Done  17 tasks      | elapsed:    2.0s\n"
          ]
        },
        {
          "output_type": "stream",
          "name": "stdout",
          "text": [
            "Filtering raw data in 1 contiguous segment\n",
            "Setting up band-stop filter from 49 - 51 Hz\n",
            "\n",
            "FIR filter parameters\n",
            "---------------------\n",
            "Designing a one-pass, zero-phase, non-causal bandstop filter:\n",
            "- Windowed time-domain design (firwin) method\n",
            "- Hamming window with 0.0194 passband ripple and 53 dB stopband attenuation\n",
            "- Lower passband edge: 49.38\n",
            "- Lower transition bandwidth: 0.50 Hz (-6 dB cutoff frequency: 49.12 Hz)\n",
            "- Upper passband edge: 50.62 Hz\n",
            "- Upper transition bandwidth: 0.50 Hz (-6 dB cutoff frequency: 50.88 Hz)\n",
            "- Filter length: 6601 samples (6.601 s)\n",
            "\n"
          ]
        },
        {
          "output_type": "stream",
          "name": "stderr",
          "text": [
            "[Parallel(n_jobs=1)]: Done  17 tasks      | elapsed:    1.2s\n",
            "INFO:root:Filtered and resampled data for 6_1_20180713.cnt.\n",
            "INFO:root:Processed trial 1 of 6_1_20180713.cnt.\n",
            "INFO:root:Processed trial 2 of 6_1_20180713.cnt.\n",
            "INFO:root:Processed trial 3 of 6_1_20180713.cnt.\n",
            "INFO:root:Processed trial 4 of 6_1_20180713.cnt.\n",
            "INFO:root:Processed trial 5 of 6_1_20180713.cnt.\n",
            "INFO:root:Processed trial 6 of 6_1_20180713.cnt.\n",
            "INFO:root:Processed trial 7 of 6_1_20180713.cnt.\n",
            "INFO:root:Processed trial 8 of 6_1_20180713.cnt.\n",
            "INFO:root:Processed trial 9 of 6_1_20180713.cnt.\n",
            "INFO:root:Processed trial 10 of 6_1_20180713.cnt.\n",
            "INFO:root:Processed trial 11 of 6_1_20180713.cnt.\n",
            "INFO:root:Processed trial 12 of 6_1_20180713.cnt.\n",
            "INFO:root:Processed trial 13 of 6_1_20180713.cnt.\n",
            "INFO:root:Processed trial 14 of 6_1_20180713.cnt.\n",
            "INFO:root:Processed trial 15 of 6_1_20180713.cnt.\n",
            "INFO:root:Successfully processed 6_1_20180713.cnt.\n",
            "<ipython-input-5-659b640090c8>:153: RuntimeWarning:   Could not parse meas date from the header. Setting to None.\n",
            "  raw = mne.io.read_raw_cnt(\n",
            "INFO:root:Successfully loaded 6_2_20180731.cnt with date_format='mm/dd/yy'.\n",
            "INFO:root:Set meas_date for 6_2_20180731.cnt to 2018-07-31 00:00:00+00:00 (UTC).\n",
            "INFO:root:Dropped channels ['M1', 'M2', 'VEO', 'HEO'] from 6_2_20180731.cnt.\n",
            "INFO:root:Reordered channels for 6_2_20180731.cnt.\n",
            "INFO:root:Filtering raw data for 6_2_20180731.cnt: Band-pass 0.1 - 75 Hz, Notch 50 Hz\n"
          ]
        },
        {
          "output_type": "stream",
          "name": "stdout",
          "text": [
            "Filtering raw data in 1 contiguous segment\n",
            "Setting up band-pass filter from 0.1 - 75 Hz\n",
            "\n",
            "FIR filter parameters\n",
            "---------------------\n",
            "Designing a one-pass, zero-phase, non-causal bandpass filter:\n",
            "- Windowed time-domain design (firwin) method\n",
            "- Hamming window with 0.0194 passband ripple and 53 dB stopband attenuation\n",
            "- Lower passband edge: 0.10\n",
            "- Lower transition bandwidth: 0.10 Hz (-6 dB cutoff frequency: 0.05 Hz)\n",
            "- Upper passband edge: 75.00 Hz\n",
            "- Upper transition bandwidth: 18.75 Hz (-6 dB cutoff frequency: 84.38 Hz)\n",
            "- Filter length: 33001 samples (33.001 s)\n",
            "\n"
          ]
        },
        {
          "output_type": "stream",
          "name": "stderr",
          "text": [
            "[Parallel(n_jobs=1)]: Done  17 tasks      | elapsed:    1.4s\n"
          ]
        },
        {
          "output_type": "stream",
          "name": "stdout",
          "text": [
            "Filtering raw data in 1 contiguous segment\n",
            "Setting up band-stop filter from 49 - 51 Hz\n",
            "\n",
            "FIR filter parameters\n",
            "---------------------\n",
            "Designing a one-pass, zero-phase, non-causal bandstop filter:\n",
            "- Windowed time-domain design (firwin) method\n",
            "- Hamming window with 0.0194 passband ripple and 53 dB stopband attenuation\n",
            "- Lower passband edge: 49.38\n",
            "- Lower transition bandwidth: 0.50 Hz (-6 dB cutoff frequency: 49.12 Hz)\n",
            "- Upper passband edge: 50.62 Hz\n",
            "- Upper transition bandwidth: 0.50 Hz (-6 dB cutoff frequency: 50.88 Hz)\n",
            "- Filter length: 6601 samples (6.601 s)\n",
            "\n"
          ]
        },
        {
          "output_type": "stream",
          "name": "stderr",
          "text": [
            "[Parallel(n_jobs=1)]: Done  17 tasks      | elapsed:    1.1s\n",
            "INFO:root:Filtered and resampled data for 6_2_20180731.cnt.\n",
            "INFO:root:Processed trial 1 of 6_2_20180731.cnt.\n",
            "INFO:root:Processed trial 2 of 6_2_20180731.cnt.\n",
            "INFO:root:Processed trial 3 of 6_2_20180731.cnt.\n",
            "INFO:root:Processed trial 4 of 6_2_20180731.cnt.\n",
            "INFO:root:Processed trial 5 of 6_2_20180731.cnt.\n",
            "INFO:root:Processed trial 6 of 6_2_20180731.cnt.\n",
            "INFO:root:Processed trial 7 of 6_2_20180731.cnt.\n",
            "INFO:root:Processed trial 8 of 6_2_20180731.cnt.\n",
            "INFO:root:Processed trial 9 of 6_2_20180731.cnt.\n",
            "INFO:root:Processed trial 10 of 6_2_20180731.cnt.\n",
            "INFO:root:Processed trial 11 of 6_2_20180731.cnt.\n",
            "INFO:root:Processed trial 12 of 6_2_20180731.cnt.\n",
            "INFO:root:Processed trial 13 of 6_2_20180731.cnt.\n",
            "INFO:root:Processed trial 14 of 6_2_20180731.cnt.\n",
            "INFO:root:Processed trial 15 of 6_2_20180731.cnt.\n",
            "INFO:root:Successfully processed 6_2_20180731.cnt.\n",
            "INFO:root:Successfully loaded 6_3_20180802.cnt with date_format='mm/dd/yy'.\n",
            "INFO:root:Dropped channels ['M1', 'M2', 'VEO', 'HEO'] from 6_3_20180802.cnt.\n",
            "INFO:root:Reordered channels for 6_3_20180802.cnt.\n",
            "INFO:root:Filtering raw data for 6_3_20180802.cnt: Band-pass 0.1 - 75 Hz, Notch 50 Hz\n"
          ]
        },
        {
          "output_type": "stream",
          "name": "stdout",
          "text": [
            "Filtering raw data in 1 contiguous segment\n",
            "Setting up band-pass filter from 0.1 - 75 Hz\n",
            "\n",
            "FIR filter parameters\n",
            "---------------------\n",
            "Designing a one-pass, zero-phase, non-causal bandpass filter:\n",
            "- Windowed time-domain design (firwin) method\n",
            "- Hamming window with 0.0194 passband ripple and 53 dB stopband attenuation\n",
            "- Lower passband edge: 0.10\n",
            "- Lower transition bandwidth: 0.10 Hz (-6 dB cutoff frequency: 0.05 Hz)\n",
            "- Upper passband edge: 75.00 Hz\n",
            "- Upper transition bandwidth: 18.75 Hz (-6 dB cutoff frequency: 84.38 Hz)\n",
            "- Filter length: 33001 samples (33.001 s)\n",
            "\n"
          ]
        },
        {
          "output_type": "stream",
          "name": "stderr",
          "text": [
            "[Parallel(n_jobs=1)]: Done  17 tasks      | elapsed:    1.6s\n"
          ]
        },
        {
          "output_type": "stream",
          "name": "stdout",
          "text": [
            "Filtering raw data in 1 contiguous segment\n",
            "Setting up band-stop filter from 49 - 51 Hz\n",
            "\n",
            "FIR filter parameters\n",
            "---------------------\n",
            "Designing a one-pass, zero-phase, non-causal bandstop filter:\n",
            "- Windowed time-domain design (firwin) method\n",
            "- Hamming window with 0.0194 passband ripple and 53 dB stopband attenuation\n",
            "- Lower passband edge: 49.38\n",
            "- Lower transition bandwidth: 0.50 Hz (-6 dB cutoff frequency: 49.12 Hz)\n",
            "- Upper passband edge: 50.62 Hz\n",
            "- Upper transition bandwidth: 0.50 Hz (-6 dB cutoff frequency: 50.88 Hz)\n",
            "- Filter length: 6601 samples (6.601 s)\n",
            "\n"
          ]
        },
        {
          "output_type": "stream",
          "name": "stderr",
          "text": [
            "[Parallel(n_jobs=1)]: Done  17 tasks      | elapsed:    1.1s\n",
            "INFO:root:Filtered and resampled data for 6_3_20180802.cnt.\n",
            "INFO:root:Processed trial 1 of 6_3_20180802.cnt.\n",
            "INFO:root:Processed trial 2 of 6_3_20180802.cnt.\n",
            "INFO:root:Processed trial 3 of 6_3_20180802.cnt.\n",
            "INFO:root:Processed trial 4 of 6_3_20180802.cnt.\n",
            "INFO:root:Processed trial 5 of 6_3_20180802.cnt.\n",
            "INFO:root:Processed trial 6 of 6_3_20180802.cnt.\n",
            "INFO:root:Processed trial 7 of 6_3_20180802.cnt.\n",
            "INFO:root:Processed trial 8 of 6_3_20180802.cnt.\n",
            "INFO:root:Processed trial 9 of 6_3_20180802.cnt.\n",
            "INFO:root:Processed trial 10 of 6_3_20180802.cnt.\n",
            "INFO:root:Processed trial 11 of 6_3_20180802.cnt.\n",
            "INFO:root:Processed trial 12 of 6_3_20180802.cnt.\n",
            "INFO:root:Processed trial 13 of 6_3_20180802.cnt.\n",
            "INFO:root:Processed trial 14 of 6_3_20180802.cnt.\n",
            "INFO:root:Processed trial 15 of 6_3_20180802.cnt.\n",
            "INFO:root:Successfully processed 6_3_20180802.cnt.\n",
            "WARNING:root:Failed to load 7_1_20180411.cnt with date_format='mm/dd/yy': cannot reshape array of size 15773870 into shape (757575,66,1). Trying next format.\n",
            "WARNING:root:Failed to load 7_1_20180411.cnt with date_format='dd/mm/yy': cannot reshape array of size 15773870 into shape (757575,66,1). Trying next format.\n",
            "ERROR:root:Failed to load 7_1_20180411.cnt with any supported date_format. Skipping this file.\n",
            "<ipython-input-5-659b640090c8>:153: RuntimeWarning:   Could not parse meas date from the header. Setting to None.\n",
            "  raw = mne.io.read_raw_cnt(\n",
            "INFO:root:Successfully loaded 7_2_20180418.cnt with date_format='mm/dd/yy'.\n",
            "INFO:root:Set meas_date for 7_2_20180418.cnt to 2018-04-18 00:00:00+00:00 (UTC).\n",
            "INFO:root:Dropped channels ['M1', 'M2', 'VEO', 'HEO'] from 7_2_20180418.cnt.\n",
            "INFO:root:Reordered channels for 7_2_20180418.cnt.\n",
            "INFO:root:Filtering raw data for 7_2_20180418.cnt: Band-pass 0.1 - 75 Hz, Notch 50 Hz\n"
          ]
        },
        {
          "output_type": "stream",
          "name": "stdout",
          "text": [
            "Filtering raw data in 1 contiguous segment\n",
            "Setting up band-pass filter from 0.1 - 75 Hz\n",
            "\n",
            "FIR filter parameters\n",
            "---------------------\n",
            "Designing a one-pass, zero-phase, non-causal bandpass filter:\n",
            "- Windowed time-domain design (firwin) method\n",
            "- Hamming window with 0.0194 passband ripple and 53 dB stopband attenuation\n",
            "- Lower passband edge: 0.10\n",
            "- Lower transition bandwidth: 0.10 Hz (-6 dB cutoff frequency: 0.05 Hz)\n",
            "- Upper passband edge: 75.00 Hz\n",
            "- Upper transition bandwidth: 18.75 Hz (-6 dB cutoff frequency: 84.38 Hz)\n",
            "- Filter length: 33001 samples (33.001 s)\n",
            "\n"
          ]
        },
        {
          "output_type": "stream",
          "name": "stderr",
          "text": [
            "[Parallel(n_jobs=1)]: Done  17 tasks      | elapsed:    1.3s\n"
          ]
        },
        {
          "output_type": "stream",
          "name": "stdout",
          "text": [
            "Filtering raw data in 1 contiguous segment\n",
            "Setting up band-stop filter from 49 - 51 Hz\n",
            "\n",
            "FIR filter parameters\n",
            "---------------------\n",
            "Designing a one-pass, zero-phase, non-causal bandstop filter:\n",
            "- Windowed time-domain design (firwin) method\n",
            "- Hamming window with 0.0194 passband ripple and 53 dB stopband attenuation\n",
            "- Lower passband edge: 49.38\n",
            "- Lower transition bandwidth: 0.50 Hz (-6 dB cutoff frequency: 49.12 Hz)\n",
            "- Upper passband edge: 50.62 Hz\n",
            "- Upper transition bandwidth: 0.50 Hz (-6 dB cutoff frequency: 50.88 Hz)\n",
            "- Filter length: 6601 samples (6.601 s)\n",
            "\n"
          ]
        },
        {
          "output_type": "stream",
          "name": "stderr",
          "text": [
            "[Parallel(n_jobs=1)]: Done  17 tasks      | elapsed:    1.0s\n",
            "INFO:root:Filtered and resampled data for 7_2_20180418.cnt.\n",
            "INFO:root:Processed trial 1 of 7_2_20180418.cnt.\n",
            "INFO:root:Processed trial 2 of 7_2_20180418.cnt.\n",
            "INFO:root:Processed trial 3 of 7_2_20180418.cnt.\n",
            "INFO:root:Processed trial 4 of 7_2_20180418.cnt.\n",
            "INFO:root:Processed trial 5 of 7_2_20180418.cnt.\n",
            "INFO:root:Processed trial 6 of 7_2_20180418.cnt.\n",
            "INFO:root:Processed trial 7 of 7_2_20180418.cnt.\n",
            "INFO:root:Processed trial 8 of 7_2_20180418.cnt.\n",
            "INFO:root:Processed trial 9 of 7_2_20180418.cnt.\n",
            "INFO:root:Processed trial 10 of 7_2_20180418.cnt.\n",
            "INFO:root:Processed trial 11 of 7_2_20180418.cnt.\n",
            "INFO:root:Processed trial 12 of 7_2_20180418.cnt.\n",
            "INFO:root:Processed trial 13 of 7_2_20180418.cnt.\n",
            "INFO:root:Processed trial 14 of 7_2_20180418.cnt.\n",
            "INFO:root:Processed trial 15 of 7_2_20180418.cnt.\n",
            "INFO:root:Successfully processed 7_2_20180418.cnt.\n",
            "<ipython-input-5-659b640090c8>:153: RuntimeWarning:   Could not parse meas date from the header. Setting to None.\n",
            "  raw = mne.io.read_raw_cnt(\n",
            "INFO:root:Successfully loaded 7_3_20180422.cnt with date_format='mm/dd/yy'.\n",
            "INFO:root:Set meas_date for 7_3_20180422.cnt to 2018-04-22 00:00:00+00:00 (UTC).\n",
            "INFO:root:Dropped channels ['M1', 'M2', 'VEO', 'HEO'] from 7_3_20180422.cnt.\n",
            "INFO:root:Reordered channels for 7_3_20180422.cnt.\n",
            "INFO:root:Filtering raw data for 7_3_20180422.cnt: Band-pass 0.1 - 75 Hz, Notch 50 Hz\n"
          ]
        },
        {
          "output_type": "stream",
          "name": "stdout",
          "text": [
            "Filtering raw data in 1 contiguous segment\n",
            "Setting up band-pass filter from 0.1 - 75 Hz\n",
            "\n",
            "FIR filter parameters\n",
            "---------------------\n",
            "Designing a one-pass, zero-phase, non-causal bandpass filter:\n",
            "- Windowed time-domain design (firwin) method\n",
            "- Hamming window with 0.0194 passband ripple and 53 dB stopband attenuation\n",
            "- Lower passband edge: 0.10\n",
            "- Lower transition bandwidth: 0.10 Hz (-6 dB cutoff frequency: 0.05 Hz)\n",
            "- Upper passband edge: 75.00 Hz\n",
            "- Upper transition bandwidth: 18.75 Hz (-6 dB cutoff frequency: 84.38 Hz)\n",
            "- Filter length: 33001 samples (33.001 s)\n",
            "\n"
          ]
        },
        {
          "output_type": "stream",
          "name": "stderr",
          "text": [
            "[Parallel(n_jobs=1)]: Done  17 tasks      | elapsed:    1.3s\n"
          ]
        },
        {
          "output_type": "stream",
          "name": "stdout",
          "text": [
            "Filtering raw data in 1 contiguous segment\n",
            "Setting up band-stop filter from 49 - 51 Hz\n",
            "\n",
            "FIR filter parameters\n",
            "---------------------\n",
            "Designing a one-pass, zero-phase, non-causal bandstop filter:\n",
            "- Windowed time-domain design (firwin) method\n",
            "- Hamming window with 0.0194 passband ripple and 53 dB stopband attenuation\n",
            "- Lower passband edge: 49.38\n",
            "- Lower transition bandwidth: 0.50 Hz (-6 dB cutoff frequency: 49.12 Hz)\n",
            "- Upper passband edge: 50.62 Hz\n",
            "- Upper transition bandwidth: 0.50 Hz (-6 dB cutoff frequency: 50.88 Hz)\n",
            "- Filter length: 6601 samples (6.601 s)\n",
            "\n"
          ]
        },
        {
          "output_type": "stream",
          "name": "stderr",
          "text": [
            "[Parallel(n_jobs=1)]: Done  17 tasks      | elapsed:    1.1s\n",
            "INFO:root:Filtered and resampled data for 7_3_20180422.cnt.\n",
            "INFO:root:Processed trial 1 of 7_3_20180422.cnt.\n",
            "INFO:root:Processed trial 2 of 7_3_20180422.cnt.\n",
            "INFO:root:Processed trial 3 of 7_3_20180422.cnt.\n",
            "INFO:root:Processed trial 4 of 7_3_20180422.cnt.\n",
            "INFO:root:Processed trial 5 of 7_3_20180422.cnt.\n",
            "INFO:root:Processed trial 6 of 7_3_20180422.cnt.\n",
            "INFO:root:Processed trial 7 of 7_3_20180422.cnt.\n",
            "INFO:root:Processed trial 8 of 7_3_20180422.cnt.\n",
            "INFO:root:Processed trial 9 of 7_3_20180422.cnt.\n",
            "INFO:root:Processed trial 10 of 7_3_20180422.cnt.\n",
            "INFO:root:Processed trial 11 of 7_3_20180422.cnt.\n",
            "INFO:root:Processed trial 12 of 7_3_20180422.cnt.\n",
            "INFO:root:Processed trial 13 of 7_3_20180422.cnt.\n",
            "INFO:root:Processed trial 14 of 7_3_20180422.cnt.\n",
            "INFO:root:Processed trial 15 of 7_3_20180422.cnt.\n",
            "INFO:root:Successfully processed 7_3_20180422.cnt.\n",
            "<ipython-input-5-659b640090c8>:153: RuntimeWarning:   Could not parse meas date from the header. Setting to None.\n",
            "  raw = mne.io.read_raw_cnt(\n",
            "INFO:root:Successfully loaded 8_1_20180717.cnt with date_format='mm/dd/yy'.\n",
            "INFO:root:Set meas_date for 8_1_20180717.cnt to 2018-07-17 00:00:00+00:00 (UTC).\n",
            "INFO:root:Dropped channels ['M1', 'M2', 'VEO', 'HEO'] from 8_1_20180717.cnt.\n",
            "INFO:root:Reordered channels for 8_1_20180717.cnt.\n",
            "INFO:root:Filtering raw data for 8_1_20180717.cnt: Band-pass 0.1 - 75 Hz, Notch 50 Hz\n"
          ]
        },
        {
          "output_type": "stream",
          "name": "stdout",
          "text": [
            "Filtering raw data in 1 contiguous segment\n",
            "Setting up band-pass filter from 0.1 - 75 Hz\n",
            "\n",
            "FIR filter parameters\n",
            "---------------------\n",
            "Designing a one-pass, zero-phase, non-causal bandpass filter:\n",
            "- Windowed time-domain design (firwin) method\n",
            "- Hamming window with 0.0194 passband ripple and 53 dB stopband attenuation\n",
            "- Lower passband edge: 0.10\n",
            "- Lower transition bandwidth: 0.10 Hz (-6 dB cutoff frequency: 0.05 Hz)\n",
            "- Upper passband edge: 75.00 Hz\n",
            "- Upper transition bandwidth: 18.75 Hz (-6 dB cutoff frequency: 84.38 Hz)\n",
            "- Filter length: 33001 samples (33.001 s)\n",
            "\n"
          ]
        },
        {
          "output_type": "stream",
          "name": "stderr",
          "text": [
            "[Parallel(n_jobs=1)]: Done  17 tasks      | elapsed:    1.5s\n"
          ]
        },
        {
          "output_type": "stream",
          "name": "stdout",
          "text": [
            "Filtering raw data in 1 contiguous segment\n",
            "Setting up band-stop filter from 49 - 51 Hz\n",
            "\n",
            "FIR filter parameters\n",
            "---------------------\n",
            "Designing a one-pass, zero-phase, non-causal bandstop filter:\n",
            "- Windowed time-domain design (firwin) method\n",
            "- Hamming window with 0.0194 passband ripple and 53 dB stopband attenuation\n",
            "- Lower passband edge: 49.38\n",
            "- Lower transition bandwidth: 0.50 Hz (-6 dB cutoff frequency: 49.12 Hz)\n",
            "- Upper passband edge: 50.62 Hz\n",
            "- Upper transition bandwidth: 0.50 Hz (-6 dB cutoff frequency: 50.88 Hz)\n",
            "- Filter length: 6601 samples (6.601 s)\n",
            "\n"
          ]
        },
        {
          "output_type": "stream",
          "name": "stderr",
          "text": [
            "[Parallel(n_jobs=1)]: Done  17 tasks      | elapsed:    1.2s\n",
            "INFO:root:Filtered and resampled data for 8_1_20180717.cnt.\n",
            "INFO:root:Processed trial 1 of 8_1_20180717.cnt.\n",
            "INFO:root:Processed trial 2 of 8_1_20180717.cnt.\n",
            "INFO:root:Processed trial 3 of 8_1_20180717.cnt.\n",
            "INFO:root:Processed trial 4 of 8_1_20180717.cnt.\n",
            "INFO:root:Processed trial 5 of 8_1_20180717.cnt.\n",
            "INFO:root:Processed trial 6 of 8_1_20180717.cnt.\n",
            "INFO:root:Processed trial 7 of 8_1_20180717.cnt.\n",
            "INFO:root:Processed trial 8 of 8_1_20180717.cnt.\n",
            "INFO:root:Processed trial 9 of 8_1_20180717.cnt.\n",
            "INFO:root:Processed trial 10 of 8_1_20180717.cnt.\n",
            "INFO:root:Processed trial 11 of 8_1_20180717.cnt.\n",
            "INFO:root:Processed trial 12 of 8_1_20180717.cnt.\n",
            "INFO:root:Processed trial 13 of 8_1_20180717.cnt.\n",
            "INFO:root:Processed trial 14 of 8_1_20180717.cnt.\n",
            "INFO:root:Processed trial 15 of 8_1_20180717.cnt.\n",
            "INFO:root:Successfully processed 8_1_20180717.cnt.\n",
            "INFO:root:Successfully loaded 8_2_20180802.cnt with date_format='mm/dd/yy'.\n",
            "INFO:root:Dropped channels ['M1', 'M2', 'VEO', 'HEO'] from 8_2_20180802.cnt.\n",
            "INFO:root:Reordered channels for 8_2_20180802.cnt.\n",
            "INFO:root:Filtering raw data for 8_2_20180802.cnt: Band-pass 0.1 - 75 Hz, Notch 50 Hz\n"
          ]
        },
        {
          "output_type": "stream",
          "name": "stdout",
          "text": [
            "Filtering raw data in 1 contiguous segment\n",
            "Setting up band-pass filter from 0.1 - 75 Hz\n",
            "\n",
            "FIR filter parameters\n",
            "---------------------\n",
            "Designing a one-pass, zero-phase, non-causal bandpass filter:\n",
            "- Windowed time-domain design (firwin) method\n",
            "- Hamming window with 0.0194 passband ripple and 53 dB stopband attenuation\n",
            "- Lower passband edge: 0.10\n",
            "- Lower transition bandwidth: 0.10 Hz (-6 dB cutoff frequency: 0.05 Hz)\n",
            "- Upper passband edge: 75.00 Hz\n",
            "- Upper transition bandwidth: 18.75 Hz (-6 dB cutoff frequency: 84.38 Hz)\n",
            "- Filter length: 33001 samples (33.001 s)\n",
            "\n"
          ]
        },
        {
          "output_type": "stream",
          "name": "stderr",
          "text": [
            "[Parallel(n_jobs=1)]: Done  17 tasks      | elapsed:    1.3s\n"
          ]
        },
        {
          "output_type": "stream",
          "name": "stdout",
          "text": [
            "Filtering raw data in 1 contiguous segment\n",
            "Setting up band-stop filter from 49 - 51 Hz\n",
            "\n",
            "FIR filter parameters\n",
            "---------------------\n",
            "Designing a one-pass, zero-phase, non-causal bandstop filter:\n",
            "- Windowed time-domain design (firwin) method\n",
            "- Hamming window with 0.0194 passband ripple and 53 dB stopband attenuation\n",
            "- Lower passband edge: 49.38\n",
            "- Lower transition bandwidth: 0.50 Hz (-6 dB cutoff frequency: 49.12 Hz)\n",
            "- Upper passband edge: 50.62 Hz\n",
            "- Upper transition bandwidth: 0.50 Hz (-6 dB cutoff frequency: 50.88 Hz)\n",
            "- Filter length: 6601 samples (6.601 s)\n",
            "\n"
          ]
        },
        {
          "output_type": "stream",
          "name": "stderr",
          "text": [
            "[Parallel(n_jobs=1)]: Done  17 tasks      | elapsed:    1.0s\n",
            "INFO:root:Filtered and resampled data for 8_2_20180802.cnt.\n",
            "INFO:root:Processed trial 1 of 8_2_20180802.cnt.\n",
            "INFO:root:Processed trial 2 of 8_2_20180802.cnt.\n",
            "INFO:root:Processed trial 3 of 8_2_20180802.cnt.\n",
            "INFO:root:Processed trial 4 of 8_2_20180802.cnt.\n",
            "INFO:root:Processed trial 5 of 8_2_20180802.cnt.\n",
            "INFO:root:Processed trial 6 of 8_2_20180802.cnt.\n",
            "INFO:root:Processed trial 7 of 8_2_20180802.cnt.\n",
            "INFO:root:Processed trial 8 of 8_2_20180802.cnt.\n",
            "INFO:root:Processed trial 9 of 8_2_20180802.cnt.\n",
            "INFO:root:Processed trial 10 of 8_2_20180802.cnt.\n",
            "INFO:root:Processed trial 11 of 8_2_20180802.cnt.\n",
            "INFO:root:Processed trial 12 of 8_2_20180802.cnt.\n",
            "INFO:root:Processed trial 13 of 8_2_20180802.cnt.\n",
            "INFO:root:Processed trial 14 of 8_2_20180802.cnt.\n",
            "INFO:root:Processed trial 15 of 8_2_20180802.cnt.\n",
            "INFO:root:Successfully processed 8_2_20180802.cnt.\n",
            "<ipython-input-5-659b640090c8>:153: RuntimeWarning:   Could not parse meas date from the header. Setting to None.\n",
            "  raw = mne.io.read_raw_cnt(\n",
            "INFO:root:Successfully loaded 8_3_20180726.cnt with date_format='mm/dd/yy'.\n",
            "INFO:root:Set meas_date for 8_3_20180726.cnt to 2018-07-26 00:00:00+00:00 (UTC).\n",
            "INFO:root:Dropped channels ['M1', 'M2', 'VEO', 'HEO'] from 8_3_20180726.cnt.\n",
            "INFO:root:Reordered channels for 8_3_20180726.cnt.\n",
            "INFO:root:Filtering raw data for 8_3_20180726.cnt: Band-pass 0.1 - 75 Hz, Notch 50 Hz\n"
          ]
        },
        {
          "output_type": "stream",
          "name": "stdout",
          "text": [
            "Filtering raw data in 1 contiguous segment\n",
            "Setting up band-pass filter from 0.1 - 75 Hz\n",
            "\n",
            "FIR filter parameters\n",
            "---------------------\n",
            "Designing a one-pass, zero-phase, non-causal bandpass filter:\n",
            "- Windowed time-domain design (firwin) method\n",
            "- Hamming window with 0.0194 passband ripple and 53 dB stopband attenuation\n",
            "- Lower passband edge: 0.10\n",
            "- Lower transition bandwidth: 0.10 Hz (-6 dB cutoff frequency: 0.05 Hz)\n",
            "- Upper passband edge: 75.00 Hz\n",
            "- Upper transition bandwidth: 18.75 Hz (-6 dB cutoff frequency: 84.38 Hz)\n",
            "- Filter length: 33001 samples (33.001 s)\n",
            "\n"
          ]
        },
        {
          "output_type": "stream",
          "name": "stderr",
          "text": [
            "[Parallel(n_jobs=1)]: Done  17 tasks      | elapsed:    1.4s\n"
          ]
        },
        {
          "output_type": "stream",
          "name": "stdout",
          "text": [
            "Filtering raw data in 1 contiguous segment\n",
            "Setting up band-stop filter from 49 - 51 Hz\n",
            "\n",
            "FIR filter parameters\n",
            "---------------------\n",
            "Designing a one-pass, zero-phase, non-causal bandstop filter:\n",
            "- Windowed time-domain design (firwin) method\n",
            "- Hamming window with 0.0194 passband ripple and 53 dB stopband attenuation\n",
            "- Lower passband edge: 49.38\n",
            "- Lower transition bandwidth: 0.50 Hz (-6 dB cutoff frequency: 49.12 Hz)\n",
            "- Upper passband edge: 50.62 Hz\n",
            "- Upper transition bandwidth: 0.50 Hz (-6 dB cutoff frequency: 50.88 Hz)\n",
            "- Filter length: 6601 samples (6.601 s)\n",
            "\n"
          ]
        },
        {
          "output_type": "stream",
          "name": "stderr",
          "text": [
            "[Parallel(n_jobs=1)]: Done  17 tasks      | elapsed:    1.0s\n",
            "INFO:root:Filtered and resampled data for 8_3_20180726.cnt.\n",
            "INFO:root:Processed trial 1 of 8_3_20180726.cnt.\n",
            "INFO:root:Processed trial 2 of 8_3_20180726.cnt.\n",
            "INFO:root:Processed trial 3 of 8_3_20180726.cnt.\n",
            "INFO:root:Processed trial 4 of 8_3_20180726.cnt.\n",
            "INFO:root:Processed trial 5 of 8_3_20180726.cnt.\n",
            "INFO:root:Processed trial 6 of 8_3_20180726.cnt.\n",
            "INFO:root:Processed trial 7 of 8_3_20180726.cnt.\n",
            "INFO:root:Processed trial 8 of 8_3_20180726.cnt.\n",
            "INFO:root:Processed trial 9 of 8_3_20180726.cnt.\n",
            "INFO:root:Processed trial 10 of 8_3_20180726.cnt.\n",
            "INFO:root:Processed trial 11 of 8_3_20180726.cnt.\n",
            "INFO:root:Processed trial 12 of 8_3_20180726.cnt.\n",
            "INFO:root:Processed trial 13 of 8_3_20180726.cnt.\n",
            "INFO:root:Processed trial 14 of 8_3_20180726.cnt.\n",
            "INFO:root:Processed trial 15 of 8_3_20180726.cnt.\n",
            "INFO:root:Successfully processed 8_3_20180726.cnt.\n",
            "<ipython-input-5-659b640090c8>:153: RuntimeWarning:   Could not parse meas date from the header. Setting to None.\n",
            "  raw = mne.io.read_raw_cnt(\n",
            "INFO:root:Successfully loaded 9_1_20180724.cnt with date_format='mm/dd/yy'.\n",
            "INFO:root:Set meas_date for 9_1_20180724.cnt to 2018-07-24 00:00:00+00:00 (UTC).\n",
            "INFO:root:Dropped channels ['M1', 'M2', 'VEO', 'HEO'] from 9_1_20180724.cnt.\n",
            "INFO:root:Reordered channels for 9_1_20180724.cnt.\n",
            "INFO:root:Filtering raw data for 9_1_20180724.cnt: Band-pass 0.1 - 75 Hz, Notch 50 Hz\n"
          ]
        },
        {
          "output_type": "stream",
          "name": "stdout",
          "text": [
            "Filtering raw data in 1 contiguous segment\n",
            "Setting up band-pass filter from 0.1 - 75 Hz\n",
            "\n",
            "FIR filter parameters\n",
            "---------------------\n",
            "Designing a one-pass, zero-phase, non-causal bandpass filter:\n",
            "- Windowed time-domain design (firwin) method\n",
            "- Hamming window with 0.0194 passband ripple and 53 dB stopband attenuation\n",
            "- Lower passband edge: 0.10\n",
            "- Lower transition bandwidth: 0.10 Hz (-6 dB cutoff frequency: 0.05 Hz)\n",
            "- Upper passband edge: 75.00 Hz\n",
            "- Upper transition bandwidth: 18.75 Hz (-6 dB cutoff frequency: 84.38 Hz)\n",
            "- Filter length: 33001 samples (33.001 s)\n",
            "\n"
          ]
        },
        {
          "output_type": "stream",
          "name": "stderr",
          "text": [
            "[Parallel(n_jobs=1)]: Done  17 tasks      | elapsed:    1.5s\n"
          ]
        },
        {
          "output_type": "stream",
          "name": "stdout",
          "text": [
            "Filtering raw data in 1 contiguous segment\n",
            "Setting up band-stop filter from 49 - 51 Hz\n",
            "\n",
            "FIR filter parameters\n",
            "---------------------\n",
            "Designing a one-pass, zero-phase, non-causal bandstop filter:\n",
            "- Windowed time-domain design (firwin) method\n",
            "- Hamming window with 0.0194 passband ripple and 53 dB stopband attenuation\n",
            "- Lower passband edge: 49.38\n",
            "- Lower transition bandwidth: 0.50 Hz (-6 dB cutoff frequency: 49.12 Hz)\n",
            "- Upper passband edge: 50.62 Hz\n",
            "- Upper transition bandwidth: 0.50 Hz (-6 dB cutoff frequency: 50.88 Hz)\n",
            "- Filter length: 6601 samples (6.601 s)\n",
            "\n"
          ]
        },
        {
          "output_type": "stream",
          "name": "stderr",
          "text": [
            "[Parallel(n_jobs=1)]: Done  17 tasks      | elapsed:    1.1s\n",
            "INFO:root:Filtered and resampled data for 9_1_20180724.cnt.\n",
            "INFO:root:Processed trial 1 of 9_1_20180724.cnt.\n",
            "INFO:root:Processed trial 2 of 9_1_20180724.cnt.\n",
            "INFO:root:Processed trial 3 of 9_1_20180724.cnt.\n",
            "INFO:root:Processed trial 4 of 9_1_20180724.cnt.\n",
            "INFO:root:Processed trial 5 of 9_1_20180724.cnt.\n",
            "INFO:root:Processed trial 6 of 9_1_20180724.cnt.\n",
            "INFO:root:Processed trial 7 of 9_1_20180724.cnt.\n",
            "INFO:root:Processed trial 8 of 9_1_20180724.cnt.\n",
            "INFO:root:Processed trial 9 of 9_1_20180724.cnt.\n",
            "INFO:root:Processed trial 10 of 9_1_20180724.cnt.\n",
            "INFO:root:Processed trial 11 of 9_1_20180724.cnt.\n",
            "INFO:root:Processed trial 12 of 9_1_20180724.cnt.\n",
            "INFO:root:Processed trial 13 of 9_1_20180724.cnt.\n",
            "INFO:root:Processed trial 14 of 9_1_20180724.cnt.\n",
            "INFO:root:Processed trial 15 of 9_1_20180724.cnt.\n",
            "INFO:root:Successfully processed 9_1_20180724.cnt.\n",
            "INFO:root:Successfully loaded 9_2_20180804.cnt with date_format='mm/dd/yy'.\n",
            "INFO:root:Dropped channels ['M1', 'M2', 'VEO', 'HEO'] from 9_2_20180804.cnt.\n",
            "INFO:root:Reordered channels for 9_2_20180804.cnt.\n",
            "INFO:root:Filtering raw data for 9_2_20180804.cnt: Band-pass 0.1 - 75 Hz, Notch 50 Hz\n"
          ]
        },
        {
          "output_type": "stream",
          "name": "stdout",
          "text": [
            "Filtering raw data in 1 contiguous segment\n",
            "Setting up band-pass filter from 0.1 - 75 Hz\n",
            "\n",
            "FIR filter parameters\n",
            "---------------------\n",
            "Designing a one-pass, zero-phase, non-causal bandpass filter:\n",
            "- Windowed time-domain design (firwin) method\n",
            "- Hamming window with 0.0194 passband ripple and 53 dB stopband attenuation\n",
            "- Lower passband edge: 0.10\n",
            "- Lower transition bandwidth: 0.10 Hz (-6 dB cutoff frequency: 0.05 Hz)\n",
            "- Upper passband edge: 75.00 Hz\n",
            "- Upper transition bandwidth: 18.75 Hz (-6 dB cutoff frequency: 84.38 Hz)\n",
            "- Filter length: 33001 samples (33.001 s)\n",
            "\n"
          ]
        },
        {
          "output_type": "stream",
          "name": "stderr",
          "text": [
            "[Parallel(n_jobs=1)]: Done  17 tasks      | elapsed:    1.3s\n"
          ]
        },
        {
          "output_type": "stream",
          "name": "stdout",
          "text": [
            "Filtering raw data in 1 contiguous segment\n",
            "Setting up band-stop filter from 49 - 51 Hz\n",
            "\n",
            "FIR filter parameters\n",
            "---------------------\n",
            "Designing a one-pass, zero-phase, non-causal bandstop filter:\n",
            "- Windowed time-domain design (firwin) method\n",
            "- Hamming window with 0.0194 passband ripple and 53 dB stopband attenuation\n",
            "- Lower passband edge: 49.38\n",
            "- Lower transition bandwidth: 0.50 Hz (-6 dB cutoff frequency: 49.12 Hz)\n",
            "- Upper passband edge: 50.62 Hz\n",
            "- Upper transition bandwidth: 0.50 Hz (-6 dB cutoff frequency: 50.88 Hz)\n",
            "- Filter length: 6601 samples (6.601 s)\n",
            "\n"
          ]
        },
        {
          "output_type": "stream",
          "name": "stderr",
          "text": [
            "[Parallel(n_jobs=1)]: Done  17 tasks      | elapsed:    1.0s\n",
            "INFO:root:Filtered and resampled data for 9_2_20180804.cnt.\n",
            "INFO:root:Processed trial 1 of 9_2_20180804.cnt.\n",
            "INFO:root:Processed trial 2 of 9_2_20180804.cnt.\n",
            "INFO:root:Processed trial 3 of 9_2_20180804.cnt.\n",
            "INFO:root:Processed trial 4 of 9_2_20180804.cnt.\n",
            "INFO:root:Processed trial 5 of 9_2_20180804.cnt.\n",
            "INFO:root:Processed trial 6 of 9_2_20180804.cnt.\n",
            "INFO:root:Processed trial 7 of 9_2_20180804.cnt.\n",
            "INFO:root:Processed trial 8 of 9_2_20180804.cnt.\n",
            "INFO:root:Processed trial 9 of 9_2_20180804.cnt.\n",
            "INFO:root:Processed trial 10 of 9_2_20180804.cnt.\n",
            "INFO:root:Processed trial 11 of 9_2_20180804.cnt.\n",
            "INFO:root:Processed trial 12 of 9_2_20180804.cnt.\n",
            "INFO:root:Processed trial 13 of 9_2_20180804.cnt.\n",
            "INFO:root:Processed trial 14 of 9_2_20180804.cnt.\n",
            "INFO:root:Processed trial 15 of 9_2_20180804.cnt.\n",
            "INFO:root:Successfully processed 9_2_20180804.cnt.\n",
            "<ipython-input-5-659b640090c8>:153: RuntimeWarning:   Could not parse meas date from the header. Setting to None.\n",
            "  raw = mne.io.read_raw_cnt(\n",
            "INFO:root:Successfully loaded 9_3_20180728.cnt with date_format='mm/dd/yy'.\n",
            "INFO:root:Set meas_date for 9_3_20180728.cnt to 2018-07-28 00:00:00+00:00 (UTC).\n",
            "INFO:root:Dropped channels ['M1', 'M2', 'VEO', 'HEO'] from 9_3_20180728.cnt.\n",
            "INFO:root:Reordered channels for 9_3_20180728.cnt.\n",
            "INFO:root:Filtering raw data for 9_3_20180728.cnt: Band-pass 0.1 - 75 Hz, Notch 50 Hz\n"
          ]
        },
        {
          "output_type": "stream",
          "name": "stdout",
          "text": [
            "Filtering raw data in 1 contiguous segment\n",
            "Setting up band-pass filter from 0.1 - 75 Hz\n",
            "\n",
            "FIR filter parameters\n",
            "---------------------\n",
            "Designing a one-pass, zero-phase, non-causal bandpass filter:\n",
            "- Windowed time-domain design (firwin) method\n",
            "- Hamming window with 0.0194 passband ripple and 53 dB stopband attenuation\n",
            "- Lower passband edge: 0.10\n",
            "- Lower transition bandwidth: 0.10 Hz (-6 dB cutoff frequency: 0.05 Hz)\n",
            "- Upper passband edge: 75.00 Hz\n",
            "- Upper transition bandwidth: 18.75 Hz (-6 dB cutoff frequency: 84.38 Hz)\n",
            "- Filter length: 33001 samples (33.001 s)\n",
            "\n"
          ]
        },
        {
          "output_type": "stream",
          "name": "stderr",
          "text": [
            "[Parallel(n_jobs=1)]: Done  17 tasks      | elapsed:    1.4s\n"
          ]
        },
        {
          "output_type": "stream",
          "name": "stdout",
          "text": [
            "Filtering raw data in 1 contiguous segment\n",
            "Setting up band-stop filter from 49 - 51 Hz\n",
            "\n",
            "FIR filter parameters\n",
            "---------------------\n",
            "Designing a one-pass, zero-phase, non-causal bandstop filter:\n",
            "- Windowed time-domain design (firwin) method\n",
            "- Hamming window with 0.0194 passband ripple and 53 dB stopband attenuation\n",
            "- Lower passband edge: 49.38\n",
            "- Lower transition bandwidth: 0.50 Hz (-6 dB cutoff frequency: 49.12 Hz)\n",
            "- Upper passband edge: 50.62 Hz\n",
            "- Upper transition bandwidth: 0.50 Hz (-6 dB cutoff frequency: 50.88 Hz)\n",
            "- Filter length: 6601 samples (6.601 s)\n",
            "\n"
          ]
        },
        {
          "output_type": "stream",
          "name": "stderr",
          "text": [
            "[Parallel(n_jobs=1)]: Done  17 tasks      | elapsed:    1.1s\n",
            "INFO:root:Filtered and resampled data for 9_3_20180728.cnt.\n",
            "INFO:root:Processed trial 1 of 9_3_20180728.cnt.\n",
            "INFO:root:Processed trial 2 of 9_3_20180728.cnt.\n",
            "INFO:root:Processed trial 3 of 9_3_20180728.cnt.\n",
            "INFO:root:Processed trial 4 of 9_3_20180728.cnt.\n",
            "INFO:root:Processed trial 5 of 9_3_20180728.cnt.\n",
            "INFO:root:Processed trial 6 of 9_3_20180728.cnt.\n",
            "INFO:root:Processed trial 7 of 9_3_20180728.cnt.\n",
            "INFO:root:Processed trial 8 of 9_3_20180728.cnt.\n",
            "INFO:root:Processed trial 9 of 9_3_20180728.cnt.\n",
            "INFO:root:Processed trial 10 of 9_3_20180728.cnt.\n",
            "INFO:root:Processed trial 11 of 9_3_20180728.cnt.\n",
            "INFO:root:Processed trial 12 of 9_3_20180728.cnt.\n",
            "INFO:root:Processed trial 13 of 9_3_20180728.cnt.\n",
            "INFO:root:Processed trial 14 of 9_3_20180728.cnt.\n",
            "INFO:root:Processed trial 15 of 9_3_20180728.cnt.\n",
            "INFO:root:Successfully processed 9_3_20180728.cnt.\n",
            "INFO:root:以下のファイルがスキップされました：\n",
            "INFO:root:- 7_1_20180411.cnt\n",
            "INFO:root:Total skipped files: 1\n",
            "INFO:root:Total processed files: 47\n"
          ]
        },
        {
          "output_type": "stream",
          "name": "stdout",
          "text": [
            "All data processed for SEED-V with channel reordering.\n",
            "Accessing as t220g139\n",
            "Client created. Use the name of the repo \u001b[1m(\u001b[0mdagshub-drive\u001b[1m)\u001b[0m as the name of the bucket\n",
            "\u001b[2K  Uploading files... \u001b[90m━━━━━━━━━━━━━━━━━━━━━━━━━━━━━━━━━━━━━━━━\u001b[0m \u001b[35m100%\u001b[0m \u001b[36m0:00:00\u001b[0m \u001b[32m115002/115002\u001b[0m\n",
            "\u001b[?25h"
          ]
        }
      ]
    },
    {
      "cell_type": "code",
      "source": [],
      "metadata": {
        "id": "z_m5GIJkpNje"
      },
      "execution_count": null,
      "outputs": []
    }
  ]
}
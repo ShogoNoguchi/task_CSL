{
  "nbformat": 4,
  "nbformat_minor": 0,
  "metadata": {
    "colab": {
      "provenance": [],
      "machine_shape": "hm",
      "authorship_tag": "ABX9TyNld7oKw6KxWGKm+3UD3SwG",
      "include_colab_link": true
    },
    "kernelspec": {
      "name": "python3",
      "display_name": "Python 3"
    },
    "language_info": {
      "name": "python"
    },
    "widgets": {
      "application/vnd.jupyter.widget-state+json": {
        "5a6e41d94c0d4b6db0209b2b66ffd967": {
          "model_module": "@jupyter-widgets/output",
          "model_name": "OutputModel",
          "model_module_version": "1.0.0",
          "state": {
            "_dom_classes": [],
            "_model_module": "@jupyter-widgets/output",
            "_model_module_version": "1.0.0",
            "_model_name": "OutputModel",
            "_view_count": null,
            "_view_module": "@jupyter-widgets/output",
            "_view_module_version": "1.0.0",
            "_view_name": "OutputView",
            "layout": "IPY_MODEL_b7ef68756ced42639a8aca0ebdb7c4fc",
            "msg_id": "",
            "outputs": [
              {
                "output_type": "display_data",
                "data": {
                  "text/plain": "\u001b[32m⠏\u001b[0m Waiting for authorization\n",
                  "text/html": "<pre style=\"white-space:pre;overflow-x:auto;line-height:normal;font-family:Menlo,'DejaVu Sans Mono',consolas,'Courier New',monospace\"><span style=\"color: #008000; text-decoration-color: #008000\">⠏</span> Waiting for authorization\n</pre>\n"
                },
                "metadata": {}
              }
            ]
          }
        },
        "b7ef68756ced42639a8aca0ebdb7c4fc": {
          "model_module": "@jupyter-widgets/base",
          "model_name": "LayoutModel",
          "model_module_version": "1.2.0",
          "state": {
            "_model_module": "@jupyter-widgets/base",
            "_model_module_version": "1.2.0",
            "_model_name": "LayoutModel",
            "_view_count": null,
            "_view_module": "@jupyter-widgets/base",
            "_view_module_version": "1.2.0",
            "_view_name": "LayoutView",
            "align_content": null,
            "align_items": null,
            "align_self": null,
            "border": null,
            "bottom": null,
            "display": null,
            "flex": null,
            "flex_flow": null,
            "grid_area": null,
            "grid_auto_columns": null,
            "grid_auto_flow": null,
            "grid_auto_rows": null,
            "grid_column": null,
            "grid_gap": null,
            "grid_row": null,
            "grid_template_areas": null,
            "grid_template_columns": null,
            "grid_template_rows": null,
            "height": null,
            "justify_content": null,
            "justify_items": null,
            "left": null,
            "margin": null,
            "max_height": null,
            "max_width": null,
            "min_height": null,
            "min_width": null,
            "object_fit": null,
            "object_position": null,
            "order": null,
            "overflow": null,
            "overflow_x": null,
            "overflow_y": null,
            "padding": null,
            "right": null,
            "top": null,
            "visibility": null,
            "width": null
          }
        }
      }
    }
  },
  "cells": [
    {
      "cell_type": "markdown",
      "metadata": {
        "id": "view-in-github",
        "colab_type": "text"
      },
      "source": [
        "<a href=\"https://colab.research.google.com/github/ShogoNoguchi/task_CSL/blob/main/make_7_1_20180411_cnt.ipynb\" target=\"_parent\"><img src=\"https://colab.research.google.com/assets/colab-badge.svg\" alt=\"Open In Colab\"/></a>"
      ]
    },
    {
      "cell_type": "markdown",
      "source": [
        "7_1_20180411.cntだけ処理ができませんでしたので、これのみ試行します。"
      ],
      "metadata": {
        "id": "k-WeSo6ce8bC"
      }
    },
    {
      "cell_type": "code",
      "execution_count": 1,
      "metadata": {
        "colab": {
          "base_uri": "https://localhost:8080/"
        },
        "id": "KEnCSef2MAid",
        "outputId": "a74991ef-78a6-495c-dcc8-860e9b3c993c"
      },
      "outputs": [
        {
          "output_type": "stream",
          "name": "stdout",
          "text": [
            "\u001b[2K   \u001b[90m━━━━━━━━━━━━━━━━━━━━━━━━━━━━━━━━━━━━━━━━\u001b[0m \u001b[32m252.2/252.2 kB\u001b[0m \u001b[31m10.5 MB/s\u001b[0m eta \u001b[36m0:00:00\u001b[0m\n",
            "\u001b[2K   \u001b[90m━━━━━━━━━━━━━━━━━━━━━━━━━━━━━━━━━━━━━━━━\u001b[0m \u001b[32m139.2/139.2 kB\u001b[0m \u001b[31m7.8 MB/s\u001b[0m eta \u001b[36m0:00:00\u001b[0m\n",
            "\u001b[2K   \u001b[90m━━━━━━━━━━━━━━━━━━━━━━━━━━━━━━━━━━━━━━━━\u001b[0m \u001b[32m13.2/13.2 MB\u001b[0m \u001b[31m92.1 MB/s\u001b[0m eta \u001b[36m0:00:00\u001b[0m\n",
            "\u001b[2K   \u001b[90m━━━━━━━━━━━━━━━━━━━━━━━━━━━━━━━━━━━━━━━━\u001b[0m \u001b[32m203.2/203.2 kB\u001b[0m \u001b[31m13.4 MB/s\u001b[0m eta \u001b[36m0:00:00\u001b[0m\n",
            "\u001b[2K   \u001b[90m━━━━━━━━━━━━━━━━━━━━━━━━━━━━━━━━━━━━━━━━\u001b[0m \u001b[32m49.5/49.5 kB\u001b[0m \u001b[31m3.1 MB/s\u001b[0m eta \u001b[36m0:00:00\u001b[0m\n",
            "\u001b[2K   \u001b[90m━━━━━━━━━━━━━━━━━━━━━━━━━━━━━━━━━━━━━━━━\u001b[0m \u001b[32m83.2/83.2 kB\u001b[0m \u001b[31m5.1 MB/s\u001b[0m eta \u001b[36m0:00:00\u001b[0m\n",
            "\u001b[2K   \u001b[90m━━━━━━━━━━━━━━━━━━━━━━━━━━━━━━━━━━━━━━━━\u001b[0m \u001b[32m74.0/74.0 kB\u001b[0m \u001b[31m4.6 MB/s\u001b[0m eta \u001b[36m0:00:00\u001b[0m\n",
            "\u001b[?25h"
          ]
        }
      ],
      "source": [
        "# DagsHubとboto3のインストール\n",
        "%pip install -q dagshub\n"
      ]
    },
    {
      "cell_type": "code",
      "source": [
        "import dagshub.colab\n",
        "DAGSHUB_REPO = dagshub.colab.login()"
      ],
      "metadata": {
        "colab": {
          "base_uri": "https://localhost:8080/",
          "height": 216,
          "referenced_widgets": [
            "5a6e41d94c0d4b6db0209b2b66ffd967",
            "b7ef68756ced42639a8aca0ebdb7c4fc"
          ]
        },
        "id": "O201b7VNMIR1",
        "outputId": "49df9809-0572-49e3-a1f7-f344b4b5a165"
      },
      "execution_count": 3,
      "outputs": [
        {
          "output_type": "display_data",
          "data": {
            "text/plain": [
              "                                       \u001b[1m❗❗❗ AUTHORIZATION REQUIRED ❗❗❗\u001b[0m                                        \n"
            ],
            "text/html": [
              "<pre style=\"white-space:pre;overflow-x:auto;line-height:normal;font-family:Menlo,'DejaVu Sans Mono',consolas,'Courier New',monospace\">                                       <span style=\"font-weight: bold\">❗❗❗ AUTHORIZATION REQUIRED ❗❗❗</span>                                        \n",
              "</pre>\n"
            ]
          },
          "metadata": {}
        },
        {
          "output_type": "display_data",
          "data": {
            "text/plain": [
              "Output()"
            ],
            "application/vnd.jupyter.widget-view+json": {
              "version_major": 2,
              "version_minor": 0,
              "model_id": "5a6e41d94c0d4b6db0209b2b66ffd967"
            }
          },
          "metadata": {}
        },
        {
          "output_type": "stream",
          "name": "stdout",
          "text": [
            "\n",
            "\n",
            "Open the following link in your browser to authorize the client:\n",
            "https://dagshub.com/login/oauth/authorize?state=68a58f79-188e-4394-ae26-ee88952e7a55&client_id=32b60ba385aa7cecf24046d8195a71c07dd345d9657977863b52e7748e0f0f28&middleman_request_id=948cc21f9eeabd9eea4e051a540a318726854bb30ae2ea633b366dc4da247e18&referrer=colab\n",
            "\n",
            "\n"
          ]
        },
        {
          "output_type": "display_data",
          "data": {
            "text/plain": [],
            "text/html": [
              "<pre style=\"white-space:pre;overflow-x:auto;line-height:normal;font-family:Menlo,'DejaVu Sans Mono',consolas,'Courier New',monospace\"></pre>\n"
            ]
          },
          "metadata": {}
        },
        {
          "output_type": "display_data",
          "data": {
            "text/plain": [
              "Accessing as t220g139\n"
            ],
            "text/html": [
              "<pre style=\"white-space:pre;overflow-x:auto;line-height:normal;font-family:Menlo,'DejaVu Sans Mono',consolas,'Courier New',monospace\">Accessing as t220g139\n",
              "</pre>\n"
            ]
          },
          "metadata": {}
        },
        {
          "output_type": "stream",
          "name": "stdout",
          "text": [
            "Repository t220g139/dagshub-drive is ready for use with Colab. Link to the repository:\n",
            "https://dagshub.com/t220g139/dagshub-drive\n"
          ]
        }
      ]
    },
    {
      "cell_type": "code",
      "source": [
        "mount_path = dagshub.storage.mount(DAGSHUB_REPO)"
      ],
      "metadata": {
        "colab": {
          "base_uri": "https://localhost:8080/",
          "height": 149
        },
        "id": "O22rua6HMJ0n",
        "outputId": "7f90f315-b91c-4b2f-ad39-53ec3a64f6a2"
      },
      "execution_count": 4,
      "outputs": [
        {
          "name": "stdout",
          "output_type": "stream",
          "text": [
            "Do you want to install all missing packages?\n",
            "Are you sure [y/(N)]: y\n"
          ]
        },
        {
          "output_type": "display_data",
          "data": {
            "text/plain": [
              "Installing rclone\u001b[33m...\u001b[0m\n"
            ],
            "text/html": [
              "<pre style=\"white-space:pre;overflow-x:auto;line-height:normal;font-family:Menlo,'DejaVu Sans Mono',consolas,'Courier New',monospace\">Installing rclone<span style=\"color: #808000; text-decoration-color: #808000\">...</span>\n",
              "</pre>\n"
            ]
          },
          "metadata": {}
        },
        {
          "output_type": "display_data",
          "data": {
            "text/plain": [
              "rclone installed successfully.\n"
            ],
            "text/html": [
              "<pre style=\"white-space:pre;overflow-x:auto;line-height:normal;font-family:Menlo,'DejaVu Sans Mono',consolas,'Courier New',monospace\">rclone installed successfully.\n",
              "</pre>\n"
            ]
          },
          "metadata": {}
        },
        {
          "output_type": "display_data",
          "data": {
            "text/plain": [
              "Installing fusermount3\u001b[33m...\u001b[0m\n"
            ],
            "text/html": [
              "<pre style=\"white-space:pre;overflow-x:auto;line-height:normal;font-family:Menlo,'DejaVu Sans Mono',consolas,'Courier New',monospace\">Installing fusermount3<span style=\"color: #808000; text-decoration-color: #808000\">...</span>\n",
              "</pre>\n"
            ]
          },
          "metadata": {}
        },
        {
          "output_type": "display_data",
          "data": {
            "text/plain": [
              "fusermount3 installed successfully.\n"
            ],
            "text/html": [
              "<pre style=\"white-space:pre;overflow-x:auto;line-height:normal;font-family:Menlo,'DejaVu Sans Mono',consolas,'Courier New',monospace\">fusermount3 installed successfully.\n",
              "</pre>\n"
            ]
          },
          "metadata": {}
        },
        {
          "output_type": "display_data",
          "data": {
            "text/plain": [
              "Successfully mounted DagsHub Storage in \u001b[32m'dagshub-drive'\u001b[0m to \u001b[32m'dagshub-drive/dagshub_storage'\u001b[0m.\n"
            ],
            "text/html": [
              "<pre style=\"white-space:pre;overflow-x:auto;line-height:normal;font-family:Menlo,'DejaVu Sans Mono',consolas,'Courier New',monospace\">Successfully mounted DagsHub Storage in <span style=\"color: #008000; text-decoration-color: #008000\">'dagshub-drive'</span> to <span style=\"color: #008000; text-decoration-color: #008000\">'dagshub-drive/dagshub_storage'</span>.\n",
              "</pre>\n"
            ]
          },
          "metadata": {}
        },
        {
          "output_type": "display_data",
          "data": {
            "text/plain": [
              "To unmount, run `\u001b[1;35mdagshub.storage.unmount\u001b[0m\u001b[1m(\u001b[0m\u001b[33mrepo\u001b[0m=\u001b[32m\"t220g139\u001b[0m\u001b[32m/dagshub-drive\"\u001b[0m, \u001b[33mpath\u001b[0m=\u001b[32m\"dagshub\u001b[0m\u001b[32m-drive/dagshub_storage\"\u001b[0m\u001b[1m)\u001b[0m`.\n"
            ],
            "text/html": [
              "<pre style=\"white-space:pre;overflow-x:auto;line-height:normal;font-family:Menlo,'DejaVu Sans Mono',consolas,'Courier New',monospace\">To unmount, run `<span style=\"color: #800080; text-decoration-color: #800080; font-weight: bold\">dagshub.storage.unmount</span><span style=\"font-weight: bold\">(</span><span style=\"color: #808000; text-decoration-color: #808000\">repo</span>=<span style=\"color: #008000; text-decoration-color: #008000\">\"t220g139/dagshub-drive\"</span>, <span style=\"color: #808000; text-decoration-color: #808000\">path</span>=<span style=\"color: #008000; text-decoration-color: #008000\">\"dagshub-drive/dagshub_storage\"</span><span style=\"font-weight: bold\">)</span>`.\n",
              "</pre>\n"
            ]
          },
          "metadata": {}
        }
      ]
    },
    {
      "cell_type": "code",
      "source": [
        "!pip install mne"
      ],
      "metadata": {
        "colab": {
          "base_uri": "https://localhost:8080/"
        },
        "id": "SJl_TrD8UsSe",
        "outputId": "4010aa81-67c7-4ec5-a82e-5222420b6dd2"
      },
      "execution_count": 7,
      "outputs": [
        {
          "output_type": "stream",
          "name": "stdout",
          "text": [
            "Collecting mne\n",
            "  Downloading mne-1.8.0-py3-none-any.whl.metadata (21 kB)\n",
            "Requirement already satisfied: decorator in /usr/local/lib/python3.10/dist-packages (from mne) (4.4.2)\n",
            "Requirement already satisfied: jinja2 in /usr/local/lib/python3.10/dist-packages (from mne) (3.1.4)\n",
            "Requirement already satisfied: lazy-loader>=0.3 in /usr/local/lib/python3.10/dist-packages (from mne) (0.4)\n",
            "Requirement already satisfied: matplotlib>=3.6 in /usr/local/lib/python3.10/dist-packages (from mne) (3.8.0)\n",
            "Requirement already satisfied: numpy<3,>=1.23 in /usr/local/lib/python3.10/dist-packages (from mne) (1.26.4)\n",
            "Requirement already satisfied: packaging in /usr/local/lib/python3.10/dist-packages (from mne) (24.2)\n",
            "Requirement already satisfied: pooch>=1.5 in /usr/local/lib/python3.10/dist-packages (from mne) (1.8.2)\n",
            "Requirement already satisfied: scipy>=1.9 in /usr/local/lib/python3.10/dist-packages (from mne) (1.13.1)\n",
            "Requirement already satisfied: tqdm in /usr/local/lib/python3.10/dist-packages (from mne) (4.66.6)\n",
            "Requirement already satisfied: contourpy>=1.0.1 in /usr/local/lib/python3.10/dist-packages (from matplotlib>=3.6->mne) (1.3.1)\n",
            "Requirement already satisfied: cycler>=0.10 in /usr/local/lib/python3.10/dist-packages (from matplotlib>=3.6->mne) (0.12.1)\n",
            "Requirement already satisfied: fonttools>=4.22.0 in /usr/local/lib/python3.10/dist-packages (from matplotlib>=3.6->mne) (4.55.1)\n",
            "Requirement already satisfied: kiwisolver>=1.0.1 in /usr/local/lib/python3.10/dist-packages (from matplotlib>=3.6->mne) (1.4.7)\n",
            "Requirement already satisfied: pillow>=6.2.0 in /usr/local/lib/python3.10/dist-packages (from matplotlib>=3.6->mne) (11.0.0)\n",
            "Requirement already satisfied: pyparsing>=2.3.1 in /usr/local/lib/python3.10/dist-packages (from matplotlib>=3.6->mne) (3.2.0)\n",
            "Requirement already satisfied: python-dateutil>=2.7 in /usr/local/lib/python3.10/dist-packages (from matplotlib>=3.6->mne) (2.8.2)\n",
            "Requirement already satisfied: platformdirs>=2.5.0 in /usr/local/lib/python3.10/dist-packages (from pooch>=1.5->mne) (4.3.6)\n",
            "Requirement already satisfied: requests>=2.19.0 in /usr/local/lib/python3.10/dist-packages (from pooch>=1.5->mne) (2.32.3)\n",
            "Requirement already satisfied: MarkupSafe>=2.0 in /usr/local/lib/python3.10/dist-packages (from jinja2->mne) (3.0.2)\n",
            "Requirement already satisfied: six>=1.5 in /usr/local/lib/python3.10/dist-packages (from python-dateutil>=2.7->matplotlib>=3.6->mne) (1.16.0)\n",
            "Requirement already satisfied: charset-normalizer<4,>=2 in /usr/local/lib/python3.10/dist-packages (from requests>=2.19.0->pooch>=1.5->mne) (3.4.0)\n",
            "Requirement already satisfied: idna<4,>=2.5 in /usr/local/lib/python3.10/dist-packages (from requests>=2.19.0->pooch>=1.5->mne) (3.10)\n",
            "Requirement already satisfied: urllib3<3,>=1.21.1 in /usr/local/lib/python3.10/dist-packages (from requests>=2.19.0->pooch>=1.5->mne) (2.2.3)\n",
            "Requirement already satisfied: certifi>=2017.4.17 in /usr/local/lib/python3.10/dist-packages (from requests>=2.19.0->pooch>=1.5->mne) (2024.8.30)\n",
            "Downloading mne-1.8.0-py3-none-any.whl (7.4 MB)\n",
            "\u001b[2K   \u001b[90m━━━━━━━━━━━━━━━━━━━━━━━━━━━━━━━━━━━━━━━━\u001b[0m \u001b[32m7.4/7.4 MB\u001b[0m \u001b[31m42.7 MB/s\u001b[0m eta \u001b[36m0:00:00\u001b[0m\n",
            "\u001b[?25hInstalling collected packages: mne\n",
            "Successfully installed mne-1.8.0\n"
          ]
        }
      ]
    },
    {
      "cell_type": "code",
      "source": [
        "from google.colab import drive\n",
        "drive.mount('/content/drive')\n"
      ],
      "metadata": {
        "colab": {
          "base_uri": "https://localhost:8080/"
        },
        "id": "BDv_kLsecmy9",
        "outputId": "c40ec82a-bfbd-44b9-bc3f-437004949ffe"
      },
      "execution_count": 11,
      "outputs": [
        {
          "output_type": "stream",
          "name": "stdout",
          "text": [
            "Mounted at /content/drive\n"
          ]
        }
      ]
    },
    {
      "cell_type": "code",
      "source": [
        "# MNEのインストール（既にインストール済みの場合はスキップ）\n",
        "!pip install mne\n",
        "\n",
        "# 必要なライブラリのインポート\n",
        "import mne\n",
        "import numpy as np\n",
        "import os\n",
        "import pickle\n",
        "import logging\n",
        "from datetime import datetime, timezone\n",
        "import dagshub.colab\n",
        "from glob import glob\n"
      ],
      "metadata": {
        "colab": {
          "base_uri": "https://localhost:8080/"
        },
        "id": "hr6j-dXOSod3",
        "outputId": "9831c692-51fe-4ee9-e5d7-4f0a84a10012"
      },
      "execution_count": 12,
      "outputs": [
        {
          "output_type": "stream",
          "name": "stdout",
          "text": [
            "Requirement already satisfied: mne in /usr/local/lib/python3.10/dist-packages (1.8.0)\n",
            "Requirement already satisfied: decorator in /usr/local/lib/python3.10/dist-packages (from mne) (4.4.2)\n",
            "Requirement already satisfied: jinja2 in /usr/local/lib/python3.10/dist-packages (from mne) (3.1.4)\n",
            "Requirement already satisfied: lazy-loader>=0.3 in /usr/local/lib/python3.10/dist-packages (from mne) (0.4)\n",
            "Requirement already satisfied: matplotlib>=3.6 in /usr/local/lib/python3.10/dist-packages (from mne) (3.8.0)\n",
            "Requirement already satisfied: numpy<3,>=1.23 in /usr/local/lib/python3.10/dist-packages (from mne) (1.26.4)\n",
            "Requirement already satisfied: packaging in /usr/local/lib/python3.10/dist-packages (from mne) (24.2)\n",
            "Requirement already satisfied: pooch>=1.5 in /usr/local/lib/python3.10/dist-packages (from mne) (1.8.2)\n",
            "Requirement already satisfied: scipy>=1.9 in /usr/local/lib/python3.10/dist-packages (from mne) (1.13.1)\n",
            "Requirement already satisfied: tqdm in /usr/local/lib/python3.10/dist-packages (from mne) (4.66.6)\n",
            "Requirement already satisfied: contourpy>=1.0.1 in /usr/local/lib/python3.10/dist-packages (from matplotlib>=3.6->mne) (1.3.1)\n",
            "Requirement already satisfied: cycler>=0.10 in /usr/local/lib/python3.10/dist-packages (from matplotlib>=3.6->mne) (0.12.1)\n",
            "Requirement already satisfied: fonttools>=4.22.0 in /usr/local/lib/python3.10/dist-packages (from matplotlib>=3.6->mne) (4.55.1)\n",
            "Requirement already satisfied: kiwisolver>=1.0.1 in /usr/local/lib/python3.10/dist-packages (from matplotlib>=3.6->mne) (1.4.7)\n",
            "Requirement already satisfied: pillow>=6.2.0 in /usr/local/lib/python3.10/dist-packages (from matplotlib>=3.6->mne) (11.0.0)\n",
            "Requirement already satisfied: pyparsing>=2.3.1 in /usr/local/lib/python3.10/dist-packages (from matplotlib>=3.6->mne) (3.2.0)\n",
            "Requirement already satisfied: python-dateutil>=2.7 in /usr/local/lib/python3.10/dist-packages (from matplotlib>=3.6->mne) (2.8.2)\n",
            "Requirement already satisfied: platformdirs>=2.5.0 in /usr/local/lib/python3.10/dist-packages (from pooch>=1.5->mne) (4.3.6)\n",
            "Requirement already satisfied: requests>=2.19.0 in /usr/local/lib/python3.10/dist-packages (from pooch>=1.5->mne) (2.32.3)\n",
            "Requirement already satisfied: MarkupSafe>=2.0 in /usr/local/lib/python3.10/dist-packages (from jinja2->mne) (3.0.2)\n",
            "Requirement already satisfied: six>=1.5 in /usr/local/lib/python3.10/dist-packages (from python-dateutil>=2.7->matplotlib>=3.6->mne) (1.16.0)\n",
            "Requirement already satisfied: charset-normalizer<4,>=2 in /usr/local/lib/python3.10/dist-packages (from requests>=2.19.0->pooch>=1.5->mne) (3.4.0)\n",
            "Requirement already satisfied: idna<4,>=2.5 in /usr/local/lib/python3.10/dist-packages (from requests>=2.19.0->pooch>=1.5->mne) (3.10)\n",
            "Requirement already satisfied: urllib3<3,>=1.21.1 in /usr/local/lib/python3.10/dist-packages (from requests>=2.19.0->pooch>=1.5->mne) (2.2.3)\n",
            "Requirement already satisfied: certifi>=2017.4.17 in /usr/local/lib/python3.10/dist-packages (from requests>=2.19.0->pooch>=1.5->mne) (2024.8.30)\n"
          ]
        }
      ]
    },
    {
      "cell_type": "code",
      "source": [
        "# ディレクトリの設定\n",
        "output_dir = \"/content/processed/\"\n",
        "os.makedirs(output_dir, exist_ok=True)\n",
        "for folder in [\"processed_train\", \"processed_eval\", \"processed_test\"]:\n",
        "    folder_path = os.path.join(output_dir, folder)\n",
        "    os.makedirs(folder_path, exist_ok=True)\n",
        "\n",
        "# ログ設定\n",
        "logger = logging.getLogger('EEG_Processing_Specific_File')\n",
        "logger.setLevel(logging.INFO)\n",
        "\n",
        "# ログフォーマットの設定\n",
        "formatter = logging.Formatter('%(asctime)s - %(levelname)s - %(message)s')\n",
        "\n",
        "# ファイルハンドラの作成\n",
        "log_file_path = os.path.join(output_dir, 'processing_specific_file.log')\n",
        "file_handler = logging.FileHandler(log_file_path)\n",
        "file_handler.setLevel(logging.INFO)\n",
        "file_handler.setFormatter(formatter)\n",
        "\n",
        "# ストリームハンドラの作成（コンソール出力）\n",
        "stream_handler = logging.StreamHandler()\n",
        "stream_handler.setLevel(logging.INFO)\n",
        "stream_handler.setFormatter(formatter)\n",
        "\n",
        "# ハンドラをロガーに追加（重複追加を防ぐ）\n",
        "if not logger.handlers:\n",
        "    logger.addHandler(file_handler)\n",
        "    logger.addHandler(stream_handler)\n"
      ],
      "metadata": {
        "id": "NWvdIj96cutV"
      },
      "execution_count": 13,
      "outputs": []
    },
    {
      "cell_type": "code",
      "source": [
        "# 処理対象のファイル名とパス\n",
        "file_to_process = \"7_1_20180411.cnt\"\n",
        "file_path = \"/content/drive/MyDrive/SEEDV/EEG_raw/7_1_20180411.cnt\"\n",
        "\n",
        "# サンプリング周波数\n",
        "sfreq = 200\n"
      ],
      "metadata": {
        "id": "byTGS_-ucw25"
      },
      "execution_count": 16,
      "outputs": []
    },
    {
      "cell_type": "code",
      "source": [
        "# 不要なチャンネルのリスト\n",
        "useless_ch = ['M1', 'M2', 'VEO', 'HEO', 'EKG', 'ECG']\n",
        "\n",
        "# 標準チャンネル順序\n",
        "chOrder_standard = [\n",
        "    'FP1', 'FPZ', 'FP2', 'AF3', 'AF4', 'F7', 'F5', 'F3', 'F1', 'FZ', 'F2', 'F4', 'F6', 'F8',\n",
        "    'FT7', 'FC5', 'FC3', 'FC1', 'FCZ', 'FC2', 'FC4', 'FC6', 'FT8', 'T7', 'C5', 'C3', 'C1',\n",
        "    'CZ', 'C2', 'C4', 'C6', 'T8', 'TP7', 'CP5', 'CP3', 'CP1', 'CPZ', 'CP2', 'CP4', 'CP6',\n",
        "    'TP8', 'P7', 'P5', 'P3', 'P1', 'PZ', 'P2', 'P4', 'P6', 'P8', 'PO7', 'PO5', 'PO3', 'POZ',\n",
        "    'PO4', 'PO6', 'PO8', 'CB1', 'O1', 'OZ', 'O2', 'CB2'\n",
        "]\n",
        "\n",
        "# トライアル境界（秒単位）\n",
        "session_starts = {\n",
        "    1: [30, 132, 287, 555, 773, 982, 1271, 1628, 1730, 2025, 2227, 2435, 2667, 2932, 3204],\n",
        "    2: [30, 299, 548, 646, 836, 1000, 1091, 1392, 1657, 1809, 1966, 2186, 2333, 2490, 2741],\n",
        "    3: [30, 353, 478, 674, 825, 908, 1200, 1346, 1451, 1711, 2055, 2307, 2457, 2726, 2888]\n",
        "}\n",
        "session_ends = {\n",
        "    1: [102, 228, 524, 742, 920, 1240, 1568, 1697, 1994, 2166, 2401, 2607, 2901, 3172, 3359],\n",
        "    2: [267, 488, 614, 773, 967, 1059, 1331, 1622, 1777, 1908, 2153, 2302, 2428, 2709, 2817],\n",
        "    3: [321, 418, 643, 764, 877, 1147, 1284, 1418, 1679, 1996, 2275, 2425, 2664, 2857, 3066]\n",
        "}\n",
        "\n",
        "# セッションごとの感情ラベル\n",
        "emotions_session1 = [\"happy\", \"fear\", \"neutral\", \"sad\", \"disgust\", \"happy\", \"fear\", \"neutral\", \"sad\", \"disgust\", \"happy\", \"fear\", \"neutral\", \"sad\", \"disgust\"]\n",
        "emotions_session2 = [\"sad\", \"fear\", \"neutral\", \"disgust\", \"happy\", \"happy\", \"disgust\", \"neutral\", \"sad\", \"fear\", \"neutral\", \"happy\", \"fear\", \"sad\", \"disgust\"]\n",
        "emotions_session3 = [\"sad\", \"fear\", \"neutral\", \"disgust\", \"happy\", \"happy\", \"disgust\", \"neutral\", \"sad\", \"fear\", \"neutral\", \"happy\", \"fear\", \"sad\", \"disgust\"]\n",
        "\n",
        "# 感情ラベルのマッピング\n",
        "emo2id = {\"disgust\": 0, \"fear\": 1, \"sad\": 2, \"neutral\": 3, \"happy\": 4}\n",
        "\n",
        "# スキップされたファイルを記録するリスト\n",
        "skipped_files = []\n",
        "processed_files_count = 0\n",
        "\n",
        "# 新しく生成された.pklファイルを記録するリスト\n",
        "new_pkl_files = []\n",
        "\n",
        "# スクリプトの開始をログに記録\n",
        "logger.info(f\"EEGデータ処理を開始します。対象ファイル: {file_to_process}\")\n",
        "\n",
        "# ファイルが存在するか確認\n",
        "if not os.path.exists(file_path):\n",
        "    logger.error(f\"ファイルが存在しません: {file_path}. スキップします。\")\n",
        "    skipped_files.append(file_to_process)\n",
        "else:\n",
        "    fname = os.path.basename(file_path)\n",
        "    parts = fname.split('_')\n",
        "\n",
        "    # ファイル名から被験者IDとセッションIDを解析\n",
        "    if len(parts) < 3:\n",
        "        logger.warning(f\"Filename {fname} does not conform to expected format. Skipping this file.\")\n",
        "        skipped_files.append(fname)\n",
        "    else:\n",
        "        subject_id = parts[0]\n",
        "        try:\n",
        "            ses_id = int(parts[1])\n",
        "        except ValueError:\n",
        "            logger.warning(f\"Session ID in filename {fname} is not an integer. Skipping this file.\")\n",
        "            skipped_files.append(fname)\n",
        "            ses_id = None\n",
        "\n",
        "        # 日付部分を抽出（例：7_1_20180411.cnt -> 20180411）\n",
        "        date_str = parts[-1].split('.')[0]\n",
        "        try:\n",
        "            meas_datetime = datetime.strptime(date_str, '%Y%m%d')\n",
        "        except ValueError as e:\n",
        "            logger.warning(f\"Date parsing failed for {fname}: {e}. Setting meas_date to None.\")\n",
        "            meas_datetime = None\n",
        "\n",
        "        if ses_id is not None:\n",
        "            # セッションIDに対応する開始・終了時間を取得\n",
        "            starts = session_starts.get(ses_id)\n",
        "            ends = session_ends.get(ses_id)\n",
        "            if not starts or not ends:\n",
        "                logger.warning(f\"No session boundaries defined for session {ses_id} in {fname}. Skipping.\")\n",
        "                skipped_files.append(fname)\n",
        "            else:\n",
        "                # セッションに対応する感情ラベルの取得\n",
        "                emotions = {\n",
        "                    1: emotions_session1,\n",
        "                    2: emotions_session2,\n",
        "                    3: emotions_session3\n",
        "                }.get(ses_id, [])\n",
        "\n",
        "                if len(emotions) != 15:\n",
        "                    logger.warning(f\"Emotion list length mismatch for session {ses_id} in {fname}. Skipping.\")\n",
        "                    skipped_files.append(fname)\n",
        "                else:\n",
        "                    # .cntファイルの読み込み（date_formatとdata_formatを適切に処理）\n",
        "                    read_success = False\n",
        "                    for fmt in ['mm/dd/yy', 'dd/mm/yy']:  # 'auto'を除外\n",
        "                        for data_fmt in ['int16', 'int32']:  # 'auto'と'float32'を除外\n",
        "                            try:\n",
        "                                raw = mne.io.read_raw_cnt(\n",
        "                                    file_path,\n",
        "                                    preload=True,\n",
        "                                    date_format=fmt,\n",
        "                                    data_format=data_fmt,\n",
        "                                    verbose='WARNING'  # 警告を表示\n",
        "                                )\n",
        "                                logger.info(f\"Successfully loaded {fname} with date_format='{fmt}' and data_format='{data_fmt}'.\")\n",
        "                                read_success = True\n",
        "                                break\n",
        "                            except ValueError as e:\n",
        "                                logger.warning(f\"Failed to load {fname} with date_format='{fmt}' and data_format='{data_fmt}': {e}. Trying next format.\")\n",
        "                            except Exception as e:\n",
        "                                logger.error(f\"Unexpected error while loading {fname} with date_format='{fmt}' and data_format='{data_fmt}': {e}.\")\n",
        "                                break  # その他のエラーの場合はループを抜ける\n",
        "                        if read_success:\n",
        "                            break\n",
        "\n",
        "                    if not read_success:\n",
        "                        logger.error(f\"Failed to load {fname} with any supported date_format and data_format. Skipping this file.\")\n",
        "                        skipped_files.append(fname)\n",
        "                    else:\n",
        "                        # 測定日が設定されていない場合、手動で設定\n",
        "                        if raw.info['meas_date'] is None and meas_datetime is not None:\n",
        "                            try:\n",
        "                                # meas_datetime を UTC に変換\n",
        "                                meas_datetime_utc = meas_datetime.replace(tzinfo=timezone.utc)\n",
        "                                # Unixタイムスタンプ（秒）を取得\n",
        "                                meas_timestamp = meas_datetime_utc.timestamp()\n",
        "                                raw.set_meas_date(meas_timestamp)\n",
        "                                logger.info(f\"Set meas_date for {fname} to {meas_datetime_utc} (UTC).\")\n",
        "                            except Exception as e:\n",
        "                                logger.warning(f\"Failed to set meas_date for {fname}: {e}. Proceeding without it.\")\n",
        "                        elif raw.info['meas_date'] is None and meas_datetime is None:\n",
        "                            logger.info(f\"meas_date is not set for {fname}, proceeding without it.\")\n",
        "\n",
        "                        # 不要チャンネル除去\n",
        "                        available_ch = raw.ch_names\n",
        "                        drop_ch = [ch for ch in useless_ch if ch in available_ch]\n",
        "                        if drop_ch:\n",
        "                            raw.drop_channels(drop_ch)\n",
        "                            logger.info(f\"Dropped channels {drop_ch} from {fname}.\")\n",
        "\n",
        "                        # 必要チャンネル確認\n",
        "                        missing_ch = [ch for ch in chOrder_standard if ch not in raw.ch_names]\n",
        "                        if missing_ch:\n",
        "                            logger.warning(f\"Missing channels {missing_ch} in {fname}. Skipping this file.\")\n",
        "                            skipped_files.append(fname)\n",
        "                        else:\n",
        "                            # チャンネル並び替え\n",
        "                            try:\n",
        "                                raw.reorder_channels(chOrder_standard)\n",
        "                                logger.info(f\"Reordered channels for {fname}.\")\n",
        "                            except Exception as e:\n",
        "                                logger.error(f\"Failed to reorder channels for {fname}: {e}. Skipping this file.\")\n",
        "                                skipped_files.append(fname)\n",
        "\n",
        "                            # フィルタリング\n",
        "                            try:\n",
        "                                logger.info(f\"Filtering raw data for {fname}: Band-pass 0.1 - 75 Hz, Notch 50 Hz\")\n",
        "                                raw.filter(l_freq=0.1, h_freq=75.0, fir_design='firwin')\n",
        "                                raw.notch_filter(freqs=50.0, fir_design='firwin')\n",
        "                                raw.resample(sfreq, n_jobs=1)\n",
        "                                data = raw.get_data(units='uV')\n",
        "                                logger.info(f\"Filtered and resampled data for {fname}.\")\n",
        "                            except Exception as e:\n",
        "                                logger.error(f\"Filtering or resampling failed for {fname}: {e}. Skipping this file.\")\n",
        "                                skipped_files.append(fname)\n",
        "\n",
        "                            # 各トライアルの処理\n",
        "                            try:\n",
        "                                for t_i in range(15):\n",
        "                                    start_sample = starts[t_i] * sfreq\n",
        "                                    end_sample = ends[t_i] * sfreq\n",
        "                                    trial_data = data[:, start_sample:end_sample]\n",
        "                                    y = emo2id.get(emotions[t_i], -1)\n",
        "                                    if y == -1:\n",
        "                                        logger.warning(f\"Unknown emotion '{emotions[t_i]}' in {fname}. Skipping trial.\")\n",
        "                                        continue\n",
        "\n",
        "                                    length = trial_data.shape[1]\n",
        "                                    num_segments = length // 200\n",
        "\n",
        "                                    trial_id = t_i + 1\n",
        "                                    if trial_id <= 5:\n",
        "                                        split_folder = \"processed_train\"\n",
        "                                    elif trial_id <= 10:\n",
        "                                        split_folder = \"processed_eval\"\n",
        "                                    else:\n",
        "                                        split_folder = \"processed_test\"\n",
        "\n",
        "                                    for seg_i in range(num_segments):\n",
        "                                        seg_data = trial_data[:, seg_i * 200:(seg_i + 1) * 200]\n",
        "                                        sample_dict = {\"X\": seg_data, \"y\": y, \"ch_names\": chOrder_standard}\n",
        "                                        out_name = f\"{subject_id}_{ses_id}_{trial_id}_{seg_i}.pkl\"\n",
        "                                        out_path = os.path.join(output_dir, split_folder, out_name)\n",
        "                                        with open(out_path, \"wb\") as f:\n",
        "                                            pickle.dump(sample_dict, f)\n",
        "                                        logger.info(f\"Processed trial {trial_id}, segment {seg_i} of {fname}.\")\n",
        "                                        new_pkl_files.append(out_path)\n",
        "                                processed_files_count += 1\n",
        "                                logger.info(f\"Successfully processed {fname}.\")\n",
        "                            except IndexError as e:\n",
        "                                logger.error(f\"Index error in trial {t_i+1} for {fname}: {e}. Skipping this trial.\")\n",
        "                            except Exception as e:\n",
        "                                logger.error(f\"Unexpected error in trial {t_i+1} for {fname}: {e}. Skipping this trial.\")\n"
      ],
      "metadata": {
        "colab": {
          "base_uri": "https://localhost:8080/"
        },
        "id": "nHGnxz17cyqv",
        "outputId": "57313a1a-7e70-40d2-c129-6bbd0c574ff5"
      },
      "execution_count": 17,
      "outputs": [
        {
          "output_type": "stream",
          "name": "stderr",
          "text": [
            "2024-12-09 08:09:27,403 - INFO - EEGデータ処理を開始します。対象ファイル: 7_1_20180411.cnt\n",
            "INFO:EEG_Processing_Specific_File:EEGデータ処理を開始します。対象ファイル: 7_1_20180411.cnt\n",
            "2024-12-09 08:10:50,561 - WARNING - Failed to load 7_1_20180411.cnt with date_format='mm/dd/yy' and data_format='int16': cannot reshape array of size 15773870 into shape (757575,66,1). Trying next format.\n",
            "WARNING:EEG_Processing_Specific_File:Failed to load 7_1_20180411.cnt with date_format='mm/dd/yy' and data_format='int16': cannot reshape array of size 15773870 into shape (757575,66,1). Trying next format.\n",
            "2024-12-09 08:11:50,020 - WARNING - Failed to load 7_1_20180411.cnt with date_format='mm/dd/yy' and data_format='int32': cannot reshape array of size 7887232 into shape (378787,66,1). Trying next format.\n",
            "WARNING:EEG_Processing_Specific_File:Failed to load 7_1_20180411.cnt with date_format='mm/dd/yy' and data_format='int32': cannot reshape array of size 7887232 into shape (378787,66,1). Trying next format.\n",
            "2024-12-09 08:12:56,091 - WARNING - Failed to load 7_1_20180411.cnt with date_format='dd/mm/yy' and data_format='int16': cannot reshape array of size 15773870 into shape (757575,66,1). Trying next format.\n",
            "WARNING:EEG_Processing_Specific_File:Failed to load 7_1_20180411.cnt with date_format='dd/mm/yy' and data_format='int16': cannot reshape array of size 15773870 into shape (757575,66,1). Trying next format.\n",
            "2024-12-09 08:13:53,719 - WARNING - Failed to load 7_1_20180411.cnt with date_format='dd/mm/yy' and data_format='int32': cannot reshape array of size 7887232 into shape (378787,66,1). Trying next format.\n",
            "WARNING:EEG_Processing_Specific_File:Failed to load 7_1_20180411.cnt with date_format='dd/mm/yy' and data_format='int32': cannot reshape array of size 7887232 into shape (378787,66,1). Trying next format.\n",
            "2024-12-09 08:13:53,866 - ERROR - Failed to load 7_1_20180411.cnt with any supported date_format and data_format. Skipping this file.\n",
            "ERROR:EEG_Processing_Specific_File:Failed to load 7_1_20180411.cnt with any supported date_format and data_format. Skipping this file.\n"
          ]
        }
      ]
    },
    {
      "cell_type": "code",
      "source": [],
      "metadata": {
        "id": "rJhybF5lc0AG"
      },
      "execution_count": null,
      "outputs": []
    }
  ]
}